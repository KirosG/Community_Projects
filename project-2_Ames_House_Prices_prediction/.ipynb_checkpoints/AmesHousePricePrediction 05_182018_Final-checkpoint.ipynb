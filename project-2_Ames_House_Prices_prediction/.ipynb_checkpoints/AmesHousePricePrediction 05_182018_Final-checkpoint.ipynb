{
 "cells": [
  {
   "cell_type": "markdown",
   "metadata": {},
   "source": [
    "# Ames Housing Prices Prediction"
   ]
  },
  {
   "cell_type": "markdown",
   "metadata": {},
   "source": [
    "In this notebook, I plan to show how to clean, explore, analyze and predict home prices based on permanent house qualities. I used only Linearrgression using total home sqrft ratio with overall qaulity of the house \n",
    "\n",
    "This notebook uses [data from Kaggle](https://www.kaggle.com/c/dsi-us-4-project-2-regression-challenge/data).\n",
    "\n",
    "This is the final submitted [submitted  to Kaggle](https://www.kaggle.com/c/dsi-us-4-project-2-regression-challenge/leaderboard). "
   ]
  },
  {
   "cell_type": "code",
   "execution_count": 60,
   "metadata": {},
   "outputs": [],
   "source": [
    "# This file provide a basic exploration of ames house price dataset\n",
    "# import necessary Libraries\n",
    "import pandas as pd\n",
    "import numpy as np\n",
    "import matplotlib.pyplot as plt\n",
    "import mpl_toolkits\n",
    "import seaborn as sns\n",
    "from sklearn import datasets\n",
    "from sklearn.linear_model import LinearRegression\n",
    "from sklearn.linear_model import LogisticRegression\n",
    "from sklearn.preprocessing import PolynomialFeatures,StandardScaler\n",
    "import scipy.stats\n",
    "from patsy import dmatrices\n",
    "from sklearn.cross_validation import train_test_split, cross_val_score\n",
    "from sklearn import metrics\n",
    "import sqlite3\n",
    "import os \n",
    "import csv\n",
    "# Configure visual settings:\n",
    "%matplotlib inline\n",
    "sns.set_style('whitegrid')\n",
    "plt.rcParams['figure.figsize'] = (10.0, 8.0) \n",
    "plt.style.use('ggplot')\n",
    "np.random.seed(42)\n",
    "sns.set()\n"
   ]
  },
  {
   "cell_type": "markdown",
   "metadata": {},
   "source": [
    "# Loading the data and EDA"
   ]
  },
  {
   "cell_type": "code",
   "execution_count": 2,
   "metadata": {
    "scrolled": true
   },
   "outputs": [
    {
     "data": {
      "text/html": [
       "<div>\n",
       "<style scoped>\n",
       "    .dataframe tbody tr th:only-of-type {\n",
       "        vertical-align: middle;\n",
       "    }\n",
       "\n",
       "    .dataframe tbody tr th {\n",
       "        vertical-align: top;\n",
       "    }\n",
       "\n",
       "    .dataframe thead th {\n",
       "        text-align: right;\n",
       "    }\n",
       "</style>\n",
       "<table border=\"1\" class=\"dataframe\">\n",
       "  <thead>\n",
       "    <tr style=\"text-align: right;\">\n",
       "      <th></th>\n",
       "      <th>PID</th>\n",
       "      <th>MSSubClass</th>\n",
       "      <th>MSZoning</th>\n",
       "      <th>LotFrontage</th>\n",
       "      <th>LotArea</th>\n",
       "      <th>Street</th>\n",
       "      <th>Alley</th>\n",
       "      <th>LotShape</th>\n",
       "      <th>LandContour</th>\n",
       "      <th>Utilities</th>\n",
       "      <th>...</th>\n",
       "      <th>ScreenPorch</th>\n",
       "      <th>PoolArea</th>\n",
       "      <th>PoolQC</th>\n",
       "      <th>Fence</th>\n",
       "      <th>MiscFeature</th>\n",
       "      <th>MiscVal</th>\n",
       "      <th>MoSold</th>\n",
       "      <th>YrSold</th>\n",
       "      <th>SaleType</th>\n",
       "      <th>SalePrice</th>\n",
       "    </tr>\n",
       "    <tr>\n",
       "      <th>Id</th>\n",
       "      <th></th>\n",
       "      <th></th>\n",
       "      <th></th>\n",
       "      <th></th>\n",
       "      <th></th>\n",
       "      <th></th>\n",
       "      <th></th>\n",
       "      <th></th>\n",
       "      <th></th>\n",
       "      <th></th>\n",
       "      <th></th>\n",
       "      <th></th>\n",
       "      <th></th>\n",
       "      <th></th>\n",
       "      <th></th>\n",
       "      <th></th>\n",
       "      <th></th>\n",
       "      <th></th>\n",
       "      <th></th>\n",
       "      <th></th>\n",
       "      <th></th>\n",
       "    </tr>\n",
       "  </thead>\n",
       "  <tbody>\n",
       "    <tr>\n",
       "      <th>109</th>\n",
       "      <td>533352170</td>\n",
       "      <td>60</td>\n",
       "      <td>RL</td>\n",
       "      <td>NaN</td>\n",
       "      <td>13517</td>\n",
       "      <td>Pave</td>\n",
       "      <td>NaN</td>\n",
       "      <td>IR1</td>\n",
       "      <td>Lvl</td>\n",
       "      <td>AllPub</td>\n",
       "      <td>...</td>\n",
       "      <td>0</td>\n",
       "      <td>0</td>\n",
       "      <td>NaN</td>\n",
       "      <td>NaN</td>\n",
       "      <td>NaN</td>\n",
       "      <td>0</td>\n",
       "      <td>3</td>\n",
       "      <td>2010</td>\n",
       "      <td>WD</td>\n",
       "      <td>130500</td>\n",
       "    </tr>\n",
       "    <tr>\n",
       "      <th>544</th>\n",
       "      <td>531379050</td>\n",
       "      <td>60</td>\n",
       "      <td>RL</td>\n",
       "      <td>43.0</td>\n",
       "      <td>11492</td>\n",
       "      <td>Pave</td>\n",
       "      <td>NaN</td>\n",
       "      <td>IR1</td>\n",
       "      <td>Lvl</td>\n",
       "      <td>AllPub</td>\n",
       "      <td>...</td>\n",
       "      <td>0</td>\n",
       "      <td>0</td>\n",
       "      <td>NaN</td>\n",
       "      <td>NaN</td>\n",
       "      <td>NaN</td>\n",
       "      <td>0</td>\n",
       "      <td>4</td>\n",
       "      <td>2009</td>\n",
       "      <td>WD</td>\n",
       "      <td>220000</td>\n",
       "    </tr>\n",
       "    <tr>\n",
       "      <th>153</th>\n",
       "      <td>535304180</td>\n",
       "      <td>20</td>\n",
       "      <td>RL</td>\n",
       "      <td>68.0</td>\n",
       "      <td>7922</td>\n",
       "      <td>Pave</td>\n",
       "      <td>NaN</td>\n",
       "      <td>Reg</td>\n",
       "      <td>Lvl</td>\n",
       "      <td>AllPub</td>\n",
       "      <td>...</td>\n",
       "      <td>0</td>\n",
       "      <td>0</td>\n",
       "      <td>NaN</td>\n",
       "      <td>NaN</td>\n",
       "      <td>NaN</td>\n",
       "      <td>0</td>\n",
       "      <td>1</td>\n",
       "      <td>2010</td>\n",
       "      <td>WD</td>\n",
       "      <td>109000</td>\n",
       "    </tr>\n",
       "    <tr>\n",
       "      <th>318</th>\n",
       "      <td>916386060</td>\n",
       "      <td>60</td>\n",
       "      <td>RL</td>\n",
       "      <td>73.0</td>\n",
       "      <td>9802</td>\n",
       "      <td>Pave</td>\n",
       "      <td>NaN</td>\n",
       "      <td>Reg</td>\n",
       "      <td>Lvl</td>\n",
       "      <td>AllPub</td>\n",
       "      <td>...</td>\n",
       "      <td>0</td>\n",
       "      <td>0</td>\n",
       "      <td>NaN</td>\n",
       "      <td>NaN</td>\n",
       "      <td>NaN</td>\n",
       "      <td>0</td>\n",
       "      <td>4</td>\n",
       "      <td>2010</td>\n",
       "      <td>WD</td>\n",
       "      <td>174000</td>\n",
       "    </tr>\n",
       "    <tr>\n",
       "      <th>255</th>\n",
       "      <td>906425045</td>\n",
       "      <td>50</td>\n",
       "      <td>RL</td>\n",
       "      <td>82.0</td>\n",
       "      <td>14235</td>\n",
       "      <td>Pave</td>\n",
       "      <td>NaN</td>\n",
       "      <td>IR1</td>\n",
       "      <td>Lvl</td>\n",
       "      <td>AllPub</td>\n",
       "      <td>...</td>\n",
       "      <td>0</td>\n",
       "      <td>0</td>\n",
       "      <td>NaN</td>\n",
       "      <td>NaN</td>\n",
       "      <td>NaN</td>\n",
       "      <td>0</td>\n",
       "      <td>3</td>\n",
       "      <td>2010</td>\n",
       "      <td>WD</td>\n",
       "      <td>138500</td>\n",
       "    </tr>\n",
       "  </tbody>\n",
       "</table>\n",
       "<p>5 rows × 80 columns</p>\n",
       "</div>"
      ],
      "text/plain": [
       "           PID  MSSubClass MSZoning  LotFrontage  LotArea Street Alley  \\\n",
       "Id                                                                       \n",
       "109  533352170          60       RL          NaN    13517   Pave   NaN   \n",
       "544  531379050          60       RL         43.0    11492   Pave   NaN   \n",
       "153  535304180          20       RL         68.0     7922   Pave   NaN   \n",
       "318  916386060          60       RL         73.0     9802   Pave   NaN   \n",
       "255  906425045          50       RL         82.0    14235   Pave   NaN   \n",
       "\n",
       "    LotShape LandContour Utilities    ...     ScreenPorch PoolArea PoolQC  \\\n",
       "Id                                    ...                                   \n",
       "109      IR1         Lvl    AllPub    ...               0        0    NaN   \n",
       "544      IR1         Lvl    AllPub    ...               0        0    NaN   \n",
       "153      Reg         Lvl    AllPub    ...               0        0    NaN   \n",
       "318      Reg         Lvl    AllPub    ...               0        0    NaN   \n",
       "255      IR1         Lvl    AllPub    ...               0        0    NaN   \n",
       "\n",
       "    Fence MiscFeature MiscVal MoSold  YrSold  SaleType  SalePrice  \n",
       "Id                                                                 \n",
       "109   NaN         NaN       0      3    2010       WD      130500  \n",
       "544   NaN         NaN       0      4    2009       WD      220000  \n",
       "153   NaN         NaN       0      1    2010       WD      109000  \n",
       "318   NaN         NaN       0      4    2010       WD      174000  \n",
       "255   NaN         NaN       0      3    2010       WD      138500  \n",
       "\n",
       "[5 rows x 80 columns]"
      ]
     },
     "execution_count": 2,
     "metadata": {},
     "output_type": "execute_result"
    }
   ],
   "source": [
    "# load the data, which is given in csv format in Kaggle for both train and test\n",
    "df = pd.read_csv('./data/train.csv', index_col ='Id')\n",
    "test = pd.read_csv('./data/test.csv')\n",
    "#keep NA as NA for dummies\n",
    "df.head()"
   ]
  },
  {
   "cell_type": "code",
   "execution_count": 3,
   "metadata": {},
   "outputs": [
    {
     "data": {
      "text/html": [
       "<div>\n",
       "<style scoped>\n",
       "    .dataframe tbody tr th:only-of-type {\n",
       "        vertical-align: middle;\n",
       "    }\n",
       "\n",
       "    .dataframe tbody tr th {\n",
       "        vertical-align: top;\n",
       "    }\n",
       "\n",
       "    .dataframe thead th {\n",
       "        text-align: right;\n",
       "    }\n",
       "</style>\n",
       "<table border=\"1\" class=\"dataframe\">\n",
       "  <thead>\n",
       "    <tr style=\"text-align: right;\">\n",
       "      <th></th>\n",
       "      <th>Id</th>\n",
       "      <th>PID</th>\n",
       "      <th>MSSubClass</th>\n",
       "      <th>MSZoning</th>\n",
       "      <th>LotFrontage</th>\n",
       "      <th>LotArea</th>\n",
       "      <th>Street</th>\n",
       "      <th>Alley</th>\n",
       "      <th>LotShape</th>\n",
       "      <th>LandContour</th>\n",
       "      <th>...</th>\n",
       "      <th>3SsnPorch</th>\n",
       "      <th>ScreenPorch</th>\n",
       "      <th>PoolArea</th>\n",
       "      <th>PoolQC</th>\n",
       "      <th>Fence</th>\n",
       "      <th>MiscFeature</th>\n",
       "      <th>MiscVal</th>\n",
       "      <th>MoSold</th>\n",
       "      <th>YrSold</th>\n",
       "      <th>SaleType</th>\n",
       "    </tr>\n",
       "  </thead>\n",
       "  <tbody>\n",
       "    <tr>\n",
       "      <th>0</th>\n",
       "      <td>2658</td>\n",
       "      <td>902301120</td>\n",
       "      <td>190</td>\n",
       "      <td>RM</td>\n",
       "      <td>69.0</td>\n",
       "      <td>9142</td>\n",
       "      <td>Pave</td>\n",
       "      <td>Grvl</td>\n",
       "      <td>Reg</td>\n",
       "      <td>Lvl</td>\n",
       "      <td>...</td>\n",
       "      <td>0</td>\n",
       "      <td>0</td>\n",
       "      <td>0</td>\n",
       "      <td>NaN</td>\n",
       "      <td>NaN</td>\n",
       "      <td>NaN</td>\n",
       "      <td>0</td>\n",
       "      <td>4</td>\n",
       "      <td>2006</td>\n",
       "      <td>WD</td>\n",
       "    </tr>\n",
       "    <tr>\n",
       "      <th>1</th>\n",
       "      <td>2718</td>\n",
       "      <td>905108090</td>\n",
       "      <td>90</td>\n",
       "      <td>RL</td>\n",
       "      <td>NaN</td>\n",
       "      <td>9662</td>\n",
       "      <td>Pave</td>\n",
       "      <td>NaN</td>\n",
       "      <td>IR1</td>\n",
       "      <td>Lvl</td>\n",
       "      <td>...</td>\n",
       "      <td>0</td>\n",
       "      <td>0</td>\n",
       "      <td>0</td>\n",
       "      <td>NaN</td>\n",
       "      <td>NaN</td>\n",
       "      <td>NaN</td>\n",
       "      <td>0</td>\n",
       "      <td>8</td>\n",
       "      <td>2006</td>\n",
       "      <td>WD</td>\n",
       "    </tr>\n",
       "    <tr>\n",
       "      <th>2</th>\n",
       "      <td>2414</td>\n",
       "      <td>528218130</td>\n",
       "      <td>60</td>\n",
       "      <td>RL</td>\n",
       "      <td>58.0</td>\n",
       "      <td>17104</td>\n",
       "      <td>Pave</td>\n",
       "      <td>NaN</td>\n",
       "      <td>IR1</td>\n",
       "      <td>Lvl</td>\n",
       "      <td>...</td>\n",
       "      <td>0</td>\n",
       "      <td>0</td>\n",
       "      <td>0</td>\n",
       "      <td>NaN</td>\n",
       "      <td>NaN</td>\n",
       "      <td>NaN</td>\n",
       "      <td>0</td>\n",
       "      <td>9</td>\n",
       "      <td>2006</td>\n",
       "      <td>New</td>\n",
       "    </tr>\n",
       "    <tr>\n",
       "      <th>3</th>\n",
       "      <td>1989</td>\n",
       "      <td>902207150</td>\n",
       "      <td>30</td>\n",
       "      <td>RM</td>\n",
       "      <td>60.0</td>\n",
       "      <td>8520</td>\n",
       "      <td>Pave</td>\n",
       "      <td>NaN</td>\n",
       "      <td>Reg</td>\n",
       "      <td>Lvl</td>\n",
       "      <td>...</td>\n",
       "      <td>0</td>\n",
       "      <td>0</td>\n",
       "      <td>0</td>\n",
       "      <td>NaN</td>\n",
       "      <td>NaN</td>\n",
       "      <td>NaN</td>\n",
       "      <td>0</td>\n",
       "      <td>7</td>\n",
       "      <td>2007</td>\n",
       "      <td>WD</td>\n",
       "    </tr>\n",
       "    <tr>\n",
       "      <th>4</th>\n",
       "      <td>625</td>\n",
       "      <td>535105100</td>\n",
       "      <td>20</td>\n",
       "      <td>RL</td>\n",
       "      <td>NaN</td>\n",
       "      <td>9500</td>\n",
       "      <td>Pave</td>\n",
       "      <td>NaN</td>\n",
       "      <td>IR1</td>\n",
       "      <td>Lvl</td>\n",
       "      <td>...</td>\n",
       "      <td>0</td>\n",
       "      <td>185</td>\n",
       "      <td>0</td>\n",
       "      <td>NaN</td>\n",
       "      <td>NaN</td>\n",
       "      <td>NaN</td>\n",
       "      <td>0</td>\n",
       "      <td>7</td>\n",
       "      <td>2009</td>\n",
       "      <td>WD</td>\n",
       "    </tr>\n",
       "  </tbody>\n",
       "</table>\n",
       "<p>5 rows × 80 columns</p>\n",
       "</div>"
      ],
      "text/plain": [
       "     Id        PID  MSSubClass MSZoning  LotFrontage  LotArea Street Alley  \\\n",
       "0  2658  902301120         190       RM         69.0     9142   Pave  Grvl   \n",
       "1  2718  905108090          90       RL          NaN     9662   Pave   NaN   \n",
       "2  2414  528218130          60       RL         58.0    17104   Pave   NaN   \n",
       "3  1989  902207150          30       RM         60.0     8520   Pave   NaN   \n",
       "4   625  535105100          20       RL          NaN     9500   Pave   NaN   \n",
       "\n",
       "  LotShape LandContour    ...    3SsnPorch ScreenPorch PoolArea PoolQC Fence  \\\n",
       "0      Reg         Lvl    ...            0           0        0    NaN   NaN   \n",
       "1      IR1         Lvl    ...            0           0        0    NaN   NaN   \n",
       "2      IR1         Lvl    ...            0           0        0    NaN   NaN   \n",
       "3      Reg         Lvl    ...            0           0        0    NaN   NaN   \n",
       "4      IR1         Lvl    ...            0         185        0    NaN   NaN   \n",
       "\n",
       "  MiscFeature MiscVal MoSold  YrSold  SaleType  \n",
       "0         NaN       0      4    2006       WD   \n",
       "1         NaN       0      8    2006       WD   \n",
       "2         NaN       0      9    2006       New  \n",
       "3         NaN       0      7    2007       WD   \n",
       "4         NaN       0      7    2009       WD   \n",
       "\n",
       "[5 rows x 80 columns]"
      ]
     },
     "execution_count": 3,
     "metadata": {},
     "output_type": "execute_result"
    }
   ],
   "source": [
    "test.head()"
   ]
  },
  {
   "cell_type": "code",
   "execution_count": 4,
   "metadata": {},
   "outputs": [
    {
     "data": {
      "text/plain": [
       "(879, 80)"
      ]
     },
     "execution_count": 4,
     "metadata": {},
     "output_type": "execute_result"
    }
   ],
   "source": [
    "test.shape"
   ]
  },
  {
   "cell_type": "code",
   "execution_count": 5,
   "metadata": {},
   "outputs": [
    {
     "data": {
      "text/plain": [
       "Index(['PID', 'MSSubClass', 'MSZoning', 'LotFrontage', 'LotArea', 'Street',\n",
       "       'Alley', 'LotShape', 'LandContour', 'Utilities', 'LotConfig',\n",
       "       'LandSlope', 'Neighborhood', 'Condition1', 'Condition2', 'BldgType',\n",
       "       'HouseStyle', 'OverallQual', 'OverallCond', 'YearBuilt',\n",
       "       'YearRemod/Add', 'RoofStyle', 'RoofMatl', 'Exterior1st', 'Exterior2nd',\n",
       "       'MasVnrType', 'MasVnrArea', 'ExterQual', 'ExterCond', 'Foundation',\n",
       "       'BsmtQual', 'BsmtCond', 'BsmtExposure', 'BsmtFinType1', 'BsmtFinSF1',\n",
       "       'BsmtFinType2', 'BsmtFinSF2', 'BsmtUnfSF', 'TotalBsmtSF', 'Heating',\n",
       "       'HeatingQC', 'CentralAir', 'Electrical', '1stFlrSF', '2ndFlrSF',\n",
       "       'LowQualFinSF', 'GrLivArea', 'BsmtFullBath', 'BsmtHalfBath', 'FullBath',\n",
       "       'HalfBath', 'BedroomAbvGr', 'KitchenAbvGr', 'KitchenQual',\n",
       "       'TotRmsAbvGrd', 'Functional', 'Fireplaces', 'FireplaceQu', 'GarageType',\n",
       "       'GarageYrBlt', 'GarageFinish', 'GarageCars', 'GarageArea', 'GarageQual',\n",
       "       'GarageCond', 'PavedDrive', 'WoodDeckSF', 'OpenPorchSF',\n",
       "       'EnclosedPorch', '3SsnPorch', 'ScreenPorch', 'PoolArea', 'PoolQC',\n",
       "       'Fence', 'MiscFeature', 'MiscVal', 'MoSold', 'YrSold', 'SaleType',\n",
       "       'SalePrice'],\n",
       "      dtype='object')"
      ]
     },
     "execution_count": 5,
     "metadata": {},
     "output_type": "execute_result"
    }
   ],
   "source": [
    "df.columns"
   ]
  },
  {
   "cell_type": "markdown",
   "metadata": {},
   "source": [
    "# clean Data and EDA"
   ]
  },
  {
   "cell_type": "markdown",
   "metadata": {},
   "source": [
    "# EDA PLots"
   ]
  },
  {
   "cell_type": "code",
   "execution_count": 6,
   "metadata": {},
   "outputs": [],
   "source": [
    "#Plotting the houses sold by month and with price\n",
    "#Reference: https://matplotlib.org/examples/pylab_examples/boxplot_demo.html\n",
    "# sns.boxplot(df.MoSold, df.SalePrice);"
   ]
  },
  {
   "cell_type": "code",
   "execution_count": 7,
   "metadata": {},
   "outputs": [
    {
     "data": {
      "text/plain": [
       "Text(0.5,1,'Final Sale Price Distribution')"
      ]
     },
     "execution_count": 7,
     "metadata": {},
     "output_type": "execute_result"
    },
    {
     "data": {
      "image/png": "[encoded data removed]",
      "text/plain": [
       "<Figure size 432x288 with 1 Axes>"
      ]
     },
     "metadata": {},
     "output_type": "display_data"
    }
   ],
   "source": [
    "# Sale Price Distribution\n",
    "\n",
    "plt.axvline(df['SalePrice'].mean(), c = 'g', alpha = .4)\n",
    "df['SalePrice'].hist(bins = 50)\n",
    "plt.xlabel('Price (USD)')\n",
    "plt.ylabel('Number of Housess')\n",
    "plt.title('Final Sale Price Distribution')"
   ]
  },
  {
   "cell_type": "code",
   "execution_count": 8,
   "metadata": {
    "scrolled": true
   },
   "outputs": [],
   "source": [
    "# plot median price by neighborhood\n",
    "# df = pd.DataFrame(df.groupby('Neighborhood')['SalePrice'].median().sort_values(ascending = False))\n",
    "# df.plot.barh(figsize = (8,5))\n",
    "# plt.xlabel('Price (USD)')\n",
    "# plt.title('Median Price of Home by Neighborhood')"
   ]
  },
  {
   "cell_type": "code",
   "execution_count": 9,
   "metadata": {},
   "outputs": [],
   "source": [
    "# sns.barplot(x = df.MoSold.value_counts().index, y = df.MoSold.value_counts());\n",
    "# plt.xlabel('Month');\n",
    "# plt.ylabel('Houses sold');\n",
    "# plt.title('Number of houses sold per month');"
   ]
  },
  {
   "cell_type": "code",
   "execution_count": 10,
   "metadata": {
    "scrolled": true
   },
   "outputs": [
    {
     "data": {
      "text/plain": [
       "(879, 80)"
      ]
     },
     "execution_count": 10,
     "metadata": {},
     "output_type": "execute_result"
    }
   ],
   "source": [
    "test.shape"
   ]
  },
  {
   "cell_type": "code",
   "execution_count": 11,
   "metadata": {},
   "outputs": [],
   "source": [
    "df = pd.read_csv('./data/train.csv', index_col ='Id')"
   ]
  },
  {
   "cell_type": "code",
   "execution_count": 12,
   "metadata": {},
   "outputs": [],
   "source": [
    "# Creating a feature \n",
    "X = df[['LotArea', 'Neighborhood','OverallQual','GarageArea','GrLivArea','ExterQual','BsmtQual','TotalBsmtSF','GarageQual','KitchenQual','YrSold',]]\n",
    "y= df['SalePrice']"
   ]
  },
  {
   "cell_type": "code",
   "execution_count": 13,
   "metadata": {},
   "outputs": [
    {
     "data": {
      "text/plain": [
       "LotArea           0\n",
       "Neighborhood      0\n",
       "OverallQual       0\n",
       "GarageArea        1\n",
       "GrLivArea         0\n",
       "ExterQual         0\n",
       "BsmtQual         55\n",
       "TotalBsmtSF       1\n",
       "GarageQual      114\n",
       "KitchenQual       0\n",
       "YrSold            0\n",
       "dtype: int64"
      ]
     },
     "execution_count": 13,
     "metadata": {},
     "output_type": "execute_result"
    }
   ],
   "source": [
    "# checking the null variables\n",
    "X.isnull().sum()"
   ]
  },
  {
   "cell_type": "code",
   "execution_count": 14,
   "metadata": {},
   "outputs": [],
   "source": [
    "# For further analysis we need to fill the null Values\n",
    "X = X.fillna(0)"
   ]
  },
  {
   "cell_type": "code",
   "execution_count": 15,
   "metadata": {},
   "outputs": [
    {
     "data": {
      "text/plain": [
       "False"
      ]
     },
     "execution_count": 15,
     "metadata": {},
     "output_type": "execute_result"
    }
   ],
   "source": [
    "# checking the existance of null values in our data using boolean method\n",
    "X.isnull().sum().any()"
   ]
  },
  {
   "cell_type": "code",
   "execution_count": 16,
   "metadata": {},
   "outputs": [
    {
     "data": {
      "text/plain": [
       "(2051, 11)"
      ]
     },
     "execution_count": 16,
     "metadata": {},
     "output_type": "execute_result"
    }
   ],
   "source": [
    "X.shape"
   ]
  },
  {
   "cell_type": "code",
   "execution_count": 17,
   "metadata": {},
   "outputs": [],
   "source": [
    "# create total sq feet var\n",
    "# DataFrame['home_lot_sqft_ratio'] = dataframe['total_sqft'] / df['LotArea']\n",
    "# TotalBsmtSF: Total square feet of basement area\n",
    "# GarageArea: Size of garage in square feet\n",
    "#GrLivArea: Above grade (ground) living area square feet\n",
    "\n",
    "X['total_sqft'] = X['TotalBsmtSF'] + X['GarageArea'] + df['GrLivArea']"
   ]
  },
  {
   "cell_type": "code",
   "execution_count": 18,
   "metadata": {},
   "outputs": [],
   "source": [
    "# then getting the home lot sqftratio using the above calculated and lot area\n",
    "##LotArea: Lot size in square feet\n",
    "X['home_lot_sqft_ratio'] = X['total_sqft'] / X['LotArea']"
   ]
  },
  {
   "cell_type": "code",
   "execution_count": 19,
   "metadata": {},
   "outputs": [
    {
     "name": "stdout",
     "output_type": "stream",
     "text": [
      "<class 'pandas.core.frame.DataFrame'>\n",
      "Int64Index: 2051 entries, 109 to 10\n",
      "Data columns (total 13 columns):\n",
      "LotArea                2051 non-null int64\n",
      "Neighborhood           2051 non-null object\n",
      "OverallQual            2051 non-null int64\n",
      "GarageArea             2051 non-null float64\n",
      "GrLivArea              2051 non-null int64\n",
      "ExterQual              2051 non-null object\n",
      "BsmtQual               2051 non-null object\n",
      "TotalBsmtSF            2051 non-null float64\n",
      "GarageQual             2051 non-null object\n",
      "KitchenQual            2051 non-null object\n",
      "YrSold                 2051 non-null int64\n",
      "total_sqft             2051 non-null float64\n",
      "home_lot_sqft_ratio    2051 non-null float64\n",
      "dtypes: float64(4), int64(4), object(5)\n",
      "memory usage: 224.3+ KB\n"
     ]
    }
   ],
   "source": [
    "X.info()"
   ]
  },
  {
   "cell_type": "code",
   "execution_count": 20,
   "metadata": {},
   "outputs": [
    {
     "data": {
      "text/plain": [
       "False"
      ]
     },
     "execution_count": 20,
     "metadata": {},
     "output_type": "execute_result"
    }
   ],
   "source": [
    "# checking null values \n",
    "X.isnull().sum().any() "
   ]
  },
  {
   "cell_type": "code",
   "execution_count": 21,
   "metadata": {},
   "outputs": [],
   "source": [
    "#  Using the OverallQuality of the home and the Total square feet ratio to determine sales price\n",
    "# However the overall quality : which is **Overall material and finish quality** \n",
    "#rated as 10 be very excellent and 1 very poor\n",
    "\n",
    "X= X[['home_lot_sqft_ratio', 'OverallQual']]"
   ]
  },
  {
   "cell_type": "code",
   "execution_count": 22,
   "metadata": {},
   "outputs": [
    {
     "data": {
      "text/plain": [
       "((2051, 2), (2051,))"
      ]
     },
     "execution_count": 22,
     "metadata": {},
     "output_type": "execute_result"
    }
   ],
   "source": [
    "# checking the shape similarity between features(X) and predict(y)\n",
    "X.shape,y.shape"
   ]
  },
  {
   "cell_type": "code",
   "execution_count": 23,
   "metadata": {},
   "outputs": [
    {
     "data": {
      "text/html": [
       "<div>\n",
       "<style scoped>\n",
       "    .dataframe tbody tr th:only-of-type {\n",
       "        vertical-align: middle;\n",
       "    }\n",
       "\n",
       "    .dataframe tbody tr th {\n",
       "        vertical-align: top;\n",
       "    }\n",
       "\n",
       "    .dataframe thead th {\n",
       "        text-align: right;\n",
       "    }\n",
       "</style>\n",
       "<table border=\"1\" class=\"dataframe\">\n",
       "  <thead>\n",
       "    <tr style=\"text-align: right;\">\n",
       "      <th></th>\n",
       "      <th>count</th>\n",
       "      <th>mean</th>\n",
       "      <th>std</th>\n",
       "      <th>min</th>\n",
       "      <th>25%</th>\n",
       "      <th>50%</th>\n",
       "      <th>75%</th>\n",
       "      <th>max</th>\n",
       "    </tr>\n",
       "  </thead>\n",
       "  <tbody>\n",
       "    <tr>\n",
       "      <th>home_lot_sqft_ratio</th>\n",
       "      <td>2051.0</td>\n",
       "      <td>0.365703</td>\n",
       "      <td>0.208565</td>\n",
       "      <td>0.025013</td>\n",
       "      <td>0.253439</td>\n",
       "      <td>0.319277</td>\n",
       "      <td>0.39529</td>\n",
       "      <td>1.732308</td>\n",
       "    </tr>\n",
       "    <tr>\n",
       "      <th>OverallQual</th>\n",
       "      <td>2051.0</td>\n",
       "      <td>6.112140</td>\n",
       "      <td>1.426271</td>\n",
       "      <td>1.000000</td>\n",
       "      <td>5.000000</td>\n",
       "      <td>6.000000</td>\n",
       "      <td>7.00000</td>\n",
       "      <td>10.000000</td>\n",
       "    </tr>\n",
       "  </tbody>\n",
       "</table>\n",
       "</div>"
      ],
      "text/plain": [
       "                      count      mean       std       min       25%       50%  \\\n",
       "home_lot_sqft_ratio  2051.0  0.365703  0.208565  0.025013  0.253439  0.319277   \n",
       "OverallQual          2051.0  6.112140  1.426271  1.000000  5.000000  6.000000   \n",
       "\n",
       "                         75%        max  \n",
       "home_lot_sqft_ratio  0.39529   1.732308  \n",
       "OverallQual          7.00000  10.000000  "
      ]
     },
     "execution_count": 23,
     "metadata": {},
     "output_type": "execute_result"
    }
   ],
   "source": [
    "#\n",
    "X.describe().T"
   ]
  },
  {
   "cell_type": "code",
   "execution_count": 24,
   "metadata": {},
   "outputs": [],
   "source": [
    "# Creating dummy variables, we often need to drop one so some of our\n",
    "# independent variables aren't perfectly dependent on one another.\n",
    "X = pd.get_dummies(X, columns=['OverallQual'], drop_first=True)"
   ]
  },
  {
   "cell_type": "code",
   "execution_count": 25,
   "metadata": {},
   "outputs": [
    {
     "data": {
      "text/html": [
       "<div>\n",
       "<style scoped>\n",
       "    .dataframe tbody tr th:only-of-type {\n",
       "        vertical-align: middle;\n",
       "    }\n",
       "\n",
       "    .dataframe tbody tr th {\n",
       "        vertical-align: top;\n",
       "    }\n",
       "\n",
       "    .dataframe thead th {\n",
       "        text-align: right;\n",
       "    }\n",
       "</style>\n",
       "<table border=\"1\" class=\"dataframe\">\n",
       "  <thead>\n",
       "    <tr style=\"text-align: right;\">\n",
       "      <th></th>\n",
       "      <th>home_lot_sqft_ratio</th>\n",
       "      <th>OverallQual_2</th>\n",
       "      <th>OverallQual_3</th>\n",
       "      <th>OverallQual_4</th>\n",
       "      <th>OverallQual_5</th>\n",
       "      <th>OverallQual_6</th>\n",
       "      <th>OverallQual_7</th>\n",
       "      <th>OverallQual_8</th>\n",
       "      <th>OverallQual_9</th>\n",
       "      <th>OverallQual_10</th>\n",
       "    </tr>\n",
       "    <tr>\n",
       "      <th>Id</th>\n",
       "      <th></th>\n",
       "      <th></th>\n",
       "      <th></th>\n",
       "      <th></th>\n",
       "      <th></th>\n",
       "      <th></th>\n",
       "      <th></th>\n",
       "      <th></th>\n",
       "      <th></th>\n",
       "      <th></th>\n",
       "    </tr>\n",
       "  </thead>\n",
       "  <tbody>\n",
       "    <tr>\n",
       "      <th>109</th>\n",
       "      <td>0.198195</td>\n",
       "      <td>0</td>\n",
       "      <td>0</td>\n",
       "      <td>0</td>\n",
       "      <td>0</td>\n",
       "      <td>1</td>\n",
       "      <td>0</td>\n",
       "      <td>0</td>\n",
       "      <td>0</td>\n",
       "      <td>0</td>\n",
       "    </tr>\n",
       "    <tr>\n",
       "      <th>544</th>\n",
       "      <td>0.312739</td>\n",
       "      <td>0</td>\n",
       "      <td>0</td>\n",
       "      <td>0</td>\n",
       "      <td>0</td>\n",
       "      <td>0</td>\n",
       "      <td>1</td>\n",
       "      <td>0</td>\n",
       "      <td>0</td>\n",
       "      <td>0</td>\n",
       "    </tr>\n",
       "    <tr>\n",
       "      <th>153</th>\n",
       "      <td>0.297905</td>\n",
       "      <td>0</td>\n",
       "      <td>0</td>\n",
       "      <td>0</td>\n",
       "      <td>1</td>\n",
       "      <td>0</td>\n",
       "      <td>0</td>\n",
       "      <td>0</td>\n",
       "      <td>0</td>\n",
       "      <td>0</td>\n",
       "    </tr>\n",
       "    <tr>\n",
       "      <th>318</th>\n",
       "      <td>0.227301</td>\n",
       "      <td>0</td>\n",
       "      <td>0</td>\n",
       "      <td>0</td>\n",
       "      <td>1</td>\n",
       "      <td>0</td>\n",
       "      <td>0</td>\n",
       "      <td>0</td>\n",
       "      <td>0</td>\n",
       "      <td>0</td>\n",
       "    </tr>\n",
       "    <tr>\n",
       "      <th>255</th>\n",
       "      <td>0.183000</td>\n",
       "      <td>0</td>\n",
       "      <td>0</td>\n",
       "      <td>0</td>\n",
       "      <td>0</td>\n",
       "      <td>1</td>\n",
       "      <td>0</td>\n",
       "      <td>0</td>\n",
       "      <td>0</td>\n",
       "      <td>0</td>\n",
       "    </tr>\n",
       "  </tbody>\n",
       "</table>\n",
       "</div>"
      ],
      "text/plain": [
       "     home_lot_sqft_ratio  OverallQual_2  OverallQual_3  OverallQual_4  \\\n",
       "Id                                                                      \n",
       "109             0.198195              0              0              0   \n",
       "544             0.312739              0              0              0   \n",
       "153             0.297905              0              0              0   \n",
       "318             0.227301              0              0              0   \n",
       "255             0.183000              0              0              0   \n",
       "\n",
       "     OverallQual_5  OverallQual_6  OverallQual_7  OverallQual_8  \\\n",
       "Id                                                                \n",
       "109              0              1              0              0   \n",
       "544              0              0              1              0   \n",
       "153              1              0              0              0   \n",
       "318              1              0              0              0   \n",
       "255              0              1              0              0   \n",
       "\n",
       "     OverallQual_9  OverallQual_10  \n",
       "Id                                  \n",
       "109              0               0  \n",
       "544              0               0  \n",
       "153              0               0  \n",
       "318              0               0  \n",
       "255              0               0  "
      ]
     },
     "execution_count": 25,
     "metadata": {},
     "output_type": "execute_result"
    }
   ],
   "source": [
    "X.head()"
   ]
  },
  {
   "cell_type": "markdown",
   "metadata": {},
   "source": [
    "# Create a model on fixed features only"
   ]
  },
  {
   "cell_type": "markdown",
   "metadata": {},
   "source": [
    "Ben Notes:-Now that our data is numeric, lets split it into training, validation, and test sets. We do this instead of training our model on all of the data so that we can ensure our model performs well on data it wasn't trained on. We want to make sure that our model is picking out 'the signal' from 'the noise.' If the model learns too many irrelvant features (noise) from the training data, we say it is 'overfit' and unlikely to perform well on future data."
   ]
  },
  {
   "cell_type": "code",
   "execution_count": 26,
   "metadata": {},
   "outputs": [
    {
     "name": "stdout",
     "output_type": "stream",
     "text": [
      "(1538, 10)\n",
      "(513, 10)\n"
     ]
    }
   ],
   "source": [
    "# Importance of train and testing data to ensure success.\n",
    "\n",
    "from sklearn.linear_model import LinearRegression\n",
    "from sklearn.model_selection import train_test_split, KFold, cross_val_score\n",
    "from sklearn.preprocessing import PolynomialFeatures, StandardScaler\n",
    "\n",
    "X_train, X_test, y_train, y_test = train_test_split(X, y, random_state=1) \n",
    "print(X_train.shape)\n",
    "print(X_test.shape)\n",
    "# I like to print out the shapes of the X matrices to make sure everything is ok\n"
   ]
  },
  {
   "cell_type": "code",
   "execution_count": 27,
   "metadata": {},
   "outputs": [
    {
     "data": {
      "text/html": [
       "<div>\n",
       "<style scoped>\n",
       "    .dataframe tbody tr th:only-of-type {\n",
       "        vertical-align: middle;\n",
       "    }\n",
       "\n",
       "    .dataframe tbody tr th {\n",
       "        vertical-align: top;\n",
       "    }\n",
       "\n",
       "    .dataframe thead th {\n",
       "        text-align: right;\n",
       "    }\n",
       "</style>\n",
       "<table border=\"1\" class=\"dataframe\">\n",
       "  <thead>\n",
       "    <tr style=\"text-align: right;\">\n",
       "      <th></th>\n",
       "      <th>home_lot_sqft_ratio</th>\n",
       "      <th>OverallQual_2</th>\n",
       "      <th>OverallQual_3</th>\n",
       "      <th>OverallQual_4</th>\n",
       "      <th>OverallQual_5</th>\n",
       "      <th>OverallQual_6</th>\n",
       "      <th>OverallQual_7</th>\n",
       "      <th>OverallQual_8</th>\n",
       "      <th>OverallQual_9</th>\n",
       "      <th>OverallQual_10</th>\n",
       "    </tr>\n",
       "    <tr>\n",
       "      <th>Id</th>\n",
       "      <th></th>\n",
       "      <th></th>\n",
       "      <th></th>\n",
       "      <th></th>\n",
       "      <th></th>\n",
       "      <th></th>\n",
       "      <th></th>\n",
       "      <th></th>\n",
       "      <th></th>\n",
       "      <th></th>\n",
       "    </tr>\n",
       "  </thead>\n",
       "  <tbody>\n",
       "    <tr>\n",
       "      <th>1993</th>\n",
       "      <td>0.509298</td>\n",
       "      <td>0</td>\n",
       "      <td>0</td>\n",
       "      <td>0</td>\n",
       "      <td>1</td>\n",
       "      <td>0</td>\n",
       "      <td>0</td>\n",
       "      <td>0</td>\n",
       "      <td>0</td>\n",
       "      <td>0</td>\n",
       "    </tr>\n",
       "    <tr>\n",
       "      <th>2911</th>\n",
       "      <td>1.018920</td>\n",
       "      <td>0</td>\n",
       "      <td>0</td>\n",
       "      <td>0</td>\n",
       "      <td>0</td>\n",
       "      <td>1</td>\n",
       "      <td>0</td>\n",
       "      <td>0</td>\n",
       "      <td>0</td>\n",
       "      <td>0</td>\n",
       "    </tr>\n",
       "  </tbody>\n",
       "</table>\n",
       "</div>"
      ],
      "text/plain": [
       "      home_lot_sqft_ratio  OverallQual_2  OverallQual_3  OverallQual_4  \\\n",
       "Id                                                                       \n",
       "1993             0.509298              0              0              0   \n",
       "2911             1.018920              0              0              0   \n",
       "\n",
       "      OverallQual_5  OverallQual_6  OverallQual_7  OverallQual_8  \\\n",
       "Id                                                                 \n",
       "1993              1              0              0              0   \n",
       "2911              0              1              0              0   \n",
       "\n",
       "      OverallQual_9  OverallQual_10  \n",
       "Id                                   \n",
       "1993              0               0  \n",
       "2911              0               0  "
      ]
     },
     "execution_count": 27,
     "metadata": {},
     "output_type": "execute_result"
    }
   ],
   "source": [
    "X_train.head(2)"
   ]
  },
  {
   "cell_type": "code",
   "execution_count": 28,
   "metadata": {},
   "outputs": [],
   "source": [
    "# Standardizing the scales so that the dummies can be counted similarly to the total sqft ratio\n",
    "ss = StandardScaler()\n",
    "Xs = ss.fit_transform(X_train)"
   ]
  },
  {
   "cell_type": "code",
   "execution_count": 29,
   "metadata": {},
   "outputs": [
    {
     "name": "stdout",
     "output_type": "stream",
     "text": [
      "CV Score over five folds: [0.73636759 0.67660804 0.68668172 0.75491294 0.67481316]\n",
      "CV Score mean: 0.7058766889323137\n"
     ]
    }
   ],
   "source": [
    "# linear regression model\n",
    "lr = LinearRegression()\n",
    "\n",
    "print('CV Score over five folds:', cross_val_score(lr, Xs, y_train, cv=5))\n",
    "\n",
    "print('CV Score mean:', cross_val_score(lr, Xs, y_train, cv=5).mean())"
   ]
  },
  {
   "cell_type": "code",
   "execution_count": 30,
   "metadata": {},
   "outputs": [
    {
     "name": "stderr",
     "output_type": "stream",
     "text": [
      "/Users/kirosgebremariam/anaconda3/envs/dsi/lib/python3.6/site-packages/sklearn/cross_validation.py:41: DeprecationWarning: This module was deprecated in version 0.18 in favor of the model_selection module into which all the refactored classes and functions are moved. Also note that the interface of the new CV iterators are different from that of this module. This module will be removed in 0.20.\n",
      "  \"This module will be removed in 0.20.\", DeprecationWarning)\n"
     ]
    }
   ],
   "source": [
    "# recreation in order to work on train_test_split # test_size=.5(meaning 50%)\n",
    "from sklearn.cross_validation import cross_val_score, cross_val_predict\n",
    "from sklearn import metrics\n",
    "X_train,X_test,y_train, y_test= train_test_split(X,y,random_state =42)"
   ]
  },
  {
   "cell_type": "code",
   "execution_count": 31,
   "metadata": {},
   "outputs": [
    {
     "name": "stdout",
     "output_type": "stream",
     "text": [
      "Cross-validated scores: [0.72722076 0.6363248  0.72652743 0.74419379 0.60813015]\n",
      "Cross-Predicted R2: 0.6965705877391257\n"
     ]
    },
    {
     "data": {
      "image/png": "[encoded data removed]",
      "text/plain": [
       "<Figure size 432x288 with 1 Axes>"
      ]
     },
     "metadata": {},
     "output_type": "display_data"
    }
   ],
   "source": [
    "from sklearn.cross_validation import cross_val_score, cross_val_predict\n",
    "from sklearn import metrics\n",
    "# Perform cross-validation with a five-fold split.\n",
    "scores = cross_val_score(lr, X_train, y_train, cv=5)\n",
    "print(\"Cross-validated scores:\", scores)\n",
    "\n",
    "# Make cross-validated predictions on the testing sets.\n",
    "predictions = cross_val_predict(lr,X_train, y_train, cv=5)\n",
    "plt.scatter(y_train, predictions)\n",
    "\n",
    "# Manually calculate the R2.\n",
    "r2 = metrics.r2_score(y_train, predictions)\n",
    "print(\"Cross-Predicted R2:\", r2)"
   ]
  },
  {
   "cell_type": "code",
   "execution_count": 32,
   "metadata": {},
   "outputs": [
    {
     "data": {
      "text/plain": [
       "0.002298707871644212"
      ]
     },
     "execution_count": 32,
     "metadata": {},
     "output_type": "execute_result"
    }
   ],
   "source": [
    "# setting up the training data tests\n",
    "lr = LinearRegression()\n",
    "lr.fit(Xs, y_train)\n",
    "lr.score(Xs, y_train)"
   ]
  },
  {
   "cell_type": "code",
   "execution_count": 33,
   "metadata": {},
   "outputs": [
    {
     "data": {
      "text/plain": [
       "0.002298707871644212"
      ]
     },
     "execution_count": 33,
     "metadata": {},
     "output_type": "execute_result"
    }
   ],
   "source": [
    "# R2 score for my test subjects based on the metrics.\n",
    "lr.score(Xs, y_train)"
   ]
  },
  {
   "cell_type": "code",
   "execution_count": 34,
   "metadata": {},
   "outputs": [
    {
     "data": {
      "text/plain": [
       "(879, 80)"
      ]
     },
     "execution_count": 34,
     "metadata": {},
     "output_type": "execute_result"
    }
   ],
   "source": [
    "# Now its good to compare it with the test data\n",
    "test.shape"
   ]
  },
  {
   "cell_type": "code",
   "execution_count": 35,
   "metadata": {},
   "outputs": [
    {
     "data": {
      "text/plain": [
       "Index(['Id', 'PID', 'MSSubClass', 'MSZoning', 'LotFrontage', 'LotArea',\n",
       "       'Street', 'Alley', 'LotShape', 'LandContour', 'Utilities', 'LotConfig',\n",
       "       'LandSlope', 'Neighborhood', 'Condition1', 'Condition2', 'BldgType',\n",
       "       'HouseStyle', 'OverallQual', 'OverallCond', 'YearBuilt',\n",
       "       'YearRemod/Add', 'RoofStyle', 'RoofMatl', 'Exterior1st', 'Exterior2nd',\n",
       "       'MasVnrType', 'MasVnrArea', 'ExterQual', 'ExterCond', 'Foundation',\n",
       "       'BsmtQual', 'BsmtCond', 'BsmtExposure', 'BsmtFinType1', 'BsmtFinSF1',\n",
       "       'BsmtFinType2', 'BsmtFinSF2', 'BsmtUnfSF', 'TotalBsmtSF', 'Heating',\n",
       "       'HeatingQC', 'CentralAir', 'Electrical', '1stFlrSF', '2ndFlrSF',\n",
       "       'LowQualFinSF', 'GrLivArea', 'BsmtFullBath', 'BsmtHalfBath', 'FullBath',\n",
       "       'HalfBath', 'BedroomAbvGr', 'KitchenAbvGr', 'KitchenQual',\n",
       "       'TotRmsAbvGrd', 'Functional', 'Fireplaces', 'FireplaceQu', 'GarageType',\n",
       "       'GarageYrBlt', 'GarageFinish', 'GarageCars', 'GarageArea', 'GarageQual',\n",
       "       'GarageCond', 'PavedDrive', 'WoodDeckSF', 'OpenPorchSF',\n",
       "       'EnclosedPorch', '3SsnPorch', 'ScreenPorch', 'PoolArea', 'PoolQC',\n",
       "       'Fence', 'MiscFeature', 'MiscVal', 'MoSold', 'YrSold', 'SaleType'],\n",
       "      dtype='object')"
      ]
     },
     "execution_count": 35,
     "metadata": {},
     "output_type": "execute_result"
    }
   ],
   "source": [
    "test.columns"
   ]
  },
  {
   "cell_type": "code",
   "execution_count": 36,
   "metadata": {},
   "outputs": [],
   "source": [
    "Z = test[['LotArea', 'Neighborhood','OverallQual','GarageArea','GrLivArea','ExterQual','BsmtQual','TotalBsmtSF','GarageQual','KitchenQual','YrSold',]]"
   ]
  },
  {
   "cell_type": "code",
   "execution_count": 37,
   "metadata": {},
   "outputs": [],
   "source": [
    "Z = Z.fillna(0)"
   ]
  },
  {
   "cell_type": "code",
   "execution_count": 38,
   "metadata": {},
   "outputs": [
    {
     "data": {
      "text/plain": [
       "False"
      ]
     },
     "execution_count": 38,
     "metadata": {},
     "output_type": "execute_result"
    }
   ],
   "source": [
    "Z.isnull().sum().any()"
   ]
  },
  {
   "cell_type": "code",
   "execution_count": 39,
   "metadata": {},
   "outputs": [],
   "source": [
    "Z['total_sqft'] = Z['TotalBsmtSF'] + Z['GarageArea'] + Z['GrLivArea']"
   ]
  },
  {
   "cell_type": "code",
   "execution_count": 40,
   "metadata": {},
   "outputs": [],
   "source": [
    "Z['home_lot_sqft_ratio'] = Z['total_sqft'] / Z['LotArea']"
   ]
  },
  {
   "cell_type": "code",
   "execution_count": 41,
   "metadata": {},
   "outputs": [
    {
     "name": "stdout",
     "output_type": "stream",
     "text": [
      "<class 'pandas.core.frame.DataFrame'>\n",
      "RangeIndex: 879 entries, 0 to 878\n",
      "Data columns (total 13 columns):\n",
      "LotArea                879 non-null int64\n",
      "Neighborhood           879 non-null object\n",
      "OverallQual            879 non-null int64\n",
      "GarageArea             879 non-null int64\n",
      "GrLivArea              879 non-null int64\n",
      "ExterQual              879 non-null object\n",
      "BsmtQual               879 non-null object\n",
      "TotalBsmtSF            879 non-null int64\n",
      "GarageQual             879 non-null object\n",
      "KitchenQual            879 non-null object\n",
      "YrSold                 879 non-null int64\n",
      "total_sqft             879 non-null int64\n",
      "home_lot_sqft_ratio    879 non-null float64\n",
      "dtypes: float64(1), int64(7), object(5)\n",
      "memory usage: 89.4+ KB\n"
     ]
    }
   ],
   "source": [
    "Z.info()"
   ]
  },
  {
   "cell_type": "code",
   "execution_count": 42,
   "metadata": {},
   "outputs": [
    {
     "data": {
      "text/html": [
       "<div>\n",
       "<style scoped>\n",
       "    .dataframe tbody tr th:only-of-type {\n",
       "        vertical-align: middle;\n",
       "    }\n",
       "\n",
       "    .dataframe tbody tr th {\n",
       "        vertical-align: top;\n",
       "    }\n",
       "\n",
       "    .dataframe thead th {\n",
       "        text-align: right;\n",
       "    }\n",
       "</style>\n",
       "<table border=\"1\" class=\"dataframe\">\n",
       "  <thead>\n",
       "    <tr style=\"text-align: right;\">\n",
       "      <th></th>\n",
       "      <th>home_lot_sqft_ratio</th>\n",
       "      <th>OverallQual</th>\n",
       "    </tr>\n",
       "  </thead>\n",
       "  <tbody>\n",
       "    <tr>\n",
       "      <th>0</th>\n",
       "      <td>0.370597</td>\n",
       "      <td>6</td>\n",
       "    </tr>\n",
       "    <tr>\n",
       "      <th>1</th>\n",
       "      <td>0.467191</td>\n",
       "      <td>5</td>\n",
       "    </tr>\n",
       "    <tr>\n",
       "      <th>2</th>\n",
       "      <td>0.150608</td>\n",
       "      <td>7</td>\n",
       "    </tr>\n",
       "    <tr>\n",
       "      <th>3</th>\n",
       "      <td>0.283568</td>\n",
       "      <td>5</td>\n",
       "    </tr>\n",
       "    <tr>\n",
       "      <th>4</th>\n",
       "      <td>0.347579</td>\n",
       "      <td>6</td>\n",
       "    </tr>\n",
       "  </tbody>\n",
       "</table>\n",
       "</div>"
      ],
      "text/plain": [
       "   home_lot_sqft_ratio  OverallQual\n",
       "0             0.370597            6\n",
       "1             0.467191            5\n",
       "2             0.150608            7\n",
       "3             0.283568            5\n",
       "4             0.347579            6"
      ]
     },
     "execution_count": 42,
     "metadata": {},
     "output_type": "execute_result"
    }
   ],
   "source": [
    "Z = Z[['home_lot_sqft_ratio', 'OverallQual']]\n",
    "\n",
    "Z.head()"
   ]
  },
  {
   "cell_type": "code",
   "execution_count": 43,
   "metadata": {},
   "outputs": [
    {
     "data": {
      "text/html": [
       "<div>\n",
       "<style scoped>\n",
       "    .dataframe tbody tr th:only-of-type {\n",
       "        vertical-align: middle;\n",
       "    }\n",
       "\n",
       "    .dataframe tbody tr th {\n",
       "        vertical-align: top;\n",
       "    }\n",
       "\n",
       "    .dataframe thead th {\n",
       "        text-align: right;\n",
       "    }\n",
       "</style>\n",
       "<table border=\"1\" class=\"dataframe\">\n",
       "  <thead>\n",
       "    <tr style=\"text-align: right;\">\n",
       "      <th></th>\n",
       "      <th>home_lot_sqft_ratio</th>\n",
       "      <th>OverallQual_2</th>\n",
       "      <th>OverallQual_3</th>\n",
       "      <th>OverallQual_4</th>\n",
       "      <th>OverallQual_5</th>\n",
       "      <th>OverallQual_6</th>\n",
       "      <th>OverallQual_7</th>\n",
       "      <th>OverallQual_8</th>\n",
       "      <th>OverallQual_9</th>\n",
       "      <th>OverallQual_10</th>\n",
       "    </tr>\n",
       "  </thead>\n",
       "  <tbody>\n",
       "    <tr>\n",
       "      <th>0</th>\n",
       "      <td>0.370597</td>\n",
       "      <td>0</td>\n",
       "      <td>0</td>\n",
       "      <td>0</td>\n",
       "      <td>0</td>\n",
       "      <td>1</td>\n",
       "      <td>0</td>\n",
       "      <td>0</td>\n",
       "      <td>0</td>\n",
       "      <td>0</td>\n",
       "    </tr>\n",
       "    <tr>\n",
       "      <th>1</th>\n",
       "      <td>0.467191</td>\n",
       "      <td>0</td>\n",
       "      <td>0</td>\n",
       "      <td>0</td>\n",
       "      <td>1</td>\n",
       "      <td>0</td>\n",
       "      <td>0</td>\n",
       "      <td>0</td>\n",
       "      <td>0</td>\n",
       "      <td>0</td>\n",
       "    </tr>\n",
       "    <tr>\n",
       "      <th>2</th>\n",
       "      <td>0.150608</td>\n",
       "      <td>0</td>\n",
       "      <td>0</td>\n",
       "      <td>0</td>\n",
       "      <td>0</td>\n",
       "      <td>0</td>\n",
       "      <td>1</td>\n",
       "      <td>0</td>\n",
       "      <td>0</td>\n",
       "      <td>0</td>\n",
       "    </tr>\n",
       "    <tr>\n",
       "      <th>3</th>\n",
       "      <td>0.283568</td>\n",
       "      <td>0</td>\n",
       "      <td>0</td>\n",
       "      <td>0</td>\n",
       "      <td>1</td>\n",
       "      <td>0</td>\n",
       "      <td>0</td>\n",
       "      <td>0</td>\n",
       "      <td>0</td>\n",
       "      <td>0</td>\n",
       "    </tr>\n",
       "    <tr>\n",
       "      <th>4</th>\n",
       "      <td>0.347579</td>\n",
       "      <td>0</td>\n",
       "      <td>0</td>\n",
       "      <td>0</td>\n",
       "      <td>0</td>\n",
       "      <td>1</td>\n",
       "      <td>0</td>\n",
       "      <td>0</td>\n",
       "      <td>0</td>\n",
       "      <td>0</td>\n",
       "    </tr>\n",
       "  </tbody>\n",
       "</table>\n",
       "</div>"
      ],
      "text/plain": [
       "   home_lot_sqft_ratio  OverallQual_2  OverallQual_3  OverallQual_4  \\\n",
       "0             0.370597              0              0              0   \n",
       "1             0.467191              0              0              0   \n",
       "2             0.150608              0              0              0   \n",
       "3             0.283568              0              0              0   \n",
       "4             0.347579              0              0              0   \n",
       "\n",
       "   OverallQual_5  OverallQual_6  OverallQual_7  OverallQual_8  OverallQual_9  \\\n",
       "0              0              1              0              0              0   \n",
       "1              1              0              0              0              0   \n",
       "2              0              0              1              0              0   \n",
       "3              1              0              0              0              0   \n",
       "4              0              1              0              0              0   \n",
       "\n",
       "   OverallQual_10  \n",
       "0               0  \n",
       "1               0  \n",
       "2               0  \n",
       "3               0  \n",
       "4               0  "
      ]
     },
     "execution_count": 43,
     "metadata": {},
     "output_type": "execute_result"
    }
   ],
   "source": [
    "Z = pd.get_dummies(Z, columns=['OverallQual'])\n",
    "Z.head()"
   ]
  },
  {
   "cell_type": "code",
   "execution_count": 44,
   "metadata": {},
   "outputs": [],
   "source": [
    "Zs = ss.transform(Z)"
   ]
  },
  {
   "cell_type": "code",
   "execution_count": 45,
   "metadata": {},
   "outputs": [
    {
     "data": {
      "text/plain": [
       "array([177809.69098292, 179220.20608525, 184105.32213784, 180455.43509303,\n",
       "       177964.5347104 , 177444.60960959, 182499.48357735, 180343.30405569,\n",
       "       179170.38941742, 178344.06078817, 177566.89626272, 178060.36473906,\n",
       "       178403.55397097, 181091.20937475, 178631.97981489, 181180.94467776,\n",
       "       178341.90150911, 180615.70618833, 178120.16015925, 189242.00749666,\n",
       "       180413.26078772, 180415.89561186, 177150.78325688, 179529.43310489,\n",
       "       183008.96738455, 180414.2288254 , 182776.04022975, 180400.20854826,\n",
       "       178414.55067966, 194673.30106124, 182093.04986824, 181568.39569766,\n",
       "       182390.86907224, 180484.14636935, 182954.45073211, 183834.60666161,\n",
       "       180678.07326368, 183202.83738852, 181281.92470062, 182066.00238204,\n",
       "       176277.7393138 , 183170.66994012, 179618.66022999, 181134.40248121,\n",
       "       179287.52171009, 175999.0660531 , 183136.83993731, 180557.918969  ,\n",
       "       179863.87481085, 180221.1212648 , 180709.57604577, 187995.04161732,\n",
       "       187468.20125447, 180064.60675246, 180199.14644788, 178188.74015252,\n",
       "       182842.20193825, 180344.11911646, 183368.22656803, 182708.32680502,\n",
       "       187576.96343508, 180882.01362289, 181074.75364863, 183627.99607113,\n",
       "       177624.31292787, 187347.7561938 , 182871.86973779, 174727.03434012,\n",
       "       194595.79107277, 177086.62888052, 182127.27047583, 189067.72810295,\n",
       "       179326.04619784, 183709.93534655, 180442.91730416, 178840.68142141,\n",
       "       170608.36268848, 181711.3262314 , 178459.31525545, 181414.32621856,\n",
       "       177672.05261648, 182469.64743671, 178565.01126255, 177913.84023263,\n",
       "       182269.2251006 , 178774.69293908, 187516.68484538, 180352.09242071,\n",
       "       179060.44314168, 188839.75290778, 177854.31746247, 180401.60631823,\n",
       "       182983.45662045, 178042.81608314, 186198.47439229, 179918.21475054,\n",
       "       178431.16848916, 180015.47162618, 184941.34226907, 177810.12621287,\n",
       "       188010.36419374, 188570.3076202 , 178731.64700884, 180366.47910532,\n",
       "       169003.55332932, 178718.0245782 , 179672.19930749, 178011.053942  ,\n",
       "       178948.15388493, 177633.88743588, 182004.69727185, 178063.00277231,\n",
       "       187258.06306352, 183285.8415396 , 181472.15710751, 183668.89379709,\n",
       "       170870.55354423, 179855.58237857, 174448.10835638, 176991.63527863,\n",
       "       178280.1479657 , 169318.0316035 , 188100.18144748, 176399.91267862,\n",
       "       179016.37360658, 180535.51636316, 177028.73500573, 180944.41567422,\n",
       "       180662.21123187, 179759.94258711, 177499.28835265, 180490.93394359,\n",
       "       178031.34987442, 180781.16015314, 178811.28855166, 172239.16256664,\n",
       "       182561.40787611, 182849.20586467, 183675.49311074, 174724.17576096,\n",
       "       181265.84369968, 177989.93263356, 180704.26567536, 178711.55250904,\n",
       "       179526.7842145 , 181412.85884512, 179422.81556453, 177483.57607696,\n",
       "       178833.86512863, 183042.88463952, 183364.39135646, 183301.68325333,\n",
       "       178417.44783478, 177774.95561076, 180601.85864711, 181020.87699024,\n",
       "       180127.34036101, 178493.23994518, 178623.25056522, 183035.5294111 ,\n",
       "       187340.79623986, 178519.5935661 , 181100.71885756, 180637.97614812,\n",
       "       169087.66130173, 176075.53651056, 187855.23686661, 178925.3680382 ,\n",
       "       179391.17715559, 182417.62386704, 182800.23771813, 168758.69230174,\n",
       "       180312.89627131, 180137.36866283, 179028.74085114, 183245.43707613,\n",
       "       178181.3487284 , 180372.30401884, 178700.1152908 , 177459.07212134,\n",
       "       179972.84096523, 180612.70548199, 182878.84987894, 183631.71292952,\n",
       "       183138.84489297, 178384.1091738 , 178744.94310097, 183114.2464062 ,\n",
       "       182104.99887196, 180734.71792773, 195701.95102332, 183112.30612408,\n",
       "       176341.30216985, 179038.80348371, 180243.35839182, 178554.74149749,\n",
       "       178277.46018039, 187768.84774539, 180577.99932299, 181178.65463125,\n",
       "       180502.15197404, 188460.41097404, 181101.48925619, 178886.69060649,\n",
       "       178095.84232531, 177636.36085047, 182928.52589842, 171748.09235339,\n",
       "       178743.12494552, 187048.63614822, 178692.14279914, 177897.583702  ,\n",
       "       177856.04732881, 181092.64689307, 184972.04132026, 173766.89335364,\n",
       "       182618.47390883, 183725.14314954, 180578.04415346, 182011.17028785,\n",
       "       180240.85375346, 180347.43401548, 177711.75803913, 177386.33154277,\n",
       "       178809.43905143, 178502.86221639, 181028.80790297, 187905.64746414,\n",
       "       182644.07836157, 181055.63030365, 182154.97558988, 181296.9983913 ,\n",
       "       178607.83305863, 180378.34465781, 182735.98530396, 189021.38152205,\n",
       "       178961.5291226 , 180089.21742963, 177155.620998  , 188706.47319594,\n",
       "       180077.19734337, 188828.20821551, 178431.90380062, 188054.45344284,\n",
       "       182706.23397768, 177231.02663026, 187678.45962882, 179130.84893924,\n",
       "       182316.85115652, 177615.3772775 , 175911.00855719, 185953.5596044 ,\n",
       "       178080.38552707, 187941.58166427, 182520.22956434, 178318.12386575,\n",
       "       194311.13678309, 182980.84689108, 177918.18383507, 182932.82713679,\n",
       "       179181.97827697, 183808.74948601, 178591.13209387, 172636.06590787,\n",
       "       178575.8942838 , 184160.76800179, 177575.46495615, 180022.9635134 ,\n",
       "       182995.74520826, 177977.33395882, 176378.16092831, 176555.20189656,\n",
       "       182667.76786418, 182377.21386811, 187939.63543543, 182090.42464857,\n",
       "       181232.16927124, 177093.15527895, 180955.72648778, 180991.43576535,\n",
       "       180606.5027479 , 188168.86109742, 178889.22371551, 181139.6767172 ,\n",
       "       181133.55084988, 177619.74723657, 184379.72456041, 178817.1505258 ,\n",
       "       174330.03985071, 178861.62336956, 180335.97157974, 180779.44553646,\n",
       "       178658.43616058, 177444.60960959, 181185.77088096, 180843.90480305,\n",
       "       177086.62888052, 182959.41288178, 182321.04150904, 188410.13697243,\n",
       "       178221.16174982, 177070.23352581, 175636.58643897, 180035.59361505,\n",
       "       178430.125322  , 180120.66495889, 180859.13839819, 182207.17686755,\n",
       "       181893.24800205, 180732.75020132, 181148.71370926, 180713.58829607,\n",
       "       185960.68474859, 183190.66357584, 188068.82696033, 181816.70480433,\n",
       "       176973.35720392, 176693.42969986, 186254.92615953, 182273.84941283,\n",
       "       180191.94638459, 183309.43422412, 180272.46564636, 178293.16742944,\n",
       "       188349.59705982, 180131.87660017, 177086.62641318, 180004.84221834,\n",
       "       179030.65068849, 182898.83032016, 180467.60731444, 179364.15703924,\n",
       "       178886.71219653, 180437.10105756, 185130.28438409, 181198.80767315,\n",
       "       182626.42613603, 181018.38581389, 183122.14201518, 178916.23282892,\n",
       "       187371.37673762, 181668.57946263, 180870.76292526, 181040.19680341,\n",
       "       177989.3790331 , 187800.35285268, 187302.01379133, 178212.32872091,\n",
       "       180929.15241844, 183952.69434069, 180785.623078  , 181803.2475718 ,\n",
       "       177946.37971933, 171677.73752184, 187891.48578039, 182268.41435727,\n",
       "       182581.59637105, 178294.28663748, 182486.45369982, 187889.90133683,\n",
       "       180534.83617812, 178442.67107413, 183455.16647313, 181038.72881354,\n",
       "       179872.689834  , 188617.98918457, 185124.31070108, 181570.49072628,\n",
       "       180447.06671534, 182611.91085153, 193730.56549787, 177034.14771234,\n",
       "       173817.73730679, 178755.71048269, 175891.26933329, 178727.45739552,\n",
       "       188560.57186393, 182870.26347227, 183898.3853208 , 180795.01389629,\n",
       "       178607.95378292, 179081.3323815 , 183043.19865487, 177451.14618599,\n",
       "       188249.01198681, 182569.12513365, 178393.98418669, 179941.27869833,\n",
       "       188213.89548781, 181671.30416897, 180529.62617736, 174606.93994125,\n",
       "       182090.74547883, 178148.4562063 , 182615.29420745, 183054.19027294,\n",
       "       181357.197385  , 177802.8763611 , 178666.41562605, 180236.92466995,\n",
       "       195537.558438  , 188861.30226527, 183202.78249221, 180383.69552256,\n",
       "       187799.54691262, 179823.57772585, 180384.41882012, 179041.76693841,\n",
       "       182734.98828543, 188138.66294397, 179851.58556805, 181215.79394601,\n",
       "       179713.30865887, 182861.10823357, 180791.23223465, 187814.60893691,\n",
       "       187927.44003562, 181635.17935101, 182454.76690875, 182816.5162631 ,\n",
       "       180609.62065196, 178053.28612409, 181169.9426815 , 180797.651898  ,\n",
       "       177960.2812632 , 183191.76611485, 169356.00352757, 185193.0435636 ,\n",
       "       182639.42695793, 183480.91986946, 177267.45265289, 183031.05976647,\n",
       "       178298.99834417, 180741.50959504, 183208.99307766, 183014.31641665,\n",
       "       188339.19496796, 181939.18732441, 178635.32070239, 181932.71023477,\n",
       "       178635.82951298, 182843.39718621, 180579.09170153, 178004.30653264,\n",
       "       178531.55265013, 178584.94612029, 181461.77294092, 181897.72538997,\n",
       "       181965.07219066, 182486.90618087, 180210.35808917, 183558.9781453 ,\n",
       "       187594.31047868, 181739.65757758, 181607.67758737, 182697.57358132,\n",
       "       187756.2358641 , 182546.82998412, 180084.05551796, 188184.99212253,\n",
       "       179932.86996737, 170121.79937762, 180371.88470979, 178121.51914607,\n",
       "       169696.16887304, 180323.68790655, 183270.76342967, 183614.57741285,\n",
       "       182538.9202328 , 178652.5894146 , 180828.91056905, 180730.34375295,\n",
       "       182662.30060228, 178291.39867398, 180781.58894831, 183276.7021973 ,\n",
       "       186948.70920862, 180983.19341719, 180579.18608028, 180813.7274375 ,\n",
       "       178312.26251141, 183628.68477229, 183131.29458562, 176833.964637  ,\n",
       "       182842.81731405, 187905.91017479, 178360.64174043, 177095.3248628 ,\n",
       "       178818.61761385, 175450.07557293, 177754.12676568, 178491.91925222,\n",
       "       182371.54569129, 177030.71536148, 182733.36760382, 177268.10588505,\n",
       "       178139.65141714, 180593.59237309, 179618.38342932, 180369.49759346,\n",
       "       182587.87686984, 178904.82246139, 188020.17437987, 184126.77013285,\n",
       "       177806.92368417, 178202.17603498, 180379.49370627, 187856.84320024,\n",
       "       178710.2195287 , 177556.92229508, 187371.67436188, 195564.75570976,\n",
       "       174359.12707634, 180628.60075517, 180365.18223097, 182185.87162766,\n",
       "       178114.00895574, 180374.36838454, 182936.27614408, 187710.25818089,\n",
       "       188669.73876723, 179923.91164614, 179019.28607972, 182029.02100375,\n",
       "       180745.75708222, 179118.80927772, 176880.89870392, 185691.58732777,\n",
       "       181223.68505721, 180664.42956121, 181943.69905132, 178669.6349327 ,\n",
       "       178370.8196843 , 178507.93345916, 182322.55711685, 179838.77226372,\n",
       "       178285.34500752, 177071.90049753, 183219.03152174, 181042.39010019,\n",
       "       175093.49131953, 178393.56006763, 182848.38937474, 177251.36419839,\n",
       "       177980.83059224, 183113.53619936, 187926.62716102, 182504.94033537,\n",
       "       181290.72721137, 173263.38393214, 188260.65631918, 179707.37308407,\n",
       "       187707.75433534, 181294.58975225, 181501.08217668, 183255.57754565,\n",
       "       180045.03492652, 178294.46275217, 172165.0233771 , 176930.02744952,\n",
       "       178947.35468506, 180860.14152488, 180931.88761376, 178555.91350312,\n",
       "       180365.919612  , 176013.26268699, 180766.06552677, 181216.44164996,\n",
       "       173254.2883261 , 178262.35113664, 183197.67331573, 180451.67981653,\n",
       "       180707.24122658, 182118.14520138, 180900.0784728 , 178566.92707712,\n",
       "       178373.00936461, 178447.89755739, 177086.62888052, 180774.15951617,\n",
       "       181003.42062328, 179994.02183474, 180955.67422614, 182826.55967126,\n",
       "       179017.5195396 , 178653.74838957, 178123.0614173 , 180741.48271261,\n",
       "       181682.88627856, 187941.67203224, 182108.13447727, 181496.1314491 ,\n",
       "       180770.04962591, 180019.01274457, 180429.64719902, 177611.24132034,\n",
       "       183214.8058951 , 179995.0945765 , 179867.89340992, 180657.42625553,\n",
       "       177318.04466894, 179536.36596115, 183072.2608835 , 181109.94978142,\n",
       "       179252.1383531 , 179291.17842248, 181247.33225282, 179564.56755115,\n",
       "       182459.50557133, 178440.82888094, 179853.72111877, 181458.32974668,\n",
       "       186806.38412086, 182492.9557565 , 181528.53508057, 178080.38552707,\n",
       "       182038.59496938, 182793.23202929, 187900.44108608, 183166.5574166 ,\n",
       "       183196.71251287, 182270.94240853, 180498.64648183, 179231.20808362,\n",
       "       180700.75129851, 177508.75198784, 180240.78968694, 182834.01082201,\n",
       "       180402.84729352, 185534.14044653, 179138.64468272, 180770.50893644,\n",
       "       177799.09324782, 181467.67977538, 195092.82599556, 180857.97289424,\n",
       "       174189.71488874, 172143.35659066, 178128.7126292 , 180630.17176839,\n",
       "       180510.49501506, 177491.81632422, 180648.1508738 , 178070.67429427,\n",
       "       188050.32001062, 178347.7570343 , 182805.59123521, 187473.3265762 ,\n",
       "       178328.70414928, 176378.16092831, 179480.14863017, 179866.03514896,\n",
       "       179881.48327814, 179915.7625492 , 178530.90869945, 195649.98343745,\n",
       "       177699.72361106, 182485.91209764, 178188.06889031, 182736.60106255,\n",
       "       179037.89714463, 178602.01805829, 179334.70463562, 177872.45560187,\n",
       "       183665.97416545, 176926.00029734, 182653.38676443, 179595.13368599,\n",
       "       177406.40021921, 181345.87311851, 187249.31655839, 187828.01930562,\n",
       "       173241.12767603, 183286.54046651, 179482.19317559, 181150.44792913,\n",
       "       180607.38209232, 180732.69144607, 177736.01383563, 179473.40217374,\n",
       "       180576.60503781, 187515.55614138, 183194.18004951, 178179.81304708,\n",
       "       188180.62183226, 178462.95273664, 178339.95504361, 177270.78921374,\n",
       "       177950.96695679, 180430.64835969, 177494.92213669, 194274.07410397,\n",
       "       180601.57560967, 183665.4847414 , 178404.19021427, 180841.82840976,\n",
       "       178699.00253378, 183488.72937348, 187719.38295843, 181119.76009457,\n",
       "       187994.55878406, 177095.3248628 , 181692.41477945, 178269.10511499,\n",
       "       180911.32587759, 182366.00222683, 182260.09441103, 178741.59090944,\n",
       "       179965.42684879, 182563.47597569, 177247.96750877, 182273.96820441,\n",
       "       180989.50239564, 180574.73643093, 181307.10669638, 179508.06087908,\n",
       "       179767.92721108, 183998.83785931, 182304.73027219, 178179.48842772,\n",
       "       183931.23373127, 182446.77248283, 187765.36740839, 180519.39023392,\n",
       "       173569.86312239, 188443.86788626, 180019.98442015, 183229.81679087,\n",
       "       180803.69419554, 188702.19626655, 182063.90493738, 187950.25733908,\n",
       "       178218.57988945, 188330.73588901, 178716.45337722, 179860.31473372,\n",
       "       181105.7643228 , 179917.36053025, 178942.83947286, 178391.09083449,\n",
       "       180654.43316776, 183270.02366894, 180318.26143185, 179922.67381636,\n",
       "       180266.27068986, 178532.25255966, 180967.8690642 , 182897.26555492,\n",
       "       176948.45021463, 176467.46015954, 187607.59898718, 187792.73475834,\n",
       "       180176.72316531, 172186.05479213, 178513.4652153 , 183560.4780154 ,\n",
       "       173261.91301711, 176734.25304366, 182202.6719052 , 179842.88828459,\n",
       "       186967.68155424, 178799.29814314, 182421.20834851, 182561.01657984,\n",
       "       178564.35293476, 177322.341206  , 188240.77256073, 183194.86285039,\n",
       "       182865.39205049, 187946.75891549, 177703.75722454, 182687.38754092,\n",
       "       183989.01962906, 179951.81493954, 178287.46011147, 180559.20237502,\n",
       "       179786.73053539, 183397.81186923, 179135.00389198, 181856.83457765,\n",
       "       179961.2928679 , 171697.74506984, 177610.30833318, 180285.63475099,\n",
       "       180557.918969  , 181034.76103361, 180783.0329264 , 187363.27120945,\n",
       "       173106.71673759, 182887.14942831, 180197.23226522, 183374.82570965,\n",
       "       181634.50300336, 178501.4226989 , 188192.89437152, 180837.15810633,\n",
       "       185294.69445625, 186053.99879099, 182546.39848693, 182166.3411364 ,\n",
       "       183225.36479195, 179994.31154123, 178176.21836568, 183212.13828019,\n",
       "       181589.92361493, 182909.84834141, 179908.52311889, 179820.19297245,\n",
       "       183533.9745473 , 178555.88203256, 180624.32638277, 180367.16748303,\n",
       "       187400.73612779, 178856.06696662, 180609.71573711, 182177.41984055,\n",
       "       182570.14752856, 178845.05149597, 183071.16289032, 182843.85256382,\n",
       "       178638.9526512 , 178453.89334817, 180303.36382167, 176441.77327734,\n",
       "       181283.05408199, 177214.25305639, 183518.12427368, 176862.6548285 ,\n",
       "       180878.92492013, 178157.93440215, 180293.04394364, 179437.942224  ,\n",
       "       178529.32063143, 188219.07071195, 186928.87202672, 178124.46411111,\n",
       "       180624.32638277, 187797.55827443, 180992.68150327, 180842.64040776,\n",
       "       180732.08369973, 182508.95065321, 176623.7139612 , 184137.13862884,\n",
       "       180818.35426999, 178664.7483956 , 178509.98030239, 183519.53363129,\n",
       "       182474.38142591, 172539.29452984, 178392.44955941, 176087.11587291,\n",
       "       178123.8095733 , 178453.04742891, 179984.8242539 , 179304.14654222,\n",
       "       193391.17394654, 187324.31201382, 177477.45921243, 183330.46244283,\n",
       "       181086.55168644, 177185.63287103, 182040.09379469, 175062.16937238,\n",
       "       180034.80896787, 179501.15807539, 182723.37986035, 177229.40292388,\n",
       "       179992.82202288, 178637.81619465, 181700.24699022, 183415.01699697,\n",
       "       187617.46261868, 182579.6151721 , 177402.52168667, 178664.73869463,\n",
       "       180336.74386365, 182606.37807216, 180570.73227333])"
      ]
     },
     "execution_count": 45,
     "metadata": {},
     "output_type": "execute_result"
    }
   ],
   "source": [
    "predicted = lr.predict(Zs)\n",
    "predicted"
   ]
  },
  {
   "cell_type": "code",
   "execution_count": 46,
   "metadata": {},
   "outputs": [
    {
     "data": {
      "text/plain": [
       "((879,), (879, 10))"
      ]
     },
     "execution_count": 46,
     "metadata": {},
     "output_type": "execute_result"
    }
   ],
   "source": [
    "predicted = lr.predict(Zs)\n",
    "\n",
    "predicted.shape, Zs.shape"
   ]
  },
  {
   "cell_type": "code",
   "execution_count": 47,
   "metadata": {},
   "outputs": [
    {
     "data": {
      "text/plain": [
       "array([[ 0.02627395, -0.06761786, -0.10882144, ..., -0.37090964,\n",
       "        -0.19075676, -0.10882144],\n",
       "       [ 0.50213847, -0.06761786, -0.10882144, ..., -0.37090964,\n",
       "        -0.19075676, -0.10882144],\n",
       "       [-1.05749164, -0.06761786, -0.10882144, ..., -0.37090964,\n",
       "        -0.19075676, -0.10882144],\n",
       "       ...,\n",
       "       [-0.31554832, -0.06761786, -0.10882144, ..., -0.37090964,\n",
       "        -0.19075676, -0.10882144],\n",
       "       [-0.56455793, -0.06761786, -0.10882144, ..., -0.37090964,\n",
       "        -0.19075676, -0.10882144],\n",
       "       [-0.48690771, -0.06761786, -0.10882144, ..., -0.37090964,\n",
       "        -0.19075676, -0.10882144]])"
      ]
     },
     "execution_count": 47,
     "metadata": {},
     "output_type": "execute_result"
    }
   ],
   "source": [
    "Zs"
   ]
  },
  {
   "cell_type": "code",
   "execution_count": 48,
   "metadata": {},
   "outputs": [
    {
     "data": {
      "text/html": [
       "<div>\n",
       "<style scoped>\n",
       "    .dataframe tbody tr th:only-of-type {\n",
       "        vertical-align: middle;\n",
       "    }\n",
       "\n",
       "    .dataframe tbody tr th {\n",
       "        vertical-align: top;\n",
       "    }\n",
       "\n",
       "    .dataframe thead th {\n",
       "        text-align: right;\n",
       "    }\n",
       "</style>\n",
       "<table border=\"1\" class=\"dataframe\">\n",
       "  <thead>\n",
       "    <tr style=\"text-align: right;\">\n",
       "      <th></th>\n",
       "      <th>home_lot_sqft_ratio</th>\n",
       "      <th>OverallQual_2</th>\n",
       "      <th>OverallQual_3</th>\n",
       "      <th>OverallQual_4</th>\n",
       "      <th>OverallQual_5</th>\n",
       "      <th>OverallQual_6</th>\n",
       "      <th>OverallQual_7</th>\n",
       "      <th>OverallQual_8</th>\n",
       "      <th>OverallQual_9</th>\n",
       "      <th>OverallQual_10</th>\n",
       "      <th>SalePrice</th>\n",
       "      <th>Id</th>\n",
       "    </tr>\n",
       "  </thead>\n",
       "  <tbody>\n",
       "    <tr>\n",
       "      <th>0</th>\n",
       "      <td>0.026274</td>\n",
       "      <td>-0.067618</td>\n",
       "      <td>-0.108821</td>\n",
       "      <td>-0.290906</td>\n",
       "      <td>-0.613924</td>\n",
       "      <td>1.739591</td>\n",
       "      <td>-0.520648</td>\n",
       "      <td>-0.37091</td>\n",
       "      <td>-0.190757</td>\n",
       "      <td>-0.108821</td>\n",
       "      <td>177809.690983</td>\n",
       "      <td>2658</td>\n",
       "    </tr>\n",
       "    <tr>\n",
       "      <th>1</th>\n",
       "      <td>0.502138</td>\n",
       "      <td>-0.067618</td>\n",
       "      <td>-0.108821</td>\n",
       "      <td>-0.290906</td>\n",
       "      <td>1.628867</td>\n",
       "      <td>-0.574848</td>\n",
       "      <td>-0.520648</td>\n",
       "      <td>-0.37091</td>\n",
       "      <td>-0.190757</td>\n",
       "      <td>-0.108821</td>\n",
       "      <td>179220.206085</td>\n",
       "      <td>2718</td>\n",
       "    </tr>\n",
       "    <tr>\n",
       "      <th>2</th>\n",
       "      <td>-1.057492</td>\n",
       "      <td>-0.067618</td>\n",
       "      <td>-0.108821</td>\n",
       "      <td>-0.290906</td>\n",
       "      <td>-0.613924</td>\n",
       "      <td>-0.574848</td>\n",
       "      <td>1.920683</td>\n",
       "      <td>-0.37091</td>\n",
       "      <td>-0.190757</td>\n",
       "      <td>-0.108821</td>\n",
       "      <td>184105.322138</td>\n",
       "      <td>2414</td>\n",
       "    </tr>\n",
       "    <tr>\n",
       "      <th>3</th>\n",
       "      <td>-0.402471</td>\n",
       "      <td>-0.067618</td>\n",
       "      <td>-0.108821</td>\n",
       "      <td>-0.290906</td>\n",
       "      <td>1.628867</td>\n",
       "      <td>-0.574848</td>\n",
       "      <td>-0.520648</td>\n",
       "      <td>-0.37091</td>\n",
       "      <td>-0.190757</td>\n",
       "      <td>-0.108821</td>\n",
       "      <td>180455.435093</td>\n",
       "      <td>1989</td>\n",
       "    </tr>\n",
       "    <tr>\n",
       "      <th>4</th>\n",
       "      <td>-0.087125</td>\n",
       "      <td>-0.067618</td>\n",
       "      <td>-0.108821</td>\n",
       "      <td>-0.290906</td>\n",
       "      <td>-0.613924</td>\n",
       "      <td>1.739591</td>\n",
       "      <td>-0.520648</td>\n",
       "      <td>-0.37091</td>\n",
       "      <td>-0.190757</td>\n",
       "      <td>-0.108821</td>\n",
       "      <td>177964.534710</td>\n",
       "      <td>625</td>\n",
       "    </tr>\n",
       "  </tbody>\n",
       "</table>\n",
       "</div>"
      ],
      "text/plain": [
       "   home_lot_sqft_ratio  OverallQual_2  OverallQual_3  OverallQual_4  \\\n",
       "0             0.026274      -0.067618      -0.108821      -0.290906   \n",
       "1             0.502138      -0.067618      -0.108821      -0.290906   \n",
       "2            -1.057492      -0.067618      -0.108821      -0.290906   \n",
       "3            -0.402471      -0.067618      -0.108821      -0.290906   \n",
       "4            -0.087125      -0.067618      -0.108821      -0.290906   \n",
       "\n",
       "   OverallQual_5  OverallQual_6  OverallQual_7  OverallQual_8  OverallQual_9  \\\n",
       "0      -0.613924       1.739591      -0.520648       -0.37091      -0.190757   \n",
       "1       1.628867      -0.574848      -0.520648       -0.37091      -0.190757   \n",
       "2      -0.613924      -0.574848       1.920683       -0.37091      -0.190757   \n",
       "3       1.628867      -0.574848      -0.520648       -0.37091      -0.190757   \n",
       "4      -0.613924       1.739591      -0.520648       -0.37091      -0.190757   \n",
       "\n",
       "   OverallQual_10      SalePrice    Id  \n",
       "0       -0.108821  177809.690983  2658  \n",
       "1       -0.108821  179220.206085  2718  \n",
       "2       -0.108821  184105.322138  2414  \n",
       "3       -0.108821  180455.435093  1989  \n",
       "4       -0.108821  177964.534710   625  "
      ]
     },
     "execution_count": 48,
     "metadata": {},
     "output_type": "execute_result"
    }
   ],
   "source": [
    "Zs = pd.DataFrame(Zs, columns = X_train.columns)\n",
    "\n",
    "Zs['SalePrice'] = predicted\n",
    "\n",
    "Zs['Id'] = test['Id']\n",
    "\n",
    "Zs.head()"
   ]
  },
  {
   "cell_type": "code",
   "execution_count": 49,
   "metadata": {},
   "outputs": [
    {
     "data": {
      "text/html": [
       "<div>\n",
       "<style scoped>\n",
       "    .dataframe tbody tr th:only-of-type {\n",
       "        vertical-align: middle;\n",
       "    }\n",
       "\n",
       "    .dataframe tbody tr th {\n",
       "        vertical-align: top;\n",
       "    }\n",
       "\n",
       "    .dataframe thead th {\n",
       "        text-align: right;\n",
       "    }\n",
       "</style>\n",
       "<table border=\"1\" class=\"dataframe\">\n",
       "  <thead>\n",
       "    <tr style=\"text-align: right;\">\n",
       "      <th></th>\n",
       "      <th>count</th>\n",
       "      <th>mean</th>\n",
       "      <th>std</th>\n",
       "      <th>min</th>\n",
       "      <th>25%</th>\n",
       "      <th>50%</th>\n",
       "      <th>75%</th>\n",
       "      <th>max</th>\n",
       "    </tr>\n",
       "  </thead>\n",
       "  <tbody>\n",
       "    <tr>\n",
       "      <th>home_lot_sqft_ratio</th>\n",
       "      <td>879.0</td>\n",
       "      <td>0.006797</td>\n",
       "      <td>1.062084</td>\n",
       "      <td>-1.692226</td>\n",
       "      <td>-0.585789</td>\n",
       "      <td>-0.230873</td>\n",
       "      <td>0.159583</td>\n",
       "      <td>6.898807</td>\n",
       "    </tr>\n",
       "    <tr>\n",
       "      <th>OverallQual_2</th>\n",
       "      <td>879.0</td>\n",
       "      <td>-0.000011</td>\n",
       "      <td>1.000488</td>\n",
       "      <td>-0.067618</td>\n",
       "      <td>-0.067618</td>\n",
       "      <td>-0.067618</td>\n",
       "      <td>-0.067618</td>\n",
       "      <td>14.788992</td>\n",
       "    </tr>\n",
       "    <tr>\n",
       "      <th>OverallQual_3</th>\n",
       "      <td>879.0</td>\n",
       "      <td>0.007538</td>\n",
       "      <td>1.034220</td>\n",
       "      <td>-0.108821</td>\n",
       "      <td>-0.108821</td>\n",
       "      <td>-0.108821</td>\n",
       "      <td>-0.108821</td>\n",
       "      <td>9.189366</td>\n",
       "    </tr>\n",
       "    <tr>\n",
       "      <th>OverallQual_4</th>\n",
       "      <td>879.0</td>\n",
       "      <td>-0.006713</td>\n",
       "      <td>0.989923</td>\n",
       "      <td>-0.290906</td>\n",
       "      <td>-0.290906</td>\n",
       "      <td>-0.290906</td>\n",
       "      <td>-0.290906</td>\n",
       "      <td>3.437538</td>\n",
       "    </tr>\n",
       "    <tr>\n",
       "      <th>OverallQual_5</th>\n",
       "      <td>879.0</td>\n",
       "      <td>0.054576</td>\n",
       "      <td>1.026456</td>\n",
       "      <td>-0.613924</td>\n",
       "      <td>-0.613924</td>\n",
       "      <td>-0.613924</td>\n",
       "      <td>1.628867</td>\n",
       "      <td>1.628867</td>\n",
       "    </tr>\n",
       "  </tbody>\n",
       "</table>\n",
       "</div>"
      ],
      "text/plain": [
       "                     count      mean       std       min       25%       50%  \\\n",
       "home_lot_sqft_ratio  879.0  0.006797  1.062084 -1.692226 -0.585789 -0.230873   \n",
       "OverallQual_2        879.0 -0.000011  1.000488 -0.067618 -0.067618 -0.067618   \n",
       "OverallQual_3        879.0  0.007538  1.034220 -0.108821 -0.108821 -0.108821   \n",
       "OverallQual_4        879.0 -0.006713  0.989923 -0.290906 -0.290906 -0.290906   \n",
       "OverallQual_5        879.0  0.054576  1.026456 -0.613924 -0.613924 -0.613924   \n",
       "\n",
       "                          75%        max  \n",
       "home_lot_sqft_ratio  0.159583   6.898807  \n",
       "OverallQual_2       -0.067618  14.788992  \n",
       "OverallQual_3       -0.108821   9.189366  \n",
       "OverallQual_4       -0.290906   3.437538  \n",
       "OverallQual_5        1.628867   1.628867  "
      ]
     },
     "execution_count": 49,
     "metadata": {},
     "output_type": "execute_result"
    }
   ],
   "source": [
    "Zs.describe().T.head()"
   ]
  },
  {
   "cell_type": "code",
   "execution_count": 50,
   "metadata": {},
   "outputs": [],
   "source": [
    "Zs = Zs.set_index('Id')\n",
    "\n",
    "Zs = Zs[['SalePrice']]"
   ]
  },
  {
   "cell_type": "code",
   "execution_count": 51,
   "metadata": {},
   "outputs": [],
   "source": [
    "Zs.to_csv('submission1_reg_kiros_Gebremariam2.csv')"
   ]
  },
  {
   "cell_type": "code",
   "execution_count": 52,
   "metadata": {},
   "outputs": [
    {
     "data": {
      "text/html": [
       "<div>\n",
       "<style scoped>\n",
       "    .dataframe tbody tr th:only-of-type {\n",
       "        vertical-align: middle;\n",
       "    }\n",
       "\n",
       "    .dataframe tbody tr th {\n",
       "        vertical-align: top;\n",
       "    }\n",
       "\n",
       "    .dataframe thead th {\n",
       "        text-align: right;\n",
       "    }\n",
       "</style>\n",
       "<table border=\"1\" class=\"dataframe\">\n",
       "  <thead>\n",
       "    <tr style=\"text-align: right;\">\n",
       "      <th></th>\n",
       "      <th>SalePrice</th>\n",
       "    </tr>\n",
       "    <tr>\n",
       "      <th>Id</th>\n",
       "      <th></th>\n",
       "    </tr>\n",
       "  </thead>\n",
       "  <tbody>\n",
       "    <tr>\n",
       "      <th>2658</th>\n",
       "      <td>177809.690983</td>\n",
       "    </tr>\n",
       "    <tr>\n",
       "      <th>2718</th>\n",
       "      <td>179220.206085</td>\n",
       "    </tr>\n",
       "    <tr>\n",
       "      <th>2414</th>\n",
       "      <td>184105.322138</td>\n",
       "    </tr>\n",
       "    <tr>\n",
       "      <th>1989</th>\n",
       "      <td>180455.435093</td>\n",
       "    </tr>\n",
       "    <tr>\n",
       "      <th>625</th>\n",
       "      <td>177964.534710</td>\n",
       "    </tr>\n",
       "  </tbody>\n",
       "</table>\n",
       "</div>"
      ],
      "text/plain": [
       "          SalePrice\n",
       "Id                 \n",
       "2658  177809.690983\n",
       "2718  179220.206085\n",
       "2414  184105.322138\n",
       "1989  180455.435093\n",
       "625   177964.534710"
      ]
     },
     "execution_count": 52,
     "metadata": {},
     "output_type": "execute_result"
    }
   ],
   "source": [
    "Zs.head()"
   ]
  },
  {
   "cell_type": "code",
   "execution_count": 54,
   "metadata": {},
   "outputs": [
    {
     "data": {
      "text/html": [
       "<div>\n",
       "<style scoped>\n",
       "    .dataframe tbody tr th:only-of-type {\n",
       "        vertical-align: middle;\n",
       "    }\n",
       "\n",
       "    .dataframe tbody tr th {\n",
       "        vertical-align: top;\n",
       "    }\n",
       "\n",
       "    .dataframe thead th {\n",
       "        text-align: right;\n",
       "    }\n",
       "</style>\n",
       "<table border=\"1\" class=\"dataframe\">\n",
       "  <thead>\n",
       "    <tr style=\"text-align: right;\">\n",
       "      <th></th>\n",
       "      <th>0</th>\n",
       "      <th>1</th>\n",
       "    </tr>\n",
       "  </thead>\n",
       "  <tbody>\n",
       "    <tr>\n",
       "      <th>0</th>\n",
       "      <td>SalePrice</td>\n",
       "      <td>-1365.483454</td>\n",
       "    </tr>\n",
       "  </tbody>\n",
       "</table>\n",
       "</div>"
      ],
      "text/plain": [
       "           0            1\n",
       "0  SalePrice -1365.483454"
      ]
     },
     "execution_count": 54,
     "metadata": {},
     "output_type": "execute_result"
    }
   ],
   "source": [
    "\n",
    "pd.DataFrame(list(zip(Zs.columns, np.transpose(lr.coef_))))"
   ]
  },
  {
   "cell_type": "markdown",
   "metadata": {},
   "source": [
    "#### Test the Model by introducing a Test or Validaton set"
   ]
  },
  {
   "cell_type": "code",
   "execution_count": 67,
   "metadata": {},
   "outputs": [
    {
     "data": {
      "text/plain": [
       "LinearRegression(copy_X=True, fit_intercept=True, n_jobs=1, normalize=False)"
      ]
     },
     "execution_count": 67,
     "metadata": {},
     "output_type": "execute_result"
    }
   ],
   "source": [
    "X_train, X_test, y_train, y_test = train_test_split(X, y, random_state=42)\n",
    "lr = LinearRegression()\n",
    "lr.fit(X_train, y_train)"
   ]
  },
  {
   "cell_type": "code",
   "execution_count": 71,
   "metadata": {},
   "outputs": [
    {
     "data": {
      "text/plain": [
       "array([137804.32162051, 209818.64540663, 269781.23528881, 162524.82111105,\n",
       "       204985.58330823, 378767.48872674, 183332.08067121, 371281.83723772,\n",
       "       167329.30498187, 112946.51041935, 113780.17534151, 202663.54297262,\n",
       "       167501.94014319, 120773.60444418, 164368.42712478, 114980.88089467,\n",
       "       136120.24559529, 210154.00335988, 378768.10488475, 212165.38126078,\n",
       "       208549.2182572 , 201183.4387001 , 132148.40121603, 112006.10995581,\n",
       "       135900.36414951, 261489.26014118, 162309.83234853, 133664.26897333,\n",
       "       207890.584182  , 105045.21555885, 269197.78219169, 114160.0926926 ,\n",
       "       135395.50875877, 207688.7372904 , 206185.33783554,  76637.41191901,\n",
       "       170828.13854285, 209994.58248776, 271718.55863398, 129786.84721513,\n",
       "       188126.9836342 , 205018.70468141, 265311.62228221, 164858.18168155,\n",
       "        69955.70610477, 165506.98086889, 136042.24107791, 135544.81230434,\n",
       "       267687.82822721, 138165.9990019 , 367932.80139249, 114084.30004705,\n",
       "       136703.80878756, 137144.31573822, 167296.01392995, 136994.83809596,\n",
       "       205926.39774401, 204961.62436767, 135667.86138691, 152644.19807961,\n",
       "       275819.52564286,  80683.84796434, 165151.08830596, 271783.45457389,\n",
       "       190821.6955867 , 112516.02809931, 274905.41590527, 211710.32351886,\n",
       "       273141.92786501, 136154.84895429, 210353.84417834, 379190.42616603,\n",
       "       273804.55656177, 204333.93712633, 140340.39041915, 164133.84999838,\n",
       "       209637.31799493, 139367.06360649, 136553.1290937 , 274250.59565926,\n",
       "       103661.75878845, 133847.92354861, 165349.26916662, 165825.81303709,\n",
       "       133407.90373349, 132428.82833545, 131501.82222619, 275668.77228016,\n",
       "        86389.55306788, 170340.61258274, 208080.90013949, 165502.75213326,\n",
       "       132526.87749123, 168248.24163107, 166590.49767151, 208062.32946199,\n",
       "       162463.78939382, 107892.35130859, 165697.01804512, 163476.77697364,\n",
       "       132032.78199108, 200553.85678496, 113720.75565822, 175049.56654556,\n",
       "       165443.48359181, 135508.05290238, 133827.90219085, 171689.25454275,\n",
       "       166398.32404404, 134088.61268318,  57346.22707648, 134600.43627682,\n",
       "       165037.3254074 , 267172.94363838, 114831.42828174, 165998.82826894,\n",
       "       161996.49598324, 134013.9226006 , 137837.37128201, 167731.60560928,\n",
       "       205711.08794381, 140212.5021451 , 206683.41278348, 128306.09979816,\n",
       "       204591.65472178, 208600.3021501 , 108116.78749352, 270463.91015123,\n",
       "       206735.0952185 , 135361.6809094 , 169090.62772876, 137256.83176125,\n",
       "       134923.85645175, 270227.88196475, 176386.63555439, 137603.07587775,\n",
       "       112756.28814816, 138591.64023242, 129363.83039375, 161386.08414918,\n",
       "        80683.84796434,  60708.96180865, 133017.87783911, 117128.33075056,\n",
       "       274313.35204142, 207401.97607002, 415476.30517791, 274909.61124163,\n",
       "       139656.5761104 , 203744.86519479, 114554.83271767, 134842.69619757,\n",
       "       137298.69768029, 358515.80901185, 134413.49627276, 161927.17975695,\n",
       "       271276.53481128, 130182.92616019, 168360.4641296 , 210431.9854123 ,\n",
       "       138447.78572236, 200349.33157734, 138859.80090804, 166410.08343168,\n",
       "       137525.40434609, 164952.76230214, 134584.74704101, 166188.68469652,\n",
       "       137673.24451441, 247002.28109093, 208923.23375029, 170710.77047298,\n",
       "       137690.50455772, 201753.85352048, 129232.51706491, 168176.14493262,\n",
       "       270217.93299301, 164808.667694  , 133551.32808605, 169562.79141967,\n",
       "       262947.63945373, 134410.31888007, 165290.57144988, 215291.35943117,\n",
       "       141221.12718855, 196923.12930361, 166917.6012148 , 137911.34143746,\n",
       "       169417.84146565, 136696.10326078, 199469.43711872, 136120.24559529,\n",
       "       135994.24442072,  65030.38111222, 255743.57011399, 166013.92649742,\n",
       "        85950.2765274 , 370482.78827419, 165352.12234153, 271997.75588987,\n",
       "       175382.49435247, 136818.64175304, 206762.85282087, 136694.82517033,\n",
       "       164509.58491208, 135983.76187957, 145106.95794096, 130801.3857678 ,\n",
       "       139724.37180154, 199941.31438333, 159910.78691227, 413756.47681432,\n",
       "       154548.74137639, 168405.0024387 , 413569.06031104, 204561.14396782,\n",
       "       270809.9959967 , 134514.67697163, 270754.59064399, 135810.0166086 ,\n",
       "       133061.32468214, 131386.2651443 , 166377.85464248, 205786.02227857,\n",
       "       107332.77794431, 209636.26203313, 205278.04494907, 136970.3434182 ,\n",
       "       134854.16923525, 167302.33193981, 164482.92004277, 110647.25905857,\n",
       "       164226.48247367, 209755.20113075, 164958.81751013, 140150.57712795,\n",
       "       152561.78956531, 110441.21745903, 138501.16645867, 172091.68744751,\n",
       "       270293.82549778, 134982.45304524, 135370.01235096, 164979.5715876 ,\n",
       "       132068.9277769 , 274345.27029699, 377730.56554442, 169651.92876183,\n",
       "       135476.45501245, 277703.4753131 , 277251.88951438, 375142.37862902,\n",
       "       167780.64307918, 164914.50189258, 177480.12924662, 128781.38707192,\n",
       "       168033.46608005, 138391.8528346 , 269291.16301725, 201273.69598372,\n",
       "       209880.08900587, 141565.44122639, 165675.34304414, 210318.40868978,\n",
       "       271429.2812684 , 166554.18547516, 136663.25791324, 131275.87507007,\n",
       "       108454.95176583, 372676.28901342, 139508.68487689, 131893.43550047,\n",
       "       129624.66940063, 274027.28269268, 133991.53747388, 376465.33700035,\n",
       "       273713.34671293, 177457.14745499, 166024.72223514, 167053.88102048,\n",
       "       112369.91079607, 165161.40053214, 169975.37495187, 133441.57989765,\n",
       "        60931.65328392, 271900.04785813, 108256.36241958, 129758.40875529,\n",
       "       134218.66787681, 156307.30083591, 172091.68744751, 203982.57942915,\n",
       "       162621.21313934, 127893.48740602, 164619.9831488 , 164476.60184606,\n",
       "        72958.01040984, 130927.5989942 , 167140.850218  , 207455.43245832,\n",
       "       135955.46246044, 368721.94788946, 270494.16676599, 166636.37421371,\n",
       "       166595.676945  , 206968.68568944, 130005.10464068, 210743.49706938,\n",
       "       159401.83673003, 170483.97927269, 134224.43913581, 112707.52768054,\n",
       "       170326.14830836, 103736.63958835, 133825.80238087, 167211.58263178,\n",
       "       136805.1031605 , 134883.37516345, 278453.59759405, 131105.58038028,\n",
       "       272944.59257211, 129954.05293603, 133986.91482171, 134879.42774631,\n",
       "       168918.34846077, 142263.21994247, 203467.8430892 , 206443.92609831,\n",
       "       270438.37696512, 113262.4056919 , 163996.95978489, 164190.64984066,\n",
       "       205916.21864359, 262906.0506464 , 129682.79132185, 136120.24559529,\n",
       "       374732.90399472, 208236.21146068, 377142.32195234, 169287.07690409,\n",
       "       207536.98735882, 163621.85647544, 165712.84566947, 274503.38545865,\n",
       "       265174.30135298, 170326.14830836, 138068.70513116, 206000.03917018,\n",
       "       115264.6217455 , 111275.07728054, 107350.75278075, 137046.91746619,\n",
       "       138626.19193909, 274897.32463135, 209124.4844994 , 159873.7493584 ,\n",
       "       218637.4285603 , 208285.67356765,  62323.79599977, 210657.41038921,\n",
       "       214810.9791182 , 375624.44344535, 139604.48295486, 172172.34710037,\n",
       "       205666.48629731, 202718.18859363, 208306.80353788, 203842.05724636,\n",
       "       270521.07204451, 272080.06448207, 136321.22234651, 126749.12893218,\n",
       "       275884.17454026, 171562.00381256, 127728.2290046 , 265041.34650609,\n",
       "       158285.59587769, 167399.68035987, 207003.58169709, 166550.81783028,\n",
       "       140672.1081004 , 204357.06864955, 269123.24329498, 204393.73154584,\n",
       "       210196.51537213, 136121.6862911 , 163706.58236055, 208090.02356876,\n",
       "       140236.8248761 , 135584.41088182, 109562.08378918, 384816.01166441,\n",
       "       168554.75850594, 139758.68676492, 129996.59152188, 163987.07672382,\n",
       "       134464.54599069, 218023.78632704, 203838.97721656, 136812.68477232,\n",
       "       136133.99011386, 167705.90972015, 167662.94075091, 171351.97832313,\n",
       "       182721.62400241, 201650.60890516, 200977.88036847,  82052.53346651,\n",
       "       272460.9491435 , 248299.35006789, 271806.76640257, 159472.76202231,\n",
       "       272953.94603645, 170457.07635727, 273829.77504143, 166123.03591313,\n",
       "       164916.48052221, 110678.79094832, 144941.67254387, 137763.51847066,\n",
       "       271512.96506684, 206548.63889722, 138868.47946379, 204706.77737572,\n",
       "       138962.17920664, 172732.88650689, 128303.86990234, 136654.17292511,\n",
       "       273492.89761535, 269510.35883228, 271992.08166883, 206068.54231505,\n",
       "       109026.41408563, 206767.1400759 , 134523.21170419, 140091.92612513,\n",
       "       272671.08393595, 278407.18502482, 118846.27709824, 135179.65153461,\n",
       "       136867.34027249, 164116.41915625, 132570.92423311, 110250.82099516,\n",
       "       272202.95358235, 180029.46186251, 207525.90536573, 168398.3624245 ,\n",
       "       203935.42131709, 212076.34797645, 130602.92348785, 161341.28964322,\n",
       "       102229.85669463, 208370.19242322, 166182.32007775,  75038.11599431,\n",
       "       410354.93641123, 265339.37709172, 275874.33426958, 175387.87419945,\n",
       "       134128.8908813 , 122029.60548659, 203074.89289993, 208366.72114607,\n",
       "       161233.88347572, 131164.30498835, 137721.91659032, 171559.75997808,\n",
       "       167191.58817553, 186289.4258494 , 204107.38714891, 137499.26129459,\n",
       "       374750.7135093 , 107366.53146652, 128392.93629125, 375670.05611034,\n",
       "       359209.54569337, 140622.51919622, 162157.13828417, 162413.416472  ,\n",
       "       137560.84115857, 129962.4237933 , 208142.11409336, 160725.28368253,\n",
       "       137534.76836133, 270367.37802006, 138625.48095227, 267821.24387447,\n",
       "       162845.10879932, 271177.89632571, 134869.39318381, 155836.78205863,\n",
       "       207419.30890846, 136015.35192884, 205119.10842181, 257674.33335574,\n",
       "       134165.31876007, 110883.46851122, 202762.50495727, 159649.89248118,\n",
       "       131588.22885029, 209343.62744223, 271505.00928269, 208930.72278243,\n",
       "       140216.99026783, 204053.95886696, 195437.22505282, 161865.76704941,\n",
       "       141037.14515987, 135099.57719128, 134489.41318991, 135076.6761792 ,\n",
       "       273086.44285689])"
      ]
     },
     "execution_count": 71,
     "metadata": {},
     "output_type": "execute_result"
    }
   ],
   "source": [
    "predicted = lr.predict(X_test)\n",
    "predicted"
   ]
  }
 ],
 "metadata": {
  "anaconda-cloud": {},
  "kernelspec": {
   "display_name": "Python [conda env:dsi]",
   "language": "python",
   "name": "conda-env-dsi-py"
  },
  "language_info": {
   "codemirror_mode": {
    "name": "ipython",
    "version": 3
   },
   "file_extension": ".py",
   "mimetype": "text/x-python",
   "name": "python",
   "nbconvert_exporter": "python",
   "pygments_lexer": "ipython3",
   "version": "3.6.5"
  }
 },
 "nbformat": 4,
 "nbformat_minor": 1
}
