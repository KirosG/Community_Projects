{
 "cells": [
  {
   "cell_type": "markdown",
   "metadata": {
    "focus": false,
    "id": "69b9a648-bcc7-490d-9f9b-ea244d156bd6"
   },
   "source": [
    "### Reddit's API Predicting  and Modeling"
   ]
  },
  {
   "cell_type": "markdown",
   "metadata": {},
   "source": [
    "## NLP and Modeling"
   ]
  },
  {
   "cell_type": "markdown",
   "metadata": {},
   "source": [
    "KIROS Gebremariam, June 2,2018\n",
    "\n",
    "Data Science Immersive, General Assembly(DC)"
   ]
  },
  {
   "cell_type": "markdown",
   "metadata": {
    "focus": false,
    "id": "a948d79c-5527-4c0d-ab23-f5d43ce72056"
   },
   "source": [
    "#### Setup and Loading file"
   ]
  },
  {
   "cell_type": "code",
   "execution_count": 1,
   "metadata": {},
   "outputs": [],
   "source": [
    "## YOUR CODE HERE"
   ]
  },
  {
   "cell_type": "code",
   "execution_count": 2,
   "metadata": {},
   "outputs": [],
   "source": [
    "# importing Necessary Library\n",
    "import pandas as pd\n",
    "import numpy as np\n",
    "import scipy.stats as stats\n",
    "import seaborn as sns\n",
    "import matplotlib.pyplot as plt\n",
    "import requests\n",
    "import datetime\n",
    "import json\n",
    "import os\n",
    "from bs4 import BeautifulSoup\n",
    "from sklearn.linear_model import LogisticRegressionCV\n",
    "from sklearn.linear_model import LogisticRegression\n",
    "from sklearn.pipeline import Pipeline\n",
    "from sklearn.model_selection import train_test_split\n",
    "from sklearn import metrics\n",
    "from sklearn.neighbors import KNeighborsClassifier\n",
    "from sklearn.model_selection import cross_val_score, StratifiedKFold\n",
    "from sklearn.metrics import classification_report\n",
    "from sklearn.naive_bayes import MultinomialNB, BernoulliNB, GaussianNB\n",
    "from sklearn.metrics import classification_report,confusion_matrix,accuracy_score\n",
    "from sklearn.model_selection import GridSearchCV,RandomizedSearchCV\n",
    "from sklearn.tree import DecisionTreeClassifier\n",
    "from sklearn.ensemble import RandomForestClassifier, ExtraTreesClassifier, BaggingClassifier\n",
    "from sklearn.feature_extraction.text import HashingVectorizer, TfidfVectorizer, CountVectorizer\n",
    "from sklearn.preprocessing import StandardScaler\n",
    "from sklearn.linear_model import LogisticRegression\n",
    "from sklearn.metrics import confusion_matrix as cm\n",
    "from sklearn.ensemble import RandomForestClassifier, AdaBoostClassifier\n",
    "from sklearn.metrics import roc_auc_score\n",
    "from sklearn.metrics import roc_curve, auc\n",
    "from sklearn.metrics import roc_auc_score\n",
    "from sklearn.externals.six import StringIO \n",
    "from IPython.display import Image  \n",
    "from sklearn.tree import export_graphviz\n",
    "# import pydotplus\n",
    "\n",
    "\n",
    "#  Configure Visual setting \n",
    "sns.set_style('whitegrid')\n",
    "plt.style.use('fivethirtyeight')\n",
    "plt.rcParams['figure.figsize'] = (10.0, 8.0) \n",
    "plt.style.use('ggplot')\n",
    "np.random.seed(42)\n",
    "sns.set()\n",
    "%config InlineBackend.figure_format = 'retina'\n",
    "%matplotlib inline    "
   ]
  },
  {
   "cell_type": "markdown",
   "metadata": {},
   "source": [
    "#### 1 Load the Data"
   ]
  },
  {
   "cell_type": "markdown",
   "metadata": {
    "focus": false,
    "id": "243e949e-2742-40af-872e-fec475fd306c"
   },
   "source": [
    "#### Load in the the data of scraped results"
   ]
  },
  {
   "cell_type": "code",
   "execution_count": 3,
   "metadata": {
    "focus": false,
    "id": "588f9845-6143-4bcc-bfd1-85d45b79303d"
   },
   "outputs": [],
   "source": [
    "## YOUR CODE HERE"
   ]
  },
  {
   "cell_type": "code",
   "execution_count": 4,
   "metadata": {
    "scrolled": true
   },
   "outputs": [
    {
     "name": "stdout",
     "output_type": "stream",
     "text": [
      "['.git', '.gitignore', '.ipynb_checkpoints', '1. Data Cleaning and EDA Project 3.ipynb', '2.Exploratory Analysis and Target selection Project 3.ipynb', '3. NLP and Modeling  Project3.ipynb', 'Pro3ExpFinal.csv', 'Pro3ExpFinal0602.csv', 'Project three Presentation.ppt', 'Project3edapartone.csv', 'README.md', 'reddit-engagement-modeling-master', 'Reddit06022018.csv', 'Requirements.txt', 'starter-code.ipynb', 'title', '~$Project three Presentation.ppt']\n"
     ]
    }
   ],
   "source": [
    "# checking the easist way of looking the files you have in the directory\n",
    "import os\n",
    "print(os.listdir())"
   ]
  },
  {
   "cell_type": "code",
   "execution_count": 5,
   "metadata": {},
   "outputs": [],
   "source": [
    "# Lets load the Concatenated DataFrame and the engine specification will help to delimit the outliers\n",
    "df = pd.read_csv('Pro3ExpFinal0602.csv',index_col ='Unnamed: 0' , engine='python')"
   ]
  },
  {
   "cell_type": "markdown",
   "metadata": {},
   "source": [
    "##### Predicting comments using Random Forests + Another Classifier"
   ]
  },
  {
   "cell_type": "markdown",
   "metadata": {},
   "source": [
    "##### 3. NATURAL LANGUAGE PROCESSING"
   ]
  },
  {
   "cell_type": "markdown",
   "metadata": {},
   "source": [
    "##### Create a Random Forest model to predict High/Low number of comments using Sklearn. Start by ONLY using the subreddit as a feature"
   ]
  },
  {
   "cell_type": "code",
   "execution_count": 6,
   "metadata": {},
   "outputs": [
    {
     "name": "stdout",
     "output_type": "stream",
     "text": [
      "(3300, 25)\n"
     ]
    },
    {
     "data": {
      "text/html": [
       "<div>\n",
       "<style scoped>\n",
       "    .dataframe tbody tr th:only-of-type {\n",
       "        vertical-align: middle;\n",
       "    }\n",
       "\n",
       "    .dataframe tbody tr th {\n",
       "        vertical-align: top;\n",
       "    }\n",
       "\n",
       "    .dataframe thead th {\n",
       "        text-align: right;\n",
       "    }\n",
       "</style>\n",
       "<table border=\"1\" class=\"dataframe\">\n",
       "  <thead>\n",
       "    <tr style=\"text-align: right;\">\n",
       "      <th></th>\n",
       "      <th>author</th>\n",
       "      <th>created</th>\n",
       "      <th>created_utc</th>\n",
       "      <th>domain</th>\n",
       "      <th>fetched time</th>\n",
       "      <th>gilded</th>\n",
       "      <th>id</th>\n",
       "      <th>name</th>\n",
       "      <th>num_comments</th>\n",
       "      <th>score</th>\n",
       "      <th>...</th>\n",
       "      <th>subreddit_type</th>\n",
       "      <th>thumbnail_height</th>\n",
       "      <th>thumbnail_width</th>\n",
       "      <th>title</th>\n",
       "      <th>ups</th>\n",
       "      <th>url</th>\n",
       "      <th>visited</th>\n",
       "      <th>which_sub</th>\n",
       "      <th>length</th>\n",
       "      <th>HIGH_LOW</th>\n",
       "    </tr>\n",
       "  </thead>\n",
       "  <tbody>\n",
       "    <tr>\n",
       "      <th>2</th>\n",
       "      <td>JMyers666</td>\n",
       "      <td>1527758232</td>\n",
       "      <td>1527729432</td>\n",
       "      <td>v.redd.it</td>\n",
       "      <td>2018-05-31 15:35:57.507532+00:00</td>\n",
       "      <td>0</td>\n",
       "      <td>8ndytk</td>\n",
       "      <td>t3_8ndytk</td>\n",
       "      <td>1288</td>\n",
       "      <td>36191</td>\n",
       "      <td>...</td>\n",
       "      <td>public</td>\n",
       "      <td>78.0</td>\n",
       "      <td>140.0</td>\n",
       "      <td>A diver in Belize has made friends with an oc...</td>\n",
       "      <td>36191.0</td>\n",
       "      <td>https://v.redd.it/hpebu4tce3111</td>\n",
       "      <td>False</td>\n",
       "      <td>others</td>\n",
       "      <td>110</td>\n",
       "      <td>1</td>\n",
       "    </tr>\n",
       "    <tr>\n",
       "      <th>3</th>\n",
       "      <td>Endless_Vanity</td>\n",
       "      <td>1527712883</td>\n",
       "      <td>1527684083</td>\n",
       "      <td>i.imgur.com</td>\n",
       "      <td>2018-05-31 10:27:31.504151+00:00</td>\n",
       "      <td>0</td>\n",
       "      <td>8n88yu</td>\n",
       "      <td>t3_8n88yu</td>\n",
       "      <td>170</td>\n",
       "      <td>31998</td>\n",
       "      <td>...</td>\n",
       "      <td>public</td>\n",
       "      <td>140.0</td>\n",
       "      <td>140.0</td>\n",
       "      <td>A plum tree in Japan.</td>\n",
       "      <td>31998.0</td>\n",
       "      <td>https://i.imgur.com/AqKOm52.jpg</td>\n",
       "      <td>False</td>\n",
       "      <td>cat</td>\n",
       "      <td>22</td>\n",
       "      <td>1</td>\n",
       "    </tr>\n",
       "    <tr>\n",
       "      <th>4</th>\n",
       "      <td>WitnessMeIRL</td>\n",
       "      <td>1527904422</td>\n",
       "      <td>1527875622</td>\n",
       "      <td>v.redd.it</td>\n",
       "      <td>2018-06-01 20:49:52.948499+00:00</td>\n",
       "      <td>0</td>\n",
       "      <td>8ntyvl</td>\n",
       "      <td>t3_8ntyvl</td>\n",
       "      <td>69</td>\n",
       "      <td>1691</td>\n",
       "      <td>...</td>\n",
       "      <td>public</td>\n",
       "      <td>74.0</td>\n",
       "      <td>140.0</td>\n",
       "      <td>A relaxing stroll along the river</td>\n",
       "      <td>1691.0</td>\n",
       "      <td>https://v.redd.it/g2w0ug0ygf111</td>\n",
       "      <td>False</td>\n",
       "      <td>others</td>\n",
       "      <td>34</td>\n",
       "      <td>1</td>\n",
       "    </tr>\n",
       "    <tr>\n",
       "      <th>58</th>\n",
       "      <td>I_am_Brooks_Orpik</td>\n",
       "      <td>1527711682</td>\n",
       "      <td>1527682882</td>\n",
       "      <td>self.caps</td>\n",
       "      <td>2018-06-01 00:14:03.297542+00:00</td>\n",
       "      <td>0</td>\n",
       "      <td>8n84d6</td>\n",
       "      <td>t3_8n84d6</td>\n",
       "      <td>47</td>\n",
       "      <td>504</td>\n",
       "      <td>...</td>\n",
       "      <td>public</td>\n",
       "      <td>133.0</td>\n",
       "      <td>140.0</td>\n",
       "      <td>GRIT SCF G2 EDITION</td>\n",
       "      <td>504.0</td>\n",
       "      <td>https://www.reddit.com/r/caps/comments/8n84d6/...</td>\n",
       "      <td>False</td>\n",
       "      <td>others</td>\n",
       "      <td>20</td>\n",
       "      <td>1</td>\n",
       "    </tr>\n",
       "    <tr>\n",
       "      <th>3048</th>\n",
       "      <td>Fleece_It_Out_</td>\n",
       "      <td>1527782695</td>\n",
       "      <td>1527753895</td>\n",
       "      <td>imgur.com</td>\n",
       "      <td>2018-05-31 10:57:07.800747+00:00</td>\n",
       "      <td>0</td>\n",
       "      <td>8ngnlr</td>\n",
       "      <td>t3_8ngnlr</td>\n",
       "      <td>71</td>\n",
       "      <td>49</td>\n",
       "      <td>...</td>\n",
       "      <td>public</td>\n",
       "      <td>140.0</td>\n",
       "      <td>140.0</td>\n",
       "      <td>Just a little curious since no one's interest...</td>\n",
       "      <td>49.0</td>\n",
       "      <td>http://imgur.com/a/2CgPOUJ</td>\n",
       "      <td>False</td>\n",
       "      <td>others</td>\n",
       "      <td>53</td>\n",
       "      <td>1</td>\n",
       "    </tr>\n",
       "  </tbody>\n",
       "</table>\n",
       "<p>5 rows × 25 columns</p>\n",
       "</div>"
      ],
      "text/plain": [
       "                 author     created  created_utc       domain  \\\n",
       "2             JMyers666  1527758232   1527729432    v.redd.it   \n",
       "3        Endless_Vanity  1527712883   1527684083  i.imgur.com   \n",
       "4          WitnessMeIRL  1527904422   1527875622    v.redd.it   \n",
       "58    I_am_Brooks_Orpik  1527711682   1527682882    self.caps   \n",
       "3048     Fleece_It_Out_  1527782695   1527753895    imgur.com   \n",
       "\n",
       "                          fetched time  gilded      id       name  \\\n",
       "2     2018-05-31 15:35:57.507532+00:00       0  8ndytk  t3_8ndytk   \n",
       "3     2018-05-31 10:27:31.504151+00:00       0  8n88yu  t3_8n88yu   \n",
       "4     2018-06-01 20:49:52.948499+00:00       0  8ntyvl  t3_8ntyvl   \n",
       "58    2018-06-01 00:14:03.297542+00:00       0  8n84d6  t3_8n84d6   \n",
       "3048  2018-05-31 10:57:07.800747+00:00       0  8ngnlr  t3_8ngnlr   \n",
       "\n",
       "      num_comments  score    ...     subreddit_type  thumbnail_height  \\\n",
       "2             1288  36191    ...             public              78.0   \n",
       "3              170  31998    ...             public             140.0   \n",
       "4               69   1691    ...             public              74.0   \n",
       "58              47    504    ...             public             133.0   \n",
       "3048            71     49    ...             public             140.0   \n",
       "\n",
       "     thumbnail_width                                              title  \\\n",
       "2              140.0   A diver in Belize has made friends with an oc...   \n",
       "3              140.0                              A plum tree in Japan.   \n",
       "4              140.0                  A relaxing stroll along the river   \n",
       "58             140.0                                GRIT SCF G2 EDITION   \n",
       "3048           140.0   Just a little curious since no one's interest...   \n",
       "\n",
       "          ups                                                url  visited  \\\n",
       "2     36191.0                    https://v.redd.it/hpebu4tce3111    False   \n",
       "3     31998.0                    https://i.imgur.com/AqKOm52.jpg    False   \n",
       "4      1691.0                    https://v.redd.it/g2w0ug0ygf111    False   \n",
       "58      504.0  https://www.reddit.com/r/caps/comments/8n84d6/...    False   \n",
       "3048     49.0                         http://imgur.com/a/2CgPOUJ    False   \n",
       "\n",
       "      which_sub length  HIGH_LOW  \n",
       "2        others    110         1  \n",
       "3           cat     22         1  \n",
       "4        others     34         1  \n",
       "58       others     20         1  \n",
       "3048     others     53         1  \n",
       "\n",
       "[5 rows x 25 columns]"
      ]
     },
     "execution_count": 6,
     "metadata": {},
     "output_type": "execute_result"
    }
   ],
   "source": [
    "#  setting a Target variable\n",
    "df['HIGH_LOW']=(df['num_comments']>df['num_comments'].median()).astype(int)\n",
    "print(df.shape)\n",
    "df.head()"
   ]
  },
  {
   "cell_type": "code",
   "execution_count": 7,
   "metadata": {},
   "outputs": [],
   "source": [
    "X = df['subreddit']\n",
    "y= df['HIGH_LOW']"
   ]
  },
  {
   "cell_type": "code",
   "execution_count": 8,
   "metadata": {},
   "outputs": [],
   "source": [
    "#need to conduct a Train/Test split before creating features\n",
    "from sklearn.model_selection import train_test_split \n",
    "X_train,X_test,y_train,y_test = train_test_split(X,y, random_state=42)"
   ]
  },
  {
   "cell_type": "code",
   "execution_count": 9,
   "metadata": {},
   "outputs": [
    {
     "name": "stdout",
     "output_type": "stream",
     "text": [
      "(3300,) (3300,)\n",
      "(2475,) (2475,)\n",
      "(825,) (825,)\n"
     ]
    }
   ],
   "source": [
    "# check if shapes match\n",
    "print(X.shape,y.shape)\n",
    "print(X_train.shape,y_train.shape)\n",
    "print(X_test.shape,y_test.shape)"
   ]
  },
  {
   "cell_type": "code",
   "execution_count": 10,
   "metadata": {},
   "outputs": [],
   "source": [
    "cvec =CountVectorizer(max_features = 2000)"
   ]
  },
  {
   "cell_type": "code",
   "execution_count": 11,
   "metadata": {},
   "outputs": [],
   "source": [
    "cvecdata =cvec.fit_transform(X_train)"
   ]
  },
  {
   "cell_type": "code",
   "execution_count": 12,
   "metadata": {},
   "outputs": [
    {
     "data": {
      "text/plain": [
       "(2475, 1302)"
      ]
     },
     "execution_count": 12,
     "metadata": {},
     "output_type": "execute_result"
    }
   ],
   "source": [
    "subrcvec = pd.DataFrame(cvecdata.todense(),      \n",
    "             columns=cvec.get_feature_names())      # subreddit cvec\n",
    "subrcvec.shape"
   ]
  },
  {
   "cell_type": "code",
   "execution_count": 13,
   "metadata": {
    "scrolled": true
   },
   "outputs": [
    {
     "data": {
      "text/plain": [
       "TfidfVectorizer(analyzer='word', binary=False, decode_error='strict',\n",
       "        dtype=<class 'numpy.int64'>, encoding='utf-8', input='content',\n",
       "        lowercase=True, max_df=1.0, max_features=2000, min_df=1,\n",
       "        ngram_range=(1, 3), norm='l2', preprocessor=None, smooth_idf=True,\n",
       "        stop_words=None, strip_accents=None, sublinear_tf=False,\n",
       "        token_pattern='(?u)\\\\b\\\\w\\\\w+\\\\b', tokenizer=None, use_idf=True,\n",
       "        vocabulary=None)"
      ]
     },
     "execution_count": 13,
     "metadata": {},
     "output_type": "execute_result"
    }
   ],
   "source": [
    "tvec = TfidfVectorizer(max_features = 2000,ngram_range=(1,3))\n",
    "tvec.fit(X_train,y_train)"
   ]
  },
  {
   "cell_type": "code",
   "execution_count": 14,
   "metadata": {},
   "outputs": [],
   "source": [
    "tvecdata= tvec.transform(X_train,y_train)"
   ]
  },
  {
   "cell_type": "code",
   "execution_count": 15,
   "metadata": {},
   "outputs": [
    {
     "data": {
      "text/plain": [
       "((2475,), (2475,))"
      ]
     },
     "execution_count": 15,
     "metadata": {},
     "output_type": "execute_result"
    }
   ],
   "source": [
    "X_train.shape, y_train.shape"
   ]
  },
  {
   "cell_type": "code",
   "execution_count": 16,
   "metadata": {},
   "outputs": [
    {
     "data": {
      "text/plain": [
       "(2475, 1302)"
      ]
     },
     "execution_count": 16,
     "metadata": {},
     "output_type": "execute_result"
    }
   ],
   "source": [
    "# Tvectorizer for training dataset\n",
    "subrtvec  = pd.DataFrame(tvecdata.todense(),\n",
    "                   columns=tvec.get_feature_names(),\n",
    "                         index=[X_train,y_train])\n",
    "subrtvec.shape"
   ]
  },
  {
   "cell_type": "markdown",
   "metadata": {},
   "source": [
    "# cvec Random Forest"
   ]
  },
  {
   "cell_type": "code",
   "execution_count": 17,
   "metadata": {},
   "outputs": [],
   "source": [
    "cv = StratifiedKFold(n_splits=5, shuffle=True, random_state=42)"
   ]
  },
  {
   "cell_type": "code",
   "execution_count": 18,
   "metadata": {},
   "outputs": [
    {
     "name": "stdout",
     "output_type": "stream",
     "text": [
      "Random Forest Score:\t0.689 ± 0.016\n"
     ]
    }
   ],
   "source": [
    "rfc = RandomForestClassifier(class_weight='balanced_subsample')\n",
    "s = cross_val_score(rfc,subrcvec, y_train, cv=cv, n_jobs=-1)\n",
    "print(\"{} Score:\\t{:0.3} ± {:0.3}\".format(\"Random Forest\", s.mean().round(3), s.std().round(3)))"
   ]
  },
  {
   "cell_type": "code",
   "execution_count": 19,
   "metadata": {},
   "outputs": [],
   "source": [
    "cvecdata1 =cvec.fit_transform(X_test)"
   ]
  },
  {
   "cell_type": "code",
   "execution_count": 20,
   "metadata": {},
   "outputs": [],
   "source": [
    "subrcvec1 = pd.DataFrame(cvecdata1.todense(),      \n",
    "             columns=cvec.get_feature_names())"
   ]
  },
  {
   "cell_type": "code",
   "execution_count": 21,
   "metadata": {},
   "outputs": [
    {
     "name": "stdout",
     "output_type": "stream",
     "text": [
      "Random Forest Score:\t0.64 ± 0.03\n"
     ]
    }
   ],
   "source": [
    "rfc = RandomForestClassifier(class_weight='balanced_subsample')\n",
    "s = cross_val_score(rfc,subrcvec1, y_test, cv=cv, n_jobs=-1)\n",
    "print(\"{} Score:\\t{:0.3} ± {:0.3}\".format(\"Random Forest\", s.mean().round(3), s.std().round(3)))"
   ]
  },
  {
   "cell_type": "code",
   "execution_count": 22,
   "metadata": {
    "scrolled": true
   },
   "outputs": [
    {
     "data": {
      "text/html": [
       "<div>\n",
       "<style scoped>\n",
       "    .dataframe tbody tr th:only-of-type {\n",
       "        vertical-align: middle;\n",
       "    }\n",
       "\n",
       "    .dataframe tbody tr th {\n",
       "        vertical-align: top;\n",
       "    }\n",
       "\n",
       "    .dataframe thead th {\n",
       "        text-align: right;\n",
       "    }\n",
       "</style>\n",
       "<table border=\"1\" class=\"dataframe\">\n",
       "  <thead>\n",
       "    <tr style=\"text-align: right;\">\n",
       "      <th></th>\n",
       "      <th>30rock</th>\n",
       "      <th>3amjokes</th>\n",
       "      <th>4panelcringe</th>\n",
       "      <th>abandonedporn</th>\n",
       "      <th>ableton</th>\n",
       "      <th>absolutelynotme_irl</th>\n",
       "      <th>accidentalrenaissance</th>\n",
       "      <th>acpocketcamp</th>\n",
       "      <th>afl</th>\n",
       "      <th>alternativeart</th>\n",
       "      <th>...</th>\n",
       "      <th>wwe</th>\n",
       "      <th>xboxone</th>\n",
       "      <th>xxfitness</th>\n",
       "      <th>yesyesyesno</th>\n",
       "      <th>yesyesyesyesno</th>\n",
       "      <th>youseeingthisshit</th>\n",
       "      <th>youshouldknow</th>\n",
       "      <th>youtubehaiku</th>\n",
       "      <th>zerowaste</th>\n",
       "      <th>zuckmemes</th>\n",
       "    </tr>\n",
       "  </thead>\n",
       "  <tbody>\n",
       "    <tr>\n",
       "      <th>0</th>\n",
       "      <td>0</td>\n",
       "      <td>0</td>\n",
       "      <td>0</td>\n",
       "      <td>0</td>\n",
       "      <td>0</td>\n",
       "      <td>0</td>\n",
       "      <td>0</td>\n",
       "      <td>0</td>\n",
       "      <td>0</td>\n",
       "      <td>0</td>\n",
       "      <td>...</td>\n",
       "      <td>0</td>\n",
       "      <td>0</td>\n",
       "      <td>0</td>\n",
       "      <td>0</td>\n",
       "      <td>0</td>\n",
       "      <td>0</td>\n",
       "      <td>0</td>\n",
       "      <td>0</td>\n",
       "      <td>0</td>\n",
       "      <td>0</td>\n",
       "    </tr>\n",
       "    <tr>\n",
       "      <th>1</th>\n",
       "      <td>0</td>\n",
       "      <td>0</td>\n",
       "      <td>0</td>\n",
       "      <td>0</td>\n",
       "      <td>0</td>\n",
       "      <td>0</td>\n",
       "      <td>0</td>\n",
       "      <td>0</td>\n",
       "      <td>0</td>\n",
       "      <td>0</td>\n",
       "      <td>...</td>\n",
       "      <td>0</td>\n",
       "      <td>0</td>\n",
       "      <td>0</td>\n",
       "      <td>0</td>\n",
       "      <td>0</td>\n",
       "      <td>0</td>\n",
       "      <td>0</td>\n",
       "      <td>0</td>\n",
       "      <td>0</td>\n",
       "      <td>0</td>\n",
       "    </tr>\n",
       "    <tr>\n",
       "      <th>2</th>\n",
       "      <td>0</td>\n",
       "      <td>0</td>\n",
       "      <td>0</td>\n",
       "      <td>0</td>\n",
       "      <td>0</td>\n",
       "      <td>0</td>\n",
       "      <td>0</td>\n",
       "      <td>0</td>\n",
       "      <td>0</td>\n",
       "      <td>0</td>\n",
       "      <td>...</td>\n",
       "      <td>0</td>\n",
       "      <td>0</td>\n",
       "      <td>0</td>\n",
       "      <td>0</td>\n",
       "      <td>0</td>\n",
       "      <td>0</td>\n",
       "      <td>0</td>\n",
       "      <td>0</td>\n",
       "      <td>0</td>\n",
       "      <td>0</td>\n",
       "    </tr>\n",
       "    <tr>\n",
       "      <th>3</th>\n",
       "      <td>0</td>\n",
       "      <td>0</td>\n",
       "      <td>0</td>\n",
       "      <td>0</td>\n",
       "      <td>0</td>\n",
       "      <td>0</td>\n",
       "      <td>0</td>\n",
       "      <td>0</td>\n",
       "      <td>0</td>\n",
       "      <td>0</td>\n",
       "      <td>...</td>\n",
       "      <td>0</td>\n",
       "      <td>0</td>\n",
       "      <td>0</td>\n",
       "      <td>0</td>\n",
       "      <td>0</td>\n",
       "      <td>0</td>\n",
       "      <td>0</td>\n",
       "      <td>0</td>\n",
       "      <td>0</td>\n",
       "      <td>0</td>\n",
       "    </tr>\n",
       "    <tr>\n",
       "      <th>4</th>\n",
       "      <td>0</td>\n",
       "      <td>0</td>\n",
       "      <td>0</td>\n",
       "      <td>0</td>\n",
       "      <td>0</td>\n",
       "      <td>0</td>\n",
       "      <td>0</td>\n",
       "      <td>0</td>\n",
       "      <td>0</td>\n",
       "      <td>0</td>\n",
       "      <td>...</td>\n",
       "      <td>0</td>\n",
       "      <td>0</td>\n",
       "      <td>0</td>\n",
       "      <td>0</td>\n",
       "      <td>0</td>\n",
       "      <td>0</td>\n",
       "      <td>0</td>\n",
       "      <td>0</td>\n",
       "      <td>0</td>\n",
       "      <td>0</td>\n",
       "    </tr>\n",
       "  </tbody>\n",
       "</table>\n",
       "<p>5 rows × 616 columns</p>\n",
       "</div>"
      ],
      "text/plain": [
       "   30rock  3amjokes  4panelcringe  abandonedporn  ableton  \\\n",
       "0       0         0             0              0        0   \n",
       "1       0         0             0              0        0   \n",
       "2       0         0             0              0        0   \n",
       "3       0         0             0              0        0   \n",
       "4       0         0             0              0        0   \n",
       "\n",
       "   absolutelynotme_irl  accidentalrenaissance  acpocketcamp  afl  \\\n",
       "0                    0                      0             0    0   \n",
       "1                    0                      0             0    0   \n",
       "2                    0                      0             0    0   \n",
       "3                    0                      0             0    0   \n",
       "4                    0                      0             0    0   \n",
       "\n",
       "   alternativeart    ...      wwe  xboxone  xxfitness  yesyesyesno  \\\n",
       "0               0    ...        0        0          0            0   \n",
       "1               0    ...        0        0          0            0   \n",
       "2               0    ...        0        0          0            0   \n",
       "3               0    ...        0        0          0            0   \n",
       "4               0    ...        0        0          0            0   \n",
       "\n",
       "   yesyesyesyesno  youseeingthisshit  youshouldknow  youtubehaiku  zerowaste  \\\n",
       "0               0                  0              0             0          0   \n",
       "1               0                  0              0             0          0   \n",
       "2               0                  0              0             0          0   \n",
       "3               0                  0              0             0          0   \n",
       "4               0                  0              0             0          0   \n",
       "\n",
       "   zuckmemes  \n",
       "0          0  \n",
       "1          0  \n",
       "2          0  \n",
       "3          0  \n",
       "4          0  \n",
       "\n",
       "[5 rows x 616 columns]"
      ]
     },
     "execution_count": 22,
     "metadata": {},
     "output_type": "execute_result"
    }
   ],
   "source": [
    "subrcvec1.head()"
   ]
  },
  {
   "cell_type": "markdown",
   "metadata": {},
   "source": [
    "#### MODELING EVALUATION"
   ]
  },
  {
   "cell_type": "code",
   "execution_count": 23,
   "metadata": {},
   "outputs": [],
   "source": [
    "X = pd.get_dummies(df['subreddit'])\n",
    "y = df['HIGH_LOW']\n",
    "from sklearn.model_selection import train_test_split\n",
    "X_train, X_test, y_train, y_test = train_test_split(X, y, random_state=42)"
   ]
  },
  {
   "cell_type": "code",
   "execution_count": 24,
   "metadata": {},
   "outputs": [],
   "source": [
    "# Ustandardization and applying all models at once\n",
    "ss  = StandardScaler()\n",
    "\n",
    "logreg = LogisticRegression()\n",
    "rfc = RandomForestClassifier(n_estimators=14, random_state=42)\n",
    "adb = AdaBoostClassifier(n_estimators=100, learning_rate=0.1, random_state=42)"
   ]
  },
  {
   "cell_type": "code",
   "execution_count": 25,
   "metadata": {},
   "outputs": [],
   "source": [
    "# making pipeline for choosing best model\n",
    "pipe_logreg = Pipeline([\n",
    "    ('ss', ss),\n",
    "    ('logreg', logreg)\n",
    "])\n",
    "pipe_rfc = Pipeline([\n",
    "    ('ss', ss),\n",
    "    ('rfc', rfc),\n",
    "])\n",
    "pipe_adb = Pipeline([\n",
    "    ('ss', ss),\n",
    "    ('adb', adb)\n",
    "])"
   ]
  },
  {
   "cell_type": "code",
   "execution_count": 26,
   "metadata": {},
   "outputs": [
    {
     "name": "stdout",
     "output_type": "stream",
     "text": [
      "\n",
      "Score Train/Test: Logistic Regression\n",
      "0.8872727272727273\n",
      "0.7284848484848485\n",
      "\n",
      "Score Train/Test: Random Forest\n",
      "0.86989898989899\n",
      "0.7236363636363636\n",
      "\n",
      "Score Train/Test: Adaboost\n",
      "0.6416161616161616\n",
      "0.610909090909091\n",
      "CPU times: user 11.6 s, sys: 373 ms, total: 11.9 s\n",
      "Wall time: 12.2 s\n"
     ]
    }
   ],
   "source": [
    "%%time\n",
    "pipes    = [ \n",
    "    pipe_logreg, \n",
    "    pipe_rfc, \n",
    "    pipe_adb,\n",
    "]\n",
    "pipe_idx = {0: 'Logistic Regression', \n",
    "            1: 'Random Forest', \n",
    "            2: 'Adaboost'\n",
    "           }\n",
    "\n",
    "for idx, pipe in enumerate(pipes):\n",
    "    pipe.fit(X_train, y_train)\n",
    "    print('\\nScore Train/Test: %s' % pipe_idx[idx])\n",
    "    print(pipe.score(X_train, y_train))\n",
    "    print(pipe.score(X_test, y_test))\n",
    "#     print('Best params: %s' % pipe.best_params_)"
   ]
  },
  {
   "cell_type": "markdown",
   "metadata": {},
   "source": [
    "#### LOGISTIC REGRESSION"
   ]
  },
  {
   "cell_type": "code",
   "execution_count": 27,
   "metadata": {},
   "outputs": [],
   "source": [
    "logreg = LogisticRegression()\n",
    "model=logreg.fit(X_train, y_train)     # fitting the training data"
   ]
  },
  {
   "cell_type": "code",
   "execution_count": 28,
   "metadata": {},
   "outputs": [
    {
     "data": {
      "text/plain": [
       "(0.7183801083843528, 0.006237860290084136)"
      ]
     },
     "execution_count": 28,
     "metadata": {},
     "output_type": "execute_result"
    }
   ],
   "source": [
    "scores = cross_val_score(model, X_train, y_train, cv=5)  # cross Validation\n",
    "np.mean(scores), np.std(scores) #  scoring the performance of training data"
   ]
  },
  {
   "cell_type": "code",
   "execution_count": 29,
   "metadata": {},
   "outputs": [
    {
     "data": {
      "text/plain": [
       "(0.6739737664627469, 0.016044418682368528)"
      ]
     },
     "execution_count": 29,
     "metadata": {},
     "output_type": "execute_result"
    }
   ],
   "source": [
    "logreg = LogisticRegression()\n",
    "scores = cross_val_score(logreg,  X_test, y_test,  cv=5)\n",
    "np.mean(scores), np.std(scores)    # scoring on my Testing Data under performs also"
   ]
  },
  {
   "cell_type": "code",
   "execution_count": 30,
   "metadata": {},
   "outputs": [],
   "source": [
    "# Predicting the  y values on the testing  Random Forest Classifier\n",
    "#fit on the training, predict on the testing data\n",
    "\n",
    "y_hat = model.predict(X_test)"
   ]
  },
  {
   "cell_type": "code",
   "execution_count": 31,
   "metadata": {},
   "outputs": [
    {
     "name": "stdout",
     "output_type": "stream",
     "text": [
      "72.84848484848484\n"
     ]
    }
   ],
   "source": [
    "# ACCURACY of the model\n",
    "accuracy=100*metrics.accuracy_score(y_test, y_hat)\n",
    "print(accuracy)"
   ]
  },
  {
   "cell_type": "code",
   "execution_count": 32,
   "metadata": {
    "scrolled": true
   },
   "outputs": [
    {
     "name": "stdout",
     "output_type": "stream",
     "text": [
      "[[355  73]\n",
      " [151 246]]\n"
     ]
    }
   ],
   "source": [
    "# A confusion matrix tells us our false positives and false negatives:\n",
    "mx = confusion_matrix(y_test, y_hat)\n",
    "print (mx)"
   ]
  },
  {
   "cell_type": "code",
   "execution_count": 33,
   "metadata": {},
   "outputs": [
    {
     "name": "stdout",
     "output_type": "stream",
     "text": [
      "sensitivity: 61.9647355163728\n",
      "specificity: 82.94392523364486\n"
     ]
    }
   ],
   "source": [
    "#  Now lets interprete the confusion matrix as follows\n",
    "tn, fp, fn, tp = mx.ravel()\n",
    "sensitivity = 100*tp/(tp+fn)\n",
    "specificity=100*tn/(tn+fp)\n",
    "\n",
    "print('sensitivity:', sensitivity)\n",
    "print('specificity:', specificity)"
   ]
  },
  {
   "cell_type": "code",
   "execution_count": 34,
   "metadata": {},
   "outputs": [
    {
     "name": "stdout",
     "output_type": "stream",
     "text": [
      "72.45433037500884\n"
     ]
    }
   ],
   "source": [
    "# Our ROC-AUC score measures the trade-off between specificity and sensitivity\n",
    "roc_score=100*roc_auc_score(y_test, y_hat)\n",
    "print(roc_score)"
   ]
  },
  {
   "cell_type": "code",
   "execution_count": 35,
   "metadata": {},
   "outputs": [],
   "source": [
    "# creating dataframe of matrix  and adding the confusion matrix\n",
    "confusion_mat = pd.DataFrame(confusion_matrix(y_test, y_hat), \n",
    "                                              columns=['predicted_High(1)', 'predicted_low(0)'], \n",
    "                      index=['is_High(1)', 'is_Low(0)'])"
   ]
  },
  {
   "cell_type": "code",
   "execution_count": 36,
   "metadata": {},
   "outputs": [
    {
     "data": {
      "text/html": [
       "<div>\n",
       "<style scoped>\n",
       "    .dataframe tbody tr th:only-of-type {\n",
       "        vertical-align: middle;\n",
       "    }\n",
       "\n",
       "    .dataframe tbody tr th {\n",
       "        vertical-align: top;\n",
       "    }\n",
       "\n",
       "    .dataframe thead th {\n",
       "        text-align: right;\n",
       "    }\n",
       "</style>\n",
       "<table border=\"1\" class=\"dataframe\">\n",
       "  <thead>\n",
       "    <tr style=\"text-align: right;\">\n",
       "      <th></th>\n",
       "      <th>predicted_High(1)</th>\n",
       "      <th>predicted_low(0)</th>\n",
       "    </tr>\n",
       "  </thead>\n",
       "  <tbody>\n",
       "    <tr>\n",
       "      <th>is_High(1)</th>\n",
       "      <td>355</td>\n",
       "      <td>73</td>\n",
       "    </tr>\n",
       "    <tr>\n",
       "      <th>is_Low(0)</th>\n",
       "      <td>151</td>\n",
       "      <td>246</td>\n",
       "    </tr>\n",
       "  </tbody>\n",
       "</table>\n",
       "</div>"
      ],
      "text/plain": [
       "            predicted_High(1)  predicted_low(0)\n",
       "is_High(1)                355                73\n",
       "is_Low(0)                 151               246"
      ]
     },
     "execution_count": 36,
     "metadata": {},
     "output_type": "execute_result"
    }
   ],
   "source": [
    "confusion_mat"
   ]
  },
  {
   "cell_type": "code",
   "execution_count": 37,
   "metadata": {
    "scrolled": false
   },
   "outputs": [
    {
     "name": "stdout",
     "output_type": "stream",
     "text": [
      "\n",
      "Classification Report:\n",
      "              precision    recall  f1-score   support\n",
      "\n",
      "          0       0.70      0.83      0.76       428\n",
      "          1       0.77      0.62      0.69       397\n",
      "\n",
      "avg / total       0.74      0.73      0.73       825\n",
      "\n"
     ]
    }
   ],
   "source": [
    "print(\"\\nClassification Report:\\n\",classification_report(y_test, y_hat))\n",
    "# recall is sensetivity, shows confusion matrix scoring"
   ]
  },
  {
   "cell_type": "code",
   "execution_count": 38,
   "metadata": {},
   "outputs": [
    {
     "data": {
      "text/plain": [
       "array([0.44034152, 0.44034152, 0.44034152, 0.44034152, 0.6755737 ,\n",
       "       0.39521824, 0.44034152, 0.44034152, 0.35543939, 0.35543939,\n",
       "       0.83245945, 0.44034152, 0.44034152, 0.6755737 , 0.44034152,\n",
       "       0.46009425, 0.44034152, 0.35543939, 0.46009425, 0.43289562,\n",
       "       0.5236502 , 0.55189376, 0.46009425, 0.62490442, 0.44034152,\n",
       "       0.44034152, 0.44034152, 0.80854738, 0.44034152, 0.44034152,\n",
       "       0.46009425, 0.44034152, 0.44034152, 0.30111304, 0.44034152,\n",
       "       0.44034152, 0.55189376, 0.55189376, 0.55189376, 0.44034152,\n",
       "       0.44034152, 0.55189376, 0.44034152, 0.44034152, 0.35543939,\n",
       "       0.35543939, 0.44034152, 0.55189376, 0.62490442, 0.88167415,\n",
       "       0.55189376, 0.53713586, 0.83245945, 0.44034152, 0.41813331,\n",
       "       0.84534979, 0.44034152, 0.44034152, 0.47004616, 0.44034152,\n",
       "       0.46009425, 0.44034152, 0.44034152, 0.44034152, 0.6755737 ,\n",
       "       0.34753269, 0.44034152, 0.44034152, 0.35543939, 0.44034152,\n",
       "       0.5236502 , 0.44034152, 0.71280007, 0.44034152, 0.55189376,\n",
       "       0.83245945, 0.55189376, 0.6755737 , 0.30111304, 0.44034152,\n",
       "       0.44034152, 0.44034152, 0.30111304, 0.57578702, 0.35543939,\n",
       "       0.6755737 , 0.44034152, 0.30111304, 0.71280007, 0.84534979,\n",
       "       0.43289562, 0.6755737 , 0.44034152, 0.35543939, 0.44034152,\n",
       "       0.46009425, 0.44034152, 0.35543939, 0.62490442, 0.44034152,\n",
       "       0.44034152, 0.26320334, 0.44034152, 0.35543939, 0.74139603,\n",
       "       0.6755737 , 0.47602963, 0.83245945, 0.41813331, 0.44034152,\n",
       "       0.30111304, 0.35543939, 0.44034152, 0.44034152, 0.30111304,\n",
       "       0.44034152, 0.55189376, 0.55189376, 0.44034152, 0.88167415,\n",
       "       0.84534979, 0.44034152, 0.55189376, 0.71280007, 0.71280007,\n",
       "       0.44034152, 0.88167415, 0.80854738, 0.72429484, 0.35543939,\n",
       "       0.47004616, 0.53713586, 0.44034152, 0.44034152, 0.62490442,\n",
       "       0.78268828, 0.63837757, 0.44034152, 0.62490442, 0.35543939,\n",
       "       0.35543939, 0.35543939, 0.62490442, 0.44034152, 0.53713586,\n",
       "       0.44034152, 0.44034152, 0.44034152, 0.44034152, 0.70109862,\n",
       "       0.55189376, 0.84534979, 0.44034152, 0.5236502 , 0.44034152,\n",
       "       0.74139603, 0.44034152, 0.35543939, 0.44034152, 0.30111304,\n",
       "       0.55189376, 0.44034152, 0.44034152, 0.47004616, 0.6755737 ,\n",
       "       0.74139603, 0.35543939, 0.44034152, 0.57578702, 0.44034152,\n",
       "       0.70109862, 0.35543939, 0.46009425, 0.44034152, 0.55189376,\n",
       "       0.55189376, 0.44034152, 0.44034152, 0.44034152, 0.26320334,\n",
       "       0.44034152, 0.44034152, 0.6755737 , 0.6755737 , 0.46009425,\n",
       "       0.79816771, 0.62490442, 0.6755737 , 0.46009425, 0.59445353,\n",
       "       0.44034152, 0.35543939, 0.55189376, 0.35543939, 0.44034152,\n",
       "       0.44034152, 0.44034152, 0.35543939, 0.44034152, 0.44034152,\n",
       "       0.80854738, 0.59445353, 0.83245945, 0.41813331, 0.6755737 ,\n",
       "       0.6755737 , 0.35543939, 0.57578702, 0.44034152, 0.55189376,\n",
       "       0.35543939, 0.39521824, 0.35543939, 0.44034152, 0.44034152,\n",
       "       0.88167415, 0.5236502 , 0.44034152, 0.53713586, 0.44034152,\n",
       "       0.6755737 , 0.44034152, 0.44034152, 0.44034152, 0.59445353,\n",
       "       0.44034152, 0.6755737 , 0.83245945, 0.62490442, 0.62490442,\n",
       "       0.6755737 , 0.39521824, 0.55189376, 0.35543939, 0.46009425,\n",
       "       0.6755737 , 0.83245945, 0.46009425, 0.44034152, 0.44034152,\n",
       "       0.30111304, 0.46009425, 0.44034152, 0.35543939, 0.74139603,\n",
       "       0.44034152, 0.44034152, 0.55189376, 0.41813331, 0.44034152,\n",
       "       0.39521824, 0.41813331, 0.30111304, 0.44034152, 0.70109862,\n",
       "       0.44034152, 0.62490442, 0.44034152, 0.70109862, 0.44034152,\n",
       "       0.44034152, 0.44034152, 0.44034152, 0.53713586, 0.44034152,\n",
       "       0.44034152, 0.39521824, 0.35543939, 0.59445353, 0.44034152,\n",
       "       0.79892456, 0.44034152, 0.47004616, 0.44034152, 0.44034152,\n",
       "       0.44034152, 0.30111304, 0.6755737 , 0.47004616, 0.35543939,\n",
       "       0.44034152, 0.35543939, 0.34753269, 0.44034152, 0.62490442,\n",
       "       0.67304129, 0.44034152, 0.72429484, 0.35543939, 0.44034152,\n",
       "       0.80854738, 0.35543939, 0.35543939, 0.44034152, 0.44034152,\n",
       "       0.35543939, 0.44034152, 0.44034152, 0.55189376, 0.47004616,\n",
       "       0.47004616, 0.44034152, 0.62490442, 0.44034152, 0.44034152,\n",
       "       0.44034152, 0.35543939, 0.35543939, 0.62490442, 0.55189376,\n",
       "       0.44034152, 0.35543939, 0.44034152, 0.44034152, 0.37705105,\n",
       "       0.46009425, 0.41813331, 0.44034152, 0.55189376, 0.59445353,\n",
       "       0.44034152, 0.6755737 , 0.62490442, 0.44034152, 0.35543939,\n",
       "       0.44034152, 0.26320334, 0.47602963, 0.44034152, 0.35543939,\n",
       "       0.6755737 , 0.74139603, 0.79816771, 0.55189376, 0.55189376,\n",
       "       0.38457984, 0.35543939, 0.53713586, 0.55189376, 0.59445353,\n",
       "       0.63837757, 0.76412817, 0.35543939, 0.79816771, 0.71280007,\n",
       "       0.35543939, 0.35543939, 0.43289562, 0.46009425, 0.35543939,\n",
       "       0.46009425, 0.44034152, 0.44034152, 0.6755737 , 0.44034152,\n",
       "       0.6755737 , 0.44034152, 0.44034152, 0.46009425, 0.44034152,\n",
       "       0.35543939, 0.44034152, 0.78268828, 0.53713586, 0.44034152,\n",
       "       0.39521824, 0.62490442, 0.30111304, 0.44034152, 0.30111304,\n",
       "       0.44034152, 0.44034152, 0.55189376, 0.53713586, 0.79892456,\n",
       "       0.44034152, 0.55189376, 0.47004616, 0.35543939, 0.35543939,\n",
       "       0.47004616, 0.23505391, 0.44034152, 0.53713586, 0.53713586,\n",
       "       0.6755737 , 0.44034152, 0.55189376, 0.37705105, 0.62490442,\n",
       "       0.55189376, 0.44034152, 0.44034152, 0.6755737 , 0.79816771,\n",
       "       0.44034152, 0.44034152, 0.44034152, 0.70109862, 0.62490442,\n",
       "       0.47004616, 0.55189376, 0.39521824, 0.44034152, 0.55189376,\n",
       "       0.55189376, 0.44034152, 0.35543939, 0.44034152, 0.44034152,\n",
       "       0.44034152, 0.62490442, 0.55189376, 0.35543939, 0.55189376,\n",
       "       0.6755737 , 0.62490442, 0.44034152, 0.44034152, 0.35543939,\n",
       "       0.44034152, 0.63837757, 0.44034152, 0.35543939, 0.44034152,\n",
       "       0.44034152, 0.44034152, 0.44034152, 0.35543939, 0.83245945,\n",
       "       0.46009425, 0.84534979, 0.44034152, 0.44034152, 0.59445353,\n",
       "       0.55189376, 0.35543939, 0.55189376, 0.63837757, 0.44034152,\n",
       "       0.46009425, 0.30111304, 0.44034152, 0.47004616, 0.47602963,\n",
       "       0.44034152, 0.30111304, 0.35543939, 0.62490442, 0.55189376,\n",
       "       0.6755737 , 0.6755737 , 0.55189376, 0.84534979, 0.44034152,\n",
       "       0.55189376, 0.44034152, 0.35543939, 0.30111304, 0.78268828,\n",
       "       0.44034152, 0.55189376, 0.44034152, 0.35543939, 0.6755737 ,\n",
       "       0.71280007, 0.44034152, 0.46009425, 0.55189376, 0.71280007,\n",
       "       0.37705105, 0.44034152, 0.53713586, 0.35543939, 0.57578702,\n",
       "       0.35543939, 0.44034152, 0.44034152, 0.55189376, 0.84534979,\n",
       "       0.63837757, 0.44034152, 0.53713586, 0.71280007, 0.44034152,\n",
       "       0.35543939, 0.55189376, 0.6755737 , 0.47004616, 0.59445353,\n",
       "       0.55189376, 0.44034152, 0.44034152, 0.35543939, 0.35543939,\n",
       "       0.44034152, 0.44034152, 0.44034152, 0.79816771, 0.53713586,\n",
       "       0.53713586, 0.6755737 , 0.62490442, 0.35543939, 0.62490442,\n",
       "       0.35543939, 0.44034152, 0.6755737 , 0.44034152, 0.39521824,\n",
       "       0.6755737 , 0.5236502 , 0.44034152, 0.44034152, 0.44034152,\n",
       "       0.6755737 , 0.80854738, 0.44034152, 0.44034152, 0.70109862,\n",
       "       0.44034152, 0.44034152, 0.53713586, 0.35543939, 0.44034152,\n",
       "       0.44034152, 0.44034152, 0.59445353, 0.70109862, 0.5236502 ,\n",
       "       0.44034152, 0.44034152, 0.44034152, 0.62490442, 0.44034152,\n",
       "       0.44034152, 0.23505391, 0.89596159, 0.44034152, 0.44034152,\n",
       "       0.35543939, 0.79892456, 0.47004616, 0.44034152, 0.70109862,\n",
       "       0.70109862, 0.34753269, 0.44034152, 0.79892456, 0.6755737 ,\n",
       "       0.6755737 , 0.44034152, 0.53713586, 0.63837757, 0.39521824,\n",
       "       0.6755737 , 0.44034152, 0.44034152, 0.35543939, 0.6755737 ,\n",
       "       0.53713586, 0.35543939, 0.41813331, 0.44034152, 0.44034152,\n",
       "       0.44034152, 0.44034152, 0.55189376, 0.55189376, 0.61382774,\n",
       "       0.35543939, 0.59445353, 0.62490442, 0.44034152, 0.78268828,\n",
       "       0.30111304, 0.47004616, 0.71280007, 0.35543939, 0.46009425,\n",
       "       0.55189376, 0.44034152, 0.62490442, 0.44034152, 0.6755737 ,\n",
       "       0.44034152, 0.44034152, 0.35543939, 0.39521824, 0.79892456,\n",
       "       0.44034152, 0.34753269, 0.77490878, 0.55189376, 0.47004616,\n",
       "       0.35543939, 0.78268828, 0.35543939, 0.53713586, 0.55189376,\n",
       "       0.44034152, 0.88167415, 0.83245945, 0.83245945, 0.35543939,\n",
       "       0.55189376, 0.44034152, 0.44034152, 0.6755737 , 0.44034152,\n",
       "       0.35543939, 0.44034152, 0.55189376, 0.62490442, 0.23505391,\n",
       "       0.44034152, 0.44034152, 0.44034152, 0.44034152, 0.35543939,\n",
       "       0.78268828, 0.6755737 , 0.43289562, 0.55189376, 0.44034152,\n",
       "       0.80854738, 0.61382774, 0.80854738, 0.6755737 , 0.21319721,\n",
       "       0.55189376, 0.30111304, 0.57578702, 0.44034152, 0.55189376,\n",
       "       0.62490442, 0.6755737 , 0.6755737 , 0.30111304, 0.44034152,\n",
       "       0.74139603, 0.35543939, 0.44034152, 0.53713586, 0.44034152,\n",
       "       0.44034152, 0.44034152, 0.70109862, 0.44034152, 0.44034152,\n",
       "       0.55189376, 0.23505391, 0.44034152, 0.6755737 , 0.35543939,\n",
       "       0.62490442, 0.55189376, 0.35543939, 0.44034152, 0.47004616,\n",
       "       0.44034152, 0.46009425, 0.78268828, 0.55189376, 0.78268828,\n",
       "       0.26320334, 0.6755737 , 0.89596159, 0.70109862, 0.6755737 ,\n",
       "       0.44034152, 0.44034152, 0.44034152, 0.46009425, 0.53713586,\n",
       "       0.26320334, 0.74139603, 0.44034152, 0.35543939, 0.39521824,\n",
       "       0.44034152, 0.44034152, 0.55189376, 0.62490442, 0.44034152,\n",
       "       0.44034152, 0.55189376, 0.44034152, 0.35543939, 0.71280007,\n",
       "       0.44034152, 0.44034152, 0.44034152, 0.78268828, 0.35543939,\n",
       "       0.43289562, 0.44034152, 0.44034152, 0.44034152, 0.46009425,\n",
       "       0.46009425, 0.44034152, 0.35543939, 0.35543939, 0.62490442,\n",
       "       0.44034152, 0.44034152, 0.39521824, 0.6755737 , 0.62490442,\n",
       "       0.47004616, 0.74139603, 0.44034152, 0.53713586, 0.46009425,\n",
       "       0.47602963, 0.35543939, 0.53713586, 0.3110702 , 0.44034152,\n",
       "       0.30111304, 0.5236502 , 0.35543939, 0.44034152, 0.55189376,\n",
       "       0.44034152, 0.6755737 , 0.6755737 , 0.35543939, 0.55189376,\n",
       "       0.5236502 , 0.44034152, 0.83245945, 0.46009425, 0.26320334,\n",
       "       0.44034152, 0.47004616, 0.55189376, 0.35543939, 0.46009425,\n",
       "       0.89596159, 0.44034152, 0.44034152, 0.35543939, 0.35543939,\n",
       "       0.62490442, 0.5236502 , 0.44034152, 0.80854738, 0.44034152,\n",
       "       0.88167415, 0.76412817, 0.44034152, 0.35543939, 0.55189376,\n",
       "       0.35543939, 0.79816771, 0.44034152, 0.46009425, 0.62490442,\n",
       "       0.46009425, 0.44034152, 0.47004616, 0.5236502 , 0.63837757,\n",
       "       0.35543939, 0.44034152, 0.55189376, 0.6755737 , 0.35543939,\n",
       "       0.44034152, 0.46009425, 0.62490442, 0.35543939, 0.44034152,\n",
       "       0.44034152, 0.44034152, 0.55189376, 0.55189376, 0.70109862,\n",
       "       0.44034152, 0.44034152, 0.62490442, 0.35543939, 0.43289562,\n",
       "       0.44034152, 0.55189376, 0.44034152, 0.55189376, 0.80854738,\n",
       "       0.53713586, 0.35543939, 0.62490442, 0.39521824, 0.71280007,\n",
       "       0.35543939, 0.76412817, 0.62490442, 0.6755737 , 0.44034152,\n",
       "       0.44034152, 0.35543939, 0.44034152, 0.59445353, 0.35543939,\n",
       "       0.78268828, 0.35543939, 0.44034152, 0.47602963, 0.53713586,\n",
       "       0.44034152, 0.5236502 , 0.44034152, 0.6755737 , 0.74139603,\n",
       "       0.53713586, 0.44034152, 0.55189376, 0.44034152, 0.44034152,\n",
       "       0.62490442, 0.44034152, 0.53713586, 0.26320334, 0.84534979])"
      ]
     },
     "execution_count": 38,
     "metadata": {},
     "output_type": "execute_result"
    }
   ],
   "source": [
    "#Tells us the probablity of a Reddit will be correctly identified in the class its assigned\n",
    "lr_y_score = model.predict_proba(X_test)[:, 1] #[:,1] is formatting the output\n",
    "lr_y_score"
   ]
  },
  {
   "cell_type": "markdown",
   "metadata": {},
   "source": [
    "#### RANDON FOREST CLASSIFIER"
   ]
  },
  {
   "cell_type": "code",
   "execution_count": 39,
   "metadata": {},
   "outputs": [
    {
     "data": {
      "text/plain": [
       "0.5733333333333334"
      ]
     },
     "execution_count": 39,
     "metadata": {},
     "output_type": "execute_result"
    }
   ],
   "source": [
    "rfc = RandomForestClassifier(max_depth = 10, n_estimators=5, random_state=42)\n",
    "rfc.fit(X_train, y_train)\n",
    "rfc.score(X_test, y_test)       # scoring the  on test Data"
   ]
  },
  {
   "cell_type": "code",
   "execution_count": 40,
   "metadata": {},
   "outputs": [],
   "source": [
    "rfc = RandomForestClassifier()\n",
    "model=rfc.fit(X_train, y_train)     # fitting the training data"
   ]
  },
  {
   "cell_type": "code",
   "execution_count": 41,
   "metadata": {},
   "outputs": [
    {
     "data": {
      "text/plain": [
       "(0.7103025553959339, 0.010276085521952217)"
      ]
     },
     "execution_count": 41,
     "metadata": {},
     "output_type": "execute_result"
    }
   ],
   "source": [
    "scores = cross_val_score(model, X_train, y_train, cv=5)  # cross Validation\n",
    "np.mean(scores), np.std(scores) #  scoring the performance of training data"
   ]
  },
  {
   "cell_type": "code",
   "execution_count": 42,
   "metadata": {},
   "outputs": [
    {
     "data": {
      "text/plain": [
       "(0.6582452203492462, 0.022714816055981978)"
      ]
     },
     "execution_count": 42,
     "metadata": {},
     "output_type": "execute_result"
    }
   ],
   "source": [
    "rfc = RandomForestClassifier()\n",
    "scores = cross_val_score(rfc,  X_test, y_test,  cv=5)\n",
    "np.mean(scores), np.std(scores)    # scoring on my Testing Data under performs also"
   ]
  },
  {
   "cell_type": "code",
   "execution_count": 43,
   "metadata": {},
   "outputs": [],
   "source": [
    "# Predicting the  y values on the testing  Random Forest Classifier\n",
    "#fit on the training, predict on the testing data\n",
    "\n",
    "y_hat = model.predict(X_test)"
   ]
  },
  {
   "cell_type": "code",
   "execution_count": 44,
   "metadata": {},
   "outputs": [
    {
     "name": "stdout",
     "output_type": "stream",
     "text": [
      "72.84848484848484\n"
     ]
    }
   ],
   "source": [
    "# ACCURACY of the model\n",
    "accuracy=100*metrics.accuracy_score(y_test, y_hat)\n",
    "print(accuracy)"
   ]
  },
  {
   "cell_type": "code",
   "execution_count": 45,
   "metadata": {
    "scrolled": true
   },
   "outputs": [
    {
     "name": "stdout",
     "output_type": "stream",
     "text": [
      "[[358  70]\n",
      " [154 243]]\n"
     ]
    }
   ],
   "source": [
    "# A confusion matrix tells us our false positives and false negatives:\n",
    "mx = confusion_matrix(y_test, y_hat)\n",
    "print (mx)"
   ]
  },
  {
   "cell_type": "code",
   "execution_count": 46,
   "metadata": {},
   "outputs": [
    {
     "name": "stdout",
     "output_type": "stream",
     "text": [
      "sensitivity: 61.20906801007557\n",
      "specificity: 83.64485981308411\n"
     ]
    }
   ],
   "source": [
    "#  Now lets interprete the confusion matrix as follows\n",
    "tn, fp, fn, tp = mx.ravel()\n",
    "sensitivity = 100*tp/(tp+fn)\n",
    "specificity=100*tn/(tn+fp)\n",
    "\n",
    "print('sensitivity:', sensitivity)\n",
    "print('specificity:', specificity)"
   ]
  },
  {
   "cell_type": "code",
   "execution_count": 47,
   "metadata": {},
   "outputs": [
    {
     "name": "stdout",
     "output_type": "stream",
     "text": [
      "72.42696391157983\n"
     ]
    }
   ],
   "source": [
    "# Our ROC-AUC score measures the trade-off between specificity and sensitivity\n",
    "roc_score=100*roc_auc_score(y_test, y_hat)\n",
    "print(roc_score)"
   ]
  },
  {
   "cell_type": "code",
   "execution_count": 66,
   "metadata": {},
   "outputs": [],
   "source": [
    "# create dataframe of matrix  and then inputting the confusion matrix\n",
    "confusion_mat = pd.DataFrame(confusion_matrix(y_test, y_hat), \n",
    "                                              columns=['predicted_High(1)', 'predicted_low(0)'], \n",
    "                      index=['is_High(1)', 'is_Low(0)'])"
   ]
  },
  {
   "cell_type": "code",
   "execution_count": 67,
   "metadata": {},
   "outputs": [
    {
     "data": {
      "text/html": [
       "<div>\n",
       "<style scoped>\n",
       "    .dataframe tbody tr th:only-of-type {\n",
       "        vertical-align: middle;\n",
       "    }\n",
       "\n",
       "    .dataframe tbody tr th {\n",
       "        vertical-align: top;\n",
       "    }\n",
       "\n",
       "    .dataframe thead th {\n",
       "        text-align: right;\n",
       "    }\n",
       "</style>\n",
       "<table border=\"1\" class=\"dataframe\">\n",
       "  <thead>\n",
       "    <tr style=\"text-align: right;\">\n",
       "      <th></th>\n",
       "      <th>predicted_High(1)</th>\n",
       "      <th>predicted_low(0)</th>\n",
       "    </tr>\n",
       "  </thead>\n",
       "  <tbody>\n",
       "    <tr>\n",
       "      <th>is_High(1)</th>\n",
       "      <td>113</td>\n",
       "      <td>380</td>\n",
       "    </tr>\n",
       "    <tr>\n",
       "      <th>is_Low(0)</th>\n",
       "      <td>76</td>\n",
       "      <td>421</td>\n",
       "    </tr>\n",
       "  </tbody>\n",
       "</table>\n",
       "</div>"
      ],
      "text/plain": [
       "            predicted_High(1)  predicted_low(0)\n",
       "is_High(1)                113               380\n",
       "is_Low(0)                  76               421"
      ]
     },
     "execution_count": 67,
     "metadata": {},
     "output_type": "execute_result"
    }
   ],
   "source": [
    "confusion_mat"
   ]
  },
  {
   "cell_type": "code",
   "execution_count": 68,
   "metadata": {},
   "outputs": [
    {
     "name": "stdout",
     "output_type": "stream",
     "text": [
      "\n",
      "Classification Report:\n",
      "              precision    recall  f1-score   support\n",
      "\n",
      "          0       0.60      0.23      0.33       493\n",
      "          1       0.53      0.85      0.65       497\n",
      "\n",
      "avg / total       0.56      0.54      0.49       990\n",
      "\n"
     ]
    }
   ],
   "source": [
    "print(\"\\nClassification Report:\\n\",classification_report(y_test, y_hat))\n",
    "# recall is sensetivity, shows confusion matrix scoring"
   ]
  },
  {
   "cell_type": "code",
   "execution_count": 48,
   "metadata": {},
   "outputs": [],
   "source": [
    "rfc = RandomForestClassifier()\n",
    "model=rfc.fit(X_train, y_train) # just to run the next line"
   ]
  },
  {
   "cell_type": "code",
   "execution_count": 49,
   "metadata": {},
   "outputs": [
    {
     "data": {
      "text/plain": [
       "array([0.        , 0.        , 0.        , 0.        , 1.        ,\n",
       "       0.36      , 0.        , 0.        , 0.        , 0.        ,\n",
       "       1.        , 0.        , 0.        , 0.9       , 0.        ,\n",
       "       0.45833333, 0.        , 0.        , 0.21666667, 0.36873016,\n",
       "       0.64583333, 0.6       , 0.35      , 1.        , 0.        ,\n",
       "       0.        , 0.        , 0.91351107, 0.        , 0.        ,\n",
       "       0.4       , 0.        , 0.        , 0.        , 0.        ,\n",
       "       0.        , 0.8       , 0.5       , 0.7       , 0.        ,\n",
       "       0.        , 0.9       , 0.        , 0.        , 0.        ,\n",
       "       0.        , 0.        , 0.4       , 1.        , 1.        ,\n",
       "       0.7       , 0.81      , 1.        , 0.        , 0.2547619 ,\n",
       "       0.94659426, 0.        , 0.        , 0.54047619, 0.        ,\n",
       "       0.46      , 0.        , 0.        , 0.        , 0.8       ,\n",
       "       0.17595238, 0.        , 0.        , 0.        , 0.        ,\n",
       "       0.59660173, 0.        , 0.9       , 0.        , 0.4       ,\n",
       "       1.        , 0.3       , 1.        , 0.        , 0.        ,\n",
       "       0.        , 0.        , 0.        , 0.62758242, 0.        ,\n",
       "       0.9       , 0.        , 0.        , 1.        , 0.94659426,\n",
       "       0.4568254 , 0.9       , 0.        , 0.        , 0.        ,\n",
       "       0.33333333, 0.        , 0.        , 0.9       , 0.        ,\n",
       "       0.        , 0.        , 0.        , 0.        , 1.        ,\n",
       "       1.        , 0.46964286, 1.        , 0.29738095, 0.        ,\n",
       "       0.        , 0.        , 0.        , 0.        , 0.        ,\n",
       "       0.        , 0.6       , 0.6       , 0.        , 1.        ,\n",
       "       0.94659426, 0.        , 0.2       , 1.        , 1.        ,\n",
       "       0.        , 1.        , 0.91351107, 0.93402778, 0.        ,\n",
       "       0.74392857, 0.61309524, 0.        , 0.        , 0.9       ,\n",
       "       1.        , 0.85833333, 0.        , 0.9       , 0.        ,\n",
       "       0.        , 0.        , 0.8       , 0.        , 0.47333333,\n",
       "       0.        , 0.        , 0.        , 0.        , 0.86785714,\n",
       "       0.5       , 0.94659426, 0.        , 0.64583333, 0.        ,\n",
       "       1.        , 0.        , 0.        , 0.        , 0.        ,\n",
       "       0.8       , 0.        , 0.        , 0.525     , 0.9       ,\n",
       "       1.        , 0.        , 0.        , 0.62758242, 0.        ,\n",
       "       0.86785714, 0.        , 0.25666667, 0.        , 0.7       ,\n",
       "       0.8       , 0.        , 0.        , 0.        , 0.        ,\n",
       "       0.        , 0.        , 1.        , 0.9       , 0.36666667,\n",
       "       1.        , 0.9       , 0.9       , 0.58333333, 0.81103175,\n",
       "       0.        , 0.        , 0.6       , 0.        , 0.        ,\n",
       "       0.        , 0.        , 0.        , 0.        , 0.        ,\n",
       "       0.90895568, 0.83321429, 1.        , 0.40404762, 1.        ,\n",
       "       0.9       , 0.        , 0.58674603, 0.        , 0.8       ,\n",
       "       0.        , 0.375     , 0.        , 0.        , 0.        ,\n",
       "       1.        , 0.59660173, 0.        , 0.70333333, 0.        ,\n",
       "       0.9       , 0.        , 0.        , 0.        , 0.83321429,\n",
       "       0.        , 0.9       , 1.        , 0.7       , 0.9       ,\n",
       "       1.        , 0.34166667, 0.4       , 0.        , 0.35833333,\n",
       "       0.9       , 1.        , 0.5       , 0.        , 0.        ,\n",
       "       0.        , 0.26666667, 0.        , 0.        , 1.        ,\n",
       "       0.        , 0.        , 0.8       , 0.29738095, 0.        ,\n",
       "       0.225     , 0.29738095, 0.        , 0.        , 0.8975    ,\n",
       "       0.        , 0.7       , 0.        , 0.92642857, 0.        ,\n",
       "       0.        , 0.        , 0.        , 0.81      , 0.        ,\n",
       "       0.        , 0.205     , 0.        , 0.80166667, 0.        ,\n",
       "       0.88334997, 0.        , 0.74392857, 0.        , 0.        ,\n",
       "       0.        , 0.        , 0.9       , 0.63095238, 0.        ,\n",
       "       0.        , 0.        , 0.27916667, 0.        , 0.7       ,\n",
       "       0.83510823, 0.        , 0.90694444, 0.        , 0.        ,\n",
       "       0.90895568, 0.        , 0.        , 0.        , 0.        ,\n",
       "       0.        , 0.        , 0.        , 0.4       , 0.61083333,\n",
       "       0.74392857, 0.        , 1.        , 0.        , 0.        ,\n",
       "       0.        , 0.        , 0.        , 0.9       , 0.4       ,\n",
       "       0.        , 0.        , 0.        , 0.        , 0.35285714,\n",
       "       0.275     , 0.47071429, 0.        , 0.5       , 0.74181818,\n",
       "       0.        , 1.        , 1.        , 0.        , 0.        ,\n",
       "       0.        , 0.        , 0.50964286, 0.        , 0.        ,\n",
       "       0.9       , 1.        , 1.        , 0.5       , 0.5       ,\n",
       "       0.366665  , 0.        , 0.47333333, 0.8       , 0.80166667,\n",
       "       0.7275    , 1.        , 0.        , 1.        , 1.        ,\n",
       "       0.        , 0.        , 0.39823232, 0.5       , 0.        ,\n",
       "       0.21666667, 0.        , 0.        , 1.        , 0.        ,\n",
       "       0.9       , 0.        , 0.        , 0.35      , 0.        ,\n",
       "       0.        , 0.        , 1.        , 0.68166667, 0.        ,\n",
       "       0.15833333, 0.9       , 0.        , 0.        , 0.        ,\n",
       "       0.        , 0.        , 0.6       , 0.60333333, 0.88334997,\n",
       "       0.        , 0.6       , 0.63095238, 0.        , 0.        ,\n",
       "       0.525     , 0.        , 0.        , 0.61309524, 0.61666667,\n",
       "       1.        , 0.        , 0.5       , 0.35285714, 0.9       ,\n",
       "       0.6       , 0.        , 0.        , 0.9       , 1.        ,\n",
       "       0.        , 0.        , 0.        , 0.74053419, 0.9       ,\n",
       "       0.44952381, 0.6       , 0.20595238, 0.        , 0.8       ,\n",
       "       0.6       , 0.        , 0.        , 0.        , 0.        ,\n",
       "       0.        , 0.9       , 0.5       , 0.        , 0.6       ,\n",
       "       1.        , 1.        , 0.        , 0.        , 0.        ,\n",
       "       0.        , 0.7275    , 0.        , 0.        , 0.        ,\n",
       "       0.        , 0.        , 0.        , 0.        , 1.        ,\n",
       "       0.59833333, 0.94659426, 0.        , 0.        , 0.79904762,\n",
       "       0.9       , 0.        , 0.8       , 0.85833333, 0.        ,\n",
       "       0.53333333, 0.        , 0.        , 0.44952381, 0.50964286,\n",
       "       0.        , 0.        , 0.        , 0.8       , 0.5       ,\n",
       "       0.9       , 0.7       , 0.6       , 0.94659426, 0.        ,\n",
       "       0.6       , 0.        , 0.        , 0.        , 1.        ,\n",
       "       0.        , 0.5       , 0.        , 0.        , 0.9       ,\n",
       "       1.        , 0.        , 0.60833333, 0.5       , 1.        ,\n",
       "       0.35285714, 0.        , 0.765     , 0.        , 0.6997336 ,\n",
       "       0.        , 0.        , 0.        , 0.5       , 0.94659426,\n",
       "       0.74333333, 0.        , 0.7       , 1.        , 0.        ,\n",
       "       0.        , 0.4       , 1.        , 0.61083333, 0.665     ,\n",
       "       0.6       , 0.        , 0.        , 0.        , 0.        ,\n",
       "       0.        , 0.        , 0.        , 1.        , 0.81      ,\n",
       "       0.66      , 0.9       , 1.        , 0.        , 0.9       ,\n",
       "       0.        , 0.        , 1.        , 0.        , 0.34333333,\n",
       "       0.8       , 0.61597985, 0.        , 0.        , 0.        ,\n",
       "       1.        , 0.90895568, 0.        , 0.        , 0.92642857,\n",
       "       0.        , 0.        , 0.45      , 0.        , 0.        ,\n",
       "       0.        , 0.        , 0.83321429, 0.83904762, 0.64583333,\n",
       "       0.        , 0.        , 0.        , 0.9       , 0.        ,\n",
       "       0.        , 0.        , 1.        , 0.        , 0.        ,\n",
       "       0.        , 0.88334997, 0.38833333, 0.        , 0.8818254 ,\n",
       "       0.93642857, 0.25833333, 0.        , 0.88334997, 0.7       ,\n",
       "       0.9       , 0.        , 0.61666667, 0.74333333, 0.32833333,\n",
       "       0.9       , 0.        , 0.        , 0.        , 0.9       ,\n",
       "       0.61666667, 0.        , 0.40404762, 0.        , 0.        ,\n",
       "       0.        , 0.        , 0.6       , 0.6       , 0.76960317,\n",
       "       0.        , 0.79904762, 0.6       , 0.        , 1.        ,\n",
       "       0.        , 0.74392857, 1.        , 0.        , 0.30833333,\n",
       "       0.9       , 0.        , 0.9       , 0.        , 1.        ,\n",
       "       0.        , 0.        , 0.        , 0.15      , 0.88334997,\n",
       "       0.        , 0.27916667, 0.91478999, 0.6       , 0.54047619,\n",
       "       0.        , 1.        , 0.        , 0.45      , 0.7       ,\n",
       "       0.        , 1.        , 1.        , 1.        , 0.        ,\n",
       "       0.4       , 0.        , 0.        , 0.9       , 0.        ,\n",
       "       0.        , 0.        , 0.8       , 0.6       , 0.        ,\n",
       "       0.        , 0.        , 0.        , 0.        , 0.        ,\n",
       "       1.        , 1.        , 0.39823232, 0.5       , 0.        ,\n",
       "       0.91351107, 0.76960317, 0.90895568, 1.        , 0.        ,\n",
       "       0.6       , 0.        , 0.6997336 , 0.        , 0.4       ,\n",
       "       0.9       , 1.        , 0.9       , 0.        , 0.        ,\n",
       "       1.        , 0.        , 0.        , 0.515     , 0.        ,\n",
       "       0.        , 0.        , 0.8818254 , 0.        , 0.        ,\n",
       "       0.8       , 0.        , 0.        , 0.8       , 0.        ,\n",
       "       0.7       , 0.7       , 0.        , 0.        , 0.525     ,\n",
       "       0.        , 0.61166667, 1.        , 0.6       , 1.        ,\n",
       "       0.        , 0.9       , 1.        , 0.86785714, 0.8       ,\n",
       "       0.        , 0.        , 0.        , 0.45      , 0.65166667,\n",
       "       0.        , 1.        , 0.        , 0.        , 0.15      ,\n",
       "       0.        , 0.        , 1.        , 0.9       , 0.        ,\n",
       "       0.        , 0.8       , 0.        , 0.        , 1.        ,\n",
       "       0.        , 0.        , 0.        , 1.        , 0.        ,\n",
       "       0.39823232, 0.        , 0.        , 0.        , 0.35      ,\n",
       "       0.61333333, 0.        , 0.        , 0.        , 0.9       ,\n",
       "       0.        , 0.        , 0.075     , 1.        , 1.        ,\n",
       "       0.61083333, 1.        , 0.        , 0.81      , 0.34      ,\n",
       "       0.46964286, 0.        , 0.525     , 0.2927381 , 0.        ,\n",
       "       0.        , 0.64583333, 0.        , 0.        , 0.1       ,\n",
       "       0.        , 1.        , 0.8       , 0.        , 0.7       ,\n",
       "       0.64583333, 0.        , 1.        , 0.28333333, 0.        ,\n",
       "       0.        , 0.39833333, 0.4       , 0.        , 0.21666667,\n",
       "       1.        , 0.        , 0.        , 0.        , 0.        ,\n",
       "       0.9       , 0.64583333, 0.        , 0.91351107, 0.        ,\n",
       "       1.        , 1.        , 0.        , 0.        , 0.9       ,\n",
       "       0.        , 1.        , 0.        , 0.4       , 0.8       ,\n",
       "       0.35      , 0.        , 0.44952381, 0.61597985, 0.74333333,\n",
       "       0.        , 0.        , 0.6       , 0.9       , 0.        ,\n",
       "       0.        , 0.51833333, 0.9       , 0.        , 0.        ,\n",
       "       0.        , 0.        , 0.6       , 0.4       , 0.74053419,\n",
       "       0.        , 0.        , 0.9       , 0.        , 0.36873016,\n",
       "       0.        , 0.5       , 0.        , 0.7       , 0.90895568,\n",
       "       0.61309524, 0.        , 0.7       , 0.34166667, 1.        ,\n",
       "       0.        , 1.        , 0.9       , 1.        , 0.        ,\n",
       "       0.        , 0.        , 0.        , 0.83321429, 0.        ,\n",
       "       1.        , 0.        , 0.        , 0.50964286, 0.70333333,\n",
       "       0.        , 0.59660173, 0.        , 0.9       , 1.        ,\n",
       "       0.7       , 0.        , 0.9       , 0.        , 0.        ,\n",
       "       0.9       , 0.        , 0.525     , 0.        , 0.94659426])"
      ]
     },
     "execution_count": 49,
     "metadata": {},
     "output_type": "execute_result"
    }
   ],
   "source": [
    "#Tells us the probablity of a Reddit will be correctly identified in the class its assigned\n",
    "clf_y_score = rfc.predict_proba(X_test)[:, 1] #[:,1] is formatting the output\n",
    "clf_y_score"
   ]
  },
  {
   "cell_type": "code",
   "execution_count": 50,
   "metadata": {},
   "outputs": [
    {
     "data": {
      "image/png": "[encoded data removed]",
      "text/plain": [
       "<Figure size 504x360 with 1 Axes>"
      ]
     },
     "metadata": {
      "image/png": {
       "height": 342,
       "width": 501
      }
     },
     "output_type": "display_data"
    }
   ],
   "source": [
    "clf_FPR = dict()\n",
    "clf_TPR = dict()\n",
    "clf_ROC_AUC = dict()\n",
    "\n",
    "clf_FPR[1], clf_TPR[1], _ = roc_curve(y_test, clf_y_score)\n",
    "clf_ROC_AUC[1] = auc(clf_FPR[1], clf_TPR[1])\n",
    "\n",
    "plt.figure(figsize=[7,5])\n",
    "plt.plot(clf_FPR[1], clf_TPR[1], label='ROC curve (area = %0.3f)' % clf_ROC_AUC[1], linewidth=3)\n",
    "plt.plot([0, 1], [0, 1], 'k--', linewidth=3)\n",
    "plt.xlim([0.0, 1])\n",
    "plt.ylim([0.0, 1])\n",
    "plt.xlabel('False Positive Rate', fontsize=18)\n",
    "plt.ylabel('True Positive Rate', fontsize=18)\n",
    "plt.title('Random Forest Classifier ROC Curve', fontsize=18)\n",
    "plt.legend(loc=\"lower right\")\n",
    "plt.show()"
   ]
  },
  {
   "cell_type": "markdown",
   "metadata": {},
   "source": [
    "#### KNN"
   ]
  },
  {
   "cell_type": "code",
   "execution_count": 51,
   "metadata": {},
   "outputs": [],
   "source": [
    "# importing Libraries and their packages\n",
    "from sklearn.preprocessing import LabelEncoder\n",
    "import numpy as np\n",
    "from sklearn.feature_extraction.text import CountVectorizer\n",
    "import string\n",
    "from nltk.corpus import stopwords\n",
    "from nltk.stem import PorterStemmer"
   ]
  },
  {
   "cell_type": "code",
   "execution_count": 52,
   "metadata": {},
   "outputs": [
    {
     "data": {
      "text/plain": [
       "38.0"
      ]
     },
     "execution_count": 52,
     "metadata": {},
     "output_type": "execute_result"
    }
   ],
   "source": [
    "med=np.median(df.num_comments)\n",
    "med"
   ]
  },
  {
   "cell_type": "code",
   "execution_count": 53,
   "metadata": {},
   "outputs": [],
   "source": [
    "df['target']=df.num_comments.map(lambda x: 1 if x>=med else 0)"
   ]
  },
  {
   "cell_type": "code",
   "execution_count": 54,
   "metadata": {},
   "outputs": [],
   "source": [
    "#reset x and y to high/low and subreddit#reset x a \n",
    "y = df['target']\n",
    "X = df['subreddit']\n",
    "\n",
    "cvec = CountVectorizer(stop_words = 'english') \n",
    "\n",
    "X  = pd.DataFrame(cvec.fit_transform(X).todense(),\n",
    "             columns=cvec.get_feature_names())"
   ]
  },
  {
   "cell_type": "code",
   "execution_count": 55,
   "metadata": {},
   "outputs": [
    {
     "data": {
      "text/plain": [
       "array([[-0.0174104 , -0.02462576, -0.0174104 , ..., -0.0174104 ,\n",
       "        -0.02462576, -0.0174104 ],\n",
       "       [-0.0174104 , -0.02462576, -0.0174104 , ..., -0.0174104 ,\n",
       "        -0.02462576, -0.0174104 ],\n",
       "       [-0.0174104 , -0.02462576, -0.0174104 , ..., -0.0174104 ,\n",
       "        -0.02462576, -0.0174104 ],\n",
       "       ...,\n",
       "       [-0.0174104 , -0.02462576, -0.0174104 , ..., -0.0174104 ,\n",
       "        -0.02462576, -0.0174104 ],\n",
       "       [-0.0174104 , -0.02462576, -0.0174104 , ..., -0.0174104 ,\n",
       "        -0.02462576, -0.0174104 ],\n",
       "       [-0.0174104 , -0.02462576, -0.0174104 , ..., -0.0174104 ,\n",
       "        -0.02462576, -0.0174104 ]])"
      ]
     },
     "execution_count": 55,
     "metadata": {},
     "output_type": "execute_result"
    }
   ],
   "source": [
    "# Put it into  standard scalar# Put it i \n",
    "from sklearn.preprocessing import StandardScaler\n",
    "\n",
    "ss = StandardScaler()\n",
    "Xs = ss.fit_transform(X)\n",
    "type(Xs)\n",
    "Xs"
   ]
  },
  {
   "cell_type": "code",
   "execution_count": 56,
   "metadata": {},
   "outputs": [],
   "source": [
    "X_train, X_test, y_train, y_test = train_test_split(X, y, test_size = 0.3)"
   ]
  },
  {
   "cell_type": "code",
   "execution_count": 57,
   "metadata": {},
   "outputs": [
    {
     "data": {
      "text/plain": [
       "(0.5398400919429953, 0.0128042267449172)"
      ]
     },
     "execution_count": 57,
     "metadata": {},
     "output_type": "execute_result"
    }
   ],
   "source": [
    "knn = KNeighborsClassifier( n_neighbors=3,  \n",
    "                           weights='uniform')\n",
    "scores = cross_val_score(knn,  X_train, y_train,  cv=5)\n",
    "model = knn.fit(X_train, y_train)\n",
    "np.mean(scores), np.std(scores)   # scoring on my Training Data set was really worst"
   ]
  },
  {
   "cell_type": "code",
   "execution_count": 58,
   "metadata": {},
   "outputs": [
    {
     "data": {
      "text/plain": [
       "(0.5627954158321733, 0.0740872198041901)"
      ]
     },
     "execution_count": 58,
     "metadata": {},
     "output_type": "execute_result"
    }
   ],
   "source": [
    "knn= KNeighborsClassifier( n_neighbors=3,  \n",
    "                           weights='uniform')\n",
    "scores = cross_val_score(knn,  X_test, y_test,  cv=5)\n",
    "np.mean(scores), np.std(scores)    # scoring on my Testing Data set the same so similar to the training data set "
   ]
  },
  {
   "cell_type": "code",
   "execution_count": 59,
   "metadata": {},
   "outputs": [],
   "source": [
    "y_hat=model.predict(X_test)"
   ]
  },
  {
   "cell_type": "code",
   "execution_count": 60,
   "metadata": {},
   "outputs": [],
   "source": [
    "# create dataframe of matrix  and then inputting the confusion matrix\n",
    "confusion_mat = pd.DataFrame(confusion_matrix(y_test, y_hat), \n",
    "                                              columns=['predicted_High(1)', 'predicted_low(0)'], \n",
    "                      index=['is_High(1)', 'is_Low(0)'])"
   ]
  },
  {
   "cell_type": "code",
   "execution_count": 61,
   "metadata": {},
   "outputs": [
    {
     "data": {
      "text/html": [
       "<div>\n",
       "<style scoped>\n",
       "    .dataframe tbody tr th:only-of-type {\n",
       "        vertical-align: middle;\n",
       "    }\n",
       "\n",
       "    .dataframe tbody tr th {\n",
       "        vertical-align: top;\n",
       "    }\n",
       "\n",
       "    .dataframe thead th {\n",
       "        text-align: right;\n",
       "    }\n",
       "</style>\n",
       "<table border=\"1\" class=\"dataframe\">\n",
       "  <thead>\n",
       "    <tr style=\"text-align: right;\">\n",
       "      <th></th>\n",
       "      <th>predicted_High(1)</th>\n",
       "      <th>predicted_low(0)</th>\n",
       "    </tr>\n",
       "  </thead>\n",
       "  <tbody>\n",
       "    <tr>\n",
       "      <th>is_High(1)</th>\n",
       "      <td>113</td>\n",
       "      <td>380</td>\n",
       "    </tr>\n",
       "    <tr>\n",
       "      <th>is_Low(0)</th>\n",
       "      <td>76</td>\n",
       "      <td>421</td>\n",
       "    </tr>\n",
       "  </tbody>\n",
       "</table>\n",
       "</div>"
      ],
      "text/plain": [
       "            predicted_High(1)  predicted_low(0)\n",
       "is_High(1)                113               380\n",
       "is_Low(0)                  76               421"
      ]
     },
     "execution_count": 61,
     "metadata": {},
     "output_type": "execute_result"
    }
   ],
   "source": [
    "confusion_mat"
   ]
  },
  {
   "cell_type": "code",
   "execution_count": 62,
   "metadata": {},
   "outputs": [
    {
     "name": "stdout",
     "output_type": "stream",
     "text": [
      "\n",
      "Classification Report:\n",
      "              precision    recall  f1-score   support\n",
      "\n",
      "          0       0.60      0.23      0.33       493\n",
      "          1       0.53      0.85      0.65       497\n",
      "\n",
      "avg / total       0.56      0.54      0.49       990\n",
      "\n"
     ]
    }
   ],
   "source": [
    "print(\"\\nClassification Report:\\n\",classification_report(y_test, y_hat))\n",
    "# recall is sensetivity, shows confusion matrix scoring"
   ]
  },
  {
   "cell_type": "code",
   "execution_count": 63,
   "metadata": {},
   "outputs": [
    {
     "data": {
      "text/plain": [
       "3269"
      ]
     },
     "execution_count": 63,
     "metadata": {},
     "output_type": "execute_result"
    }
   ],
   "source": [
    "len(set(df.title))"
   ]
  },
  {
   "cell_type": "code",
   "execution_count": 64,
   "metadata": {},
   "outputs": [
    {
     "data": {
      "text/plain": [
       "2        A diver in Belize has made friends with an oc...\n",
       "3                                   A plum tree in Japan.\n",
       "4                       A relaxing stroll along the river\n",
       "58                                    GRIT SCF G2 EDITION\n",
       "3048     Just a little curious since no one's interest...\n",
       "5                       Lava looking like melted plastic \n",
       "6        Like this image to have an event occur somewh...\n",
       "7        Like this image to have an event occur somewh...\n",
       "57       Number of incels who actually care about our ...\n",
       "8                                     The Hottest Couple \n",
       "9                       The Hottest Couple , I love dammn\n",
       "68       Zidane resigns as Real Madrid manager. Potent...\n",
       "3288     pessoal, temos um problema. O parlamento euro...\n",
       "10       pessoal, temos um problema. O parlamento euro...\n",
       "11       super late to the trend but I too was inspire...\n",
       "12                                     !remindme one year\n",
       "13      \"ARAB ANDY\" scares the shit out of a college c...\n",
       "14      \"Cable news covered Roseanne for over 10 hours...\n",
       "15      \"Dont remember any pirate games tho, sorry bud...\n",
       "16                      \"Drake Won the Beef\" Starter Pack\n",
       "17                  \"Free trial\" that needs a credit card\n",
       "18                    \"Get me your f%@$ing manager, NOW!\"\n",
       "19      \"Heil Honey, I'm Home!\" was an actual TV show ...\n",
       "20                               \"I LITERALLY CAN'T EVEN \n",
       "21      \"I love you Homey...mmmmmmm\". Hehe, i don't ne...\n",
       "22           \"I swear, the sleeping pills made me do it!\"\n",
       "23      \"I think the easiest way to lose something is ...\n",
       "24              \"I'll require a top-of-the-line MacBook.\"\n",
       "25                                  \"I've seen things...\"\n",
       "26      \"Infantrymen of the 27th Infantry Regiment, ne...\n",
       "                              ...                        \n",
       "3289                          tom hogy nincs l fost flair\n",
       "3292                          tom hogy nincs l fost flair\n",
       "85      totallynotrobots_ss is indistinguishable from ...\n",
       "3263    u/gap343 finds a 1924 message in a bottle in t...\n",
       "3265                            ultraviolence, ink, 15x10\n",
       "3266                                              um.....\n",
       "3267    upvote so this will be on google when you sear...\n",
       "3268                                              v o i d\n",
       "3269    ve been slowly recollecting games since mine w...\n",
       "3270                                                w00sh\n",
       "3271                                                what?\n",
       "3272    when her mom points out ya Â¢all have the same...\n",
       "3273    when her mom points out yall have the same las...\n",
       "3274                     when u wear your favourite shirt\n",
       "3275    when you're the most disrespected album in the...\n",
       "3276                    will this pass my science project\n",
       "3277                                        wish granted!\n",
       "3278                                          without cum\n",
       "3279                                             woof_irl\n",
       "3281    wow, this guy must be really good at doing the...\n",
       "3280    wow, this guy must be really good at doing the...\n",
       "3244    wtfwish - A sub for weird things found on wish...\n",
       "3282                                                   xD\n",
       "3283                            xkcd 2000:xkcd Phone 2000\n",
       "3284                           yahaha! You made us! Trump\n",
       "3285                           yahaha! You made us! Trump\n",
       "3286                                                 yeah\n",
       "3287                                           zuggerberd\n",
       "3294    â€œSorry boss I am not gonna make it in today,...\n",
       "129                                                   nan\n",
       "Name: title, Length: 3300, dtype: object"
      ]
     },
     "execution_count": 64,
     "metadata": {},
     "output_type": "execute_result"
    }
   ],
   "source": [
    "df.title.astype(str)"
   ]
  },
  {
   "cell_type": "markdown",
   "metadata": {},
   "source": [
    "# Executive Summary\n",
    "---\n",
    "Put your executive summary in a Markdown cell below."
   ]
  },
  {
   "cell_type": "markdown",
   "metadata": {},
   "source": [
    "I have scrapped 31,975 posts  using the HotJson API for seven days.  The timing was arranged to be in the morning and afternoon and finally after removing duplicates and conducting the data munging I  have left with only 3300 posts. The Data collection  and data cleaning took a significant  portion of the time. In the first step, I did some feature analysis. Then I picked up score, title, subreddits and number of comments as my target.  In order to answer and satisfy my goal i reviewed and assesed  variety of models i have been thought in my Data science Immersive course and to determine the best  possible approach to accurately predicting the factors that lead to a popular post , here when i say popular post; its a post defined  with greater than the median number of comments from the collected dataset. After going through all the exploratory data analysis, knowing the multidimensionality of the data elements. I focused on  analysing the data of greatest importance on Reddit I have opted to use a classifier analysis looking at a wide variety of factors.i chosed to see and  investigate the effect of titles on the popularity of a reddit posts.  The stage after  cleaning and munging real data of reddit API, i start manipulating the data for analysis purpose and then after this i scaled the data to check the dimension compatibility and comparability. After going through I then updated my model to gauge the effect of adding several features to the model. I have applied count vectorizer and found the most common words as well as i found that posts with less than 40 characters were the most commented by the reddit users.  As reddit is one of the top three most visited website  in the united states focusing on short titles and using  the third quantile of the number of comments by subreddit, i found out that Askreddit was the most visited site followed by worldnews,technologysubreddit,personalfinance and videos.  Finally, I have picked  Logistic regression,RandomForest Classifier as my model. I found a model that accurately predicts the whether or not a post will be popular with about  72% accuracy on a consistent basis. My predictive features (title,subreddit, num_comments) were highly effective in other models as well. Ultimately the most effective model selected in my analysis was LogisticRegressionClassifier. My findings suggest that this is a highly effective model which has the potential for further analysis both within the reddit sight. I believe this analysis can also be replicated in the same site or other similar websites to other post base discussion and social media sites. "
   ]
  },
  {
   "cell_type": "markdown",
   "metadata": {
    "focus": false,
    "id": "3be94357-e551-4094-b784-2df039216d33"
   },
   "source": [
    "### BONUS\n",
    "Refer to the README for the bonus parts"
   ]
  },
  {
   "cell_type": "code",
   "execution_count": 65,
   "metadata": {
    "focus": false,
    "id": "4239e458-28bd-4675-8db3-c1d9c02b9854"
   },
   "outputs": [],
   "source": [
    "## YOUR CODE HERE"
   ]
  }
 ],
 "metadata": {
  "anaconda-cloud": {},
  "kernelspec": {
   "display_name": "Python [conda env:dsi]",
   "language": "python",
   "name": "conda-env-dsi-py"
  },
  "language_info": {
   "codemirror_mode": {
    "name": "ipython",
    "version": 3
   },
   "file_extension": ".py",
   "mimetype": "text/x-python",
   "name": "python",
   "nbconvert_exporter": "python",
   "pygments_lexer": "ipython3",
   "version": "3.6.5"
  },
  "varInspector": {
   "cols": {
    "lenName": 16,
    "lenType": 16,
    "lenVar": 40
   },
   "kernels_config": {
    "python": {
     "delete_cmd_postfix": "",
     "delete_cmd_prefix": "del ",
     "library": "var_list.py",
     "varRefreshCmd": "print(var_dic_list())"
    },
    "r": {
     "delete_cmd_postfix": ") ",
     "delete_cmd_prefix": "rm(",
     "library": "var_list.r",
     "varRefreshCmd": "cat(var_dic_list()) "
    }
   },
   "types_to_exclude": [
    "module",
    "function",
    "builtin_function_or_method",
    "instance",
    "_Feature"
   ],
   "window_display": false
  }
 },
 "nbformat": 4,
 "nbformat_minor": 1
}
