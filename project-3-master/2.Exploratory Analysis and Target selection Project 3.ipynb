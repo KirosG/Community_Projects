{
 "cells": [
  {
   "cell_type": "markdown",
   "metadata": {
    "focus": false,
    "id": "69b9a648-bcc7-490d-9f9b-ea244d156bd6"
   },
   "source": [
    "# Project 3: Reddit's API WebScrapping for Predicting Comments and Modeling"
   ]
  },
  {
   "cell_type": "markdown",
   "metadata": {},
   "source": [
    "KIROS Gebremariam, June 2,2018\n",
    "\n",
    "Data Science Immersive, General Assembly(DC)"
   ]
  },
  {
   "cell_type": "markdown",
   "metadata": {
    "focus": false,
    "id": "a948d79c-5527-4c0d-ab23-f5d43ce72056"
   },
   "source": [
    "#### Setup and Loading file"
   ]
  },
  {
   "cell_type": "code",
   "execution_count": 1,
   "metadata": {},
   "outputs": [],
   "source": [
    "## YOUR CODE HERE"
   ]
  },
  {
   "cell_type": "code",
   "execution_count": 2,
   "metadata": {},
   "outputs": [],
   "source": [
    "# importing Necessary Library\n",
    "import pandas as pd\n",
    "import numpy as np\n",
    "import scipy.stats as stats\n",
    "import seaborn as sns\n",
    "import matplotlib.pyplot as plt\n",
    "import requests\n",
    "import datetime\n",
    "import json\n",
    "import os\n",
    "from bs4 import BeautifulSoup\n",
    "from sklearn.linear_model import LogisticRegressionCV\n",
    "from sklearn.linear_model import LogisticRegression\n",
    "from sklearn.pipeline import Pipeline\n",
    "from sklearn.model_selection import train_test_split\n",
    "from sklearn import metrics\n",
    "from sklearn.neighbors import KNeighborsClassifier\n",
    "from sklearn.model_selection import cross_val_score, StratifiedKFold\n",
    "from sklearn.metrics import classification_report\n",
    "from sklearn.naive_bayes import MultinomialNB, BernoulliNB, GaussianNB\n",
    "from sklearn.metrics import classification_report,confusion_matrix,accuracy_score\n",
    "from sklearn.model_selection import GridSearchCV,RandomizedSearchCV\n",
    "from sklearn.tree import DecisionTreeClassifier\n",
    "from sklearn.ensemble import RandomForestClassifier, ExtraTreesClassifier, BaggingClassifier\n",
    "from sklearn.feature_extraction.text import HashingVectorizer, TfidfVectorizer, CountVectorizer\n",
    "from sklearn.metrics import roc_auc_score\n",
    "from sklearn.externals.six import StringIO \n",
    "from IPython.display import Image  \n",
    "from sklearn.tree import export_graphviz\n",
    "import pydotplus\n",
    "\n",
    "\n",
    "\n",
    "#  Configure Visual setting \n",
    "sns.set_style('whitegrid')\n",
    "plt.style.use(['bmh','presentation'])\n",
    "plt.rcParams['figure.figsize'] = (10.0, 8.0) \n",
    "plt.style.use('ggplot')\n",
    "np.random.seed(42)\n",
    "sns.set()\n",
    "%config InlineBackend.figure_format = 'retina'\n",
    "%matplotlib inline    "
   ]
  },
  {
   "cell_type": "markdown",
   "metadata": {},
   "source": [
    "#### 1 Load the Data"
   ]
  },
  {
   "cell_type": "markdown",
   "metadata": {
    "focus": false,
    "id": "243e949e-2742-40af-872e-fec475fd306c"
   },
   "source": [
    "#### Load in the the data of scraped results"
   ]
  },
  {
   "cell_type": "code",
   "execution_count": 3,
   "metadata": {
    "focus": false,
    "id": "588f9845-6143-4bcc-bfd1-85d45b79303d"
   },
   "outputs": [],
   "source": [
    "## YOUR CODE HERE"
   ]
  },
  {
   "cell_type": "code",
   "execution_count": 4,
   "metadata": {
    "scrolled": true
   },
   "outputs": [
    {
     "name": "stdout",
     "output_type": "stream",
     "text": [
      "['.ipynb_checkpoints', 'Exploratory Analysis and Target selection Proj3- 2-.ipynb', 'NLP and Modeling  Proj3- 3-Final.ipynb', 'Pro3ExpFinal.csv', 'Pro3ExpFinal0602.csv', 'Project 3 _EDA_Part_One.ipynb', 'Project three Presentation.ppt', 'Project3edapartone.csv', 'README.md', 'Reddit06022018.csv', 'Requirements.txt']\n"
     ]
    }
   ],
   "source": [
    "# checking the easist way of looking the files you have in the directory\n",
    "import os\n",
    "print(os.listdir())"
   ]
  },
  {
   "cell_type": "code",
   "execution_count": 5,
   "metadata": {},
   "outputs": [],
   "source": [
    "# Lets load the Concatenated DataFrame and the engine specification will help to delimit the outliers\n",
    "df = pd.read_csv('Project3edapartone.csv',index_col ='Unnamed: 0' , engine='python')"
   ]
  },
  {
   "cell_type": "markdown",
   "metadata": {},
   "source": [
    "##### 2.1 Checking the DataFrame basic Format and columns"
   ]
  },
  {
   "cell_type": "code",
   "execution_count": 6,
   "metadata": {},
   "outputs": [
    {
     "name": "stdout",
     "output_type": "stream",
     "text": [
      "           author     created  created_utc       domain  \\\n",
      "1          Kxshal  1527786022   1527757222  twitter.com   \n",
      "2       JMyers666  1527758232   1527729432    v.redd.it   \n",
      "3  Endless_Vanity  1527712883   1527684083  i.imgur.com   \n",
      "4    WitnessMeIRL  1527904422   1527875622    v.redd.it   \n",
      "5       scbmobile  1527717426   1527688626  i.imgur.com   \n",
      "\n",
      "                       fetched time  gilded      id       name  num_comments  \\\n",
      "1  2018-05-31 15:35:57.507532+00:00       0  8ngwe5  t3_8ngwe5            63   \n",
      "2  2018-05-31 15:35:57.507532+00:00       0  8ndytk  t3_8ndytk          1288   \n",
      "3  2018-05-31 10:27:31.504151+00:00       0  8n88yu  t3_8n88yu           170   \n",
      "4  2018-06-01 20:49:52.948499+00:00       0  8ntyvl  t3_8ntyvl            69   \n",
      "5  2018-05-30 19:56:34.671849+00:00       0  8n8rlc  t3_8n8rlc           167   \n",
      "\n",
      "   score    ...      subreddit_id  subreddit_subscribers subreddit_type  \\\n",
      "1    347    ...          t5_2qn0o                  97252         public   \n",
      "2  36191    ...          t5_3gdh7                1124981         public   \n",
      "3  31998    ...          t5_2qh0u               18688609         public   \n",
      "4   1691    ...          t5_3gdh7                1130590         public   \n",
      "5  15307    ...          t5_3gdh7                1122725         public   \n",
      "\n",
      "  thumbnail_height  thumbnail_width  \\\n",
      "1            124.0            140.0   \n",
      "2             78.0            140.0   \n",
      "3            140.0            140.0   \n",
      "4             74.0            140.0   \n",
      "5             95.0            140.0   \n",
      "\n",
      "                                               title      ups  \\\n",
      "1  Fekir told President Jean Michel #Aulas that h...    347.0   \n",
      "2   A diver in Belize has made friends with an oc...  36191.0   \n",
      "3                              A plum tree in Japan.  31998.0   \n",
      "4                  A relaxing stroll along the river   1691.0   \n",
      "5                  Lava looking like melted plastic   15307.0   \n",
      "\n",
      "                                                 url visited  which_sub  \n",
      "1  https://twitter.com/RomainCG75/status/10020881...   False     others  \n",
      "2                    https://v.redd.it/hpebu4tce3111   False     others  \n",
      "3                    https://i.imgur.com/AqKOm52.jpg   False        cat  \n",
      "4                    https://v.redd.it/g2w0ug0ygf111   False     others  \n",
      "5                    https://i.imgur.com/Xxh2WIo.jpg   False     others  \n",
      "\n",
      "[5 rows x 23 columns]\n",
      "(3300, 23)\n",
      "            created   created_utc       gilded  num_comments         score  \\\n",
      "count  3.300000e+03  3.300000e+03  3300.000000   3300.000000   3300.000000   \n",
      "mean   1.527772e+09  1.527743e+09     0.030606    141.784242   3922.831212   \n",
      "std    6.615321e+04  6.615321e+04     0.340243    420.468088   8327.984675   \n",
      "min    1.527438e+09  1.527409e+09     0.000000      0.000000     25.000000   \n",
      "25%    1.527738e+09  1.527710e+09     0.000000     13.000000    216.000000   \n",
      "50%    1.527765e+09  1.527737e+09     0.000000     38.000000    851.000000   \n",
      "75%    1.527800e+09  1.527771e+09     0.000000    115.000000   3598.000000   \n",
      "max    1.527949e+09  1.527920e+09    14.000000   9444.000000  91339.000000   \n",
      "\n",
      "       subreddit_subscribers  thumbnail_height  thumbnail_width           ups  \n",
      "count           3.300000e+03       2995.000000      2975.000000   3299.000000  \n",
      "mean            1.978002e+06        118.188982       139.764706   3923.950288  \n",
      "std             4.960222e+06         26.754226         4.052252   8328.998998  \n",
      "min             2.204000e+03         10.000000        70.000000     25.000000  \n",
      "25%             5.588175e+04         95.000000       140.000000    216.000000  \n",
      "50%             1.882990e+05        140.000000       140.000000    855.000000  \n",
      "75%             5.445655e+05        140.000000       140.000000   3598.000000  \n",
      "max             1.963231e+07        189.000000       140.000000  91339.000000  \n"
     ]
    }
   ],
   "source": [
    "# print out the  size of the data and the number of rows and columns\n",
    "print(df.head())\n",
    "print(df.shape)\n",
    "print(df.describe())"
   ]
  },
  {
   "cell_type": "markdown",
   "metadata": {},
   "source": [
    "##### 2.2. Determining Missing observations"
   ]
  },
  {
   "cell_type": "code",
   "execution_count": 7,
   "metadata": {},
   "outputs": [
    {
     "data": {
      "text/plain": [
       "thumbnail_width          0.098485\n",
       "thumbnail_height         0.092424\n",
       "url                      0.000303\n",
       "ups                      0.000303\n",
       "title                    0.000303\n",
       "visited                  0.000303\n",
       "which_sub                0.000000\n",
       "name                     0.000000\n",
       "created                  0.000000\n",
       "created_utc              0.000000\n",
       "domain                   0.000000\n",
       "fetched time             0.000000\n",
       "gilded                   0.000000\n",
       "id                       0.000000\n",
       "stickied                 0.000000\n",
       "num_comments             0.000000\n",
       "score                    0.000000\n",
       "spoiler                  0.000000\n",
       "subreddit                0.000000\n",
       "subreddit_id             0.000000\n",
       "subreddit_subscribers    0.000000\n",
       "subreddit_type           0.000000\n",
       "author                   0.000000\n",
       "dtype: float64"
      ]
     },
     "execution_count": 7,
     "metadata": {},
     "output_type": "execute_result"
    }
   ],
   "source": [
    "# Checking missing values `.isnull() will convert to the boolean True and False and return new DataFrame where null values\n",
    "# are indicated by True and the .sum() will give us the total numbel of null values per column.\n",
    "# checking the null values in the DF , according to Ben this is the fancy one\n",
    "(df.isnull().sum() / df.shape[0]).sort_values(ascending=False)   # credit Ben shaver"
   ]
  },
  {
   "cell_type": "markdown",
   "metadata": {},
   "source": [
    "#####  2.3. Describing the summary statistics of the columns"
   ]
  },
  {
   "cell_type": "code",
   "execution_count": 8,
   "metadata": {},
   "outputs": [
    {
     "data": {
      "text/html": [
       "<div>\n",
       "<style scoped>\n",
       "    .dataframe tbody tr th:only-of-type {\n",
       "        vertical-align: middle;\n",
       "    }\n",
       "\n",
       "    .dataframe tbody tr th {\n",
       "        vertical-align: top;\n",
       "    }\n",
       "\n",
       "    .dataframe thead th {\n",
       "        text-align: right;\n",
       "    }\n",
       "</style>\n",
       "<table border=\"1\" class=\"dataframe\">\n",
       "  <thead>\n",
       "    <tr style=\"text-align: right;\">\n",
       "      <th></th>\n",
       "      <th>count</th>\n",
       "      <th>mean</th>\n",
       "      <th>std</th>\n",
       "      <th>min</th>\n",
       "      <th>25%</th>\n",
       "      <th>50%</th>\n",
       "      <th>75%</th>\n",
       "      <th>max</th>\n",
       "    </tr>\n",
       "  </thead>\n",
       "  <tbody>\n",
       "    <tr>\n",
       "      <th>created</th>\n",
       "      <td>3300.0</td>\n",
       "      <td>1.527772e+09</td>\n",
       "      <td>6.615321e+04</td>\n",
       "      <td>1.527438e+09</td>\n",
       "      <td>1.527738e+09</td>\n",
       "      <td>1.527765e+09</td>\n",
       "      <td>1.527800e+09</td>\n",
       "      <td>1.527949e+09</td>\n",
       "    </tr>\n",
       "    <tr>\n",
       "      <th>created_utc</th>\n",
       "      <td>3300.0</td>\n",
       "      <td>1.527743e+09</td>\n",
       "      <td>6.615321e+04</td>\n",
       "      <td>1.527409e+09</td>\n",
       "      <td>1.527710e+09</td>\n",
       "      <td>1.527737e+09</td>\n",
       "      <td>1.527771e+09</td>\n",
       "      <td>1.527920e+09</td>\n",
       "    </tr>\n",
       "    <tr>\n",
       "      <th>gilded</th>\n",
       "      <td>3300.0</td>\n",
       "      <td>3.060606e-02</td>\n",
       "      <td>3.402426e-01</td>\n",
       "      <td>0.000000e+00</td>\n",
       "      <td>0.000000e+00</td>\n",
       "      <td>0.000000e+00</td>\n",
       "      <td>0.000000e+00</td>\n",
       "      <td>1.400000e+01</td>\n",
       "    </tr>\n",
       "    <tr>\n",
       "      <th>num_comments</th>\n",
       "      <td>3300.0</td>\n",
       "      <td>1.417842e+02</td>\n",
       "      <td>4.204681e+02</td>\n",
       "      <td>0.000000e+00</td>\n",
       "      <td>1.300000e+01</td>\n",
       "      <td>3.800000e+01</td>\n",
       "      <td>1.150000e+02</td>\n",
       "      <td>9.444000e+03</td>\n",
       "    </tr>\n",
       "    <tr>\n",
       "      <th>score</th>\n",
       "      <td>3300.0</td>\n",
       "      <td>3.922831e+03</td>\n",
       "      <td>8.327985e+03</td>\n",
       "      <td>2.500000e+01</td>\n",
       "      <td>2.160000e+02</td>\n",
       "      <td>8.510000e+02</td>\n",
       "      <td>3.598000e+03</td>\n",
       "      <td>9.133900e+04</td>\n",
       "    </tr>\n",
       "    <tr>\n",
       "      <th>subreddit_subscribers</th>\n",
       "      <td>3300.0</td>\n",
       "      <td>1.978002e+06</td>\n",
       "      <td>4.960222e+06</td>\n",
       "      <td>2.204000e+03</td>\n",
       "      <td>5.588175e+04</td>\n",
       "      <td>1.882990e+05</td>\n",
       "      <td>5.445655e+05</td>\n",
       "      <td>1.963231e+07</td>\n",
       "    </tr>\n",
       "    <tr>\n",
       "      <th>thumbnail_height</th>\n",
       "      <td>2995.0</td>\n",
       "      <td>1.181890e+02</td>\n",
       "      <td>2.675423e+01</td>\n",
       "      <td>1.000000e+01</td>\n",
       "      <td>9.500000e+01</td>\n",
       "      <td>1.400000e+02</td>\n",
       "      <td>1.400000e+02</td>\n",
       "      <td>1.890000e+02</td>\n",
       "    </tr>\n",
       "    <tr>\n",
       "      <th>thumbnail_width</th>\n",
       "      <td>2975.0</td>\n",
       "      <td>1.397647e+02</td>\n",
       "      <td>4.052252e+00</td>\n",
       "      <td>7.000000e+01</td>\n",
       "      <td>1.400000e+02</td>\n",
       "      <td>1.400000e+02</td>\n",
       "      <td>1.400000e+02</td>\n",
       "      <td>1.400000e+02</td>\n",
       "    </tr>\n",
       "    <tr>\n",
       "      <th>ups</th>\n",
       "      <td>3299.0</td>\n",
       "      <td>3.923950e+03</td>\n",
       "      <td>8.328999e+03</td>\n",
       "      <td>2.500000e+01</td>\n",
       "      <td>2.160000e+02</td>\n",
       "      <td>8.550000e+02</td>\n",
       "      <td>3.598000e+03</td>\n",
       "      <td>9.133900e+04</td>\n",
       "    </tr>\n",
       "  </tbody>\n",
       "</table>\n",
       "</div>"
      ],
      "text/plain": [
       "                        count          mean           std           min  \\\n",
       "created                3300.0  1.527772e+09  6.615321e+04  1.527438e+09   \n",
       "created_utc            3300.0  1.527743e+09  6.615321e+04  1.527409e+09   \n",
       "gilded                 3300.0  3.060606e-02  3.402426e-01  0.000000e+00   \n",
       "num_comments           3300.0  1.417842e+02  4.204681e+02  0.000000e+00   \n",
       "score                  3300.0  3.922831e+03  8.327985e+03  2.500000e+01   \n",
       "subreddit_subscribers  3300.0  1.978002e+06  4.960222e+06  2.204000e+03   \n",
       "thumbnail_height       2995.0  1.181890e+02  2.675423e+01  1.000000e+01   \n",
       "thumbnail_width        2975.0  1.397647e+02  4.052252e+00  7.000000e+01   \n",
       "ups                    3299.0  3.923950e+03  8.328999e+03  2.500000e+01   \n",
       "\n",
       "                                25%           50%           75%           max  \n",
       "created                1.527738e+09  1.527765e+09  1.527800e+09  1.527949e+09  \n",
       "created_utc            1.527710e+09  1.527737e+09  1.527771e+09  1.527920e+09  \n",
       "gilded                 0.000000e+00  0.000000e+00  0.000000e+00  1.400000e+01  \n",
       "num_comments           1.300000e+01  3.800000e+01  1.150000e+02  9.444000e+03  \n",
       "score                  2.160000e+02  8.510000e+02  3.598000e+03  9.133900e+04  \n",
       "subreddit_subscribers  5.588175e+04  1.882990e+05  5.445655e+05  1.963231e+07  \n",
       "thumbnail_height       9.500000e+01  1.400000e+02  1.400000e+02  1.890000e+02  \n",
       "thumbnail_width        1.400000e+02  1.400000e+02  1.400000e+02  1.400000e+02  \n",
       "ups                    2.160000e+02  8.550000e+02  3.598000e+03  9.133900e+04  "
      ]
     },
     "execution_count": 8,
     "metadata": {},
     "output_type": "execute_result"
    }
   ],
   "source": [
    "# the describe function gives summary statistics for each variable\n",
    "df.describe().T"
   ]
  },
  {
   "cell_type": "markdown",
   "metadata": {},
   "source": [
    "##### 2.4.  Feature Engineering/ Exploring the Target Variable"
   ]
  },
  {
   "cell_type": "markdown",
   "metadata": {},
   "source": [
    "###### 2.4.1  Exploring by Title"
   ]
  },
  {
   "cell_type": "code",
   "execution_count": 9,
   "metadata": {},
   "outputs": [
    {
     "data": {
      "text/plain": [
       "3269"
      ]
     },
     "execution_count": 9,
     "metadata": {},
     "output_type": "execute_result"
    }
   ],
   "source": [
    "#checking the number of unique titles in the data set\n",
    "len(df['title'].unique())"
   ]
  },
  {
   "cell_type": "code",
   "execution_count": 10,
   "metadata": {},
   "outputs": [
    {
     "data": {
      "text/plain": [
       "['Fekir told President Jean Michel #Aulas that he wants to join Liverpool!  #Liverpool wants to buy the French international before the World Cup',\n",
       " ' A diver in Belize has made friends with an octopus. She named him Egbert and brings him treats in his own jar',\n",
       " ' A plum tree in Japan.']"
      ]
     },
     "execution_count": 10,
     "metadata": {},
     "output_type": "execute_result"
    }
   ],
   "source": [
    "x = list(df['title'].head(3))   # calling the five titles as list from the Df\n",
    "x"
   ]
  },
  {
   "cell_type": "markdown",
   "metadata": {},
   "source": [
    "###### 2.4.2 : Exploring by Num of Comments"
   ]
  },
  {
   "cell_type": "code",
   "execution_count": 11,
   "metadata": {},
   "outputs": [
    {
     "data": {
      "text/plain": [
       "543"
      ]
     },
     "execution_count": 11,
     "metadata": {},
     "output_type": "execute_result"
    }
   ],
   "source": [
    "# number of unique  num_comments in the data set\n",
    "len(df['num_comments'].unique())"
   ]
  },
  {
   "cell_type": "code",
   "execution_count": 12,
   "metadata": {},
   "outputs": [
    {
     "data": {
      "text/html": [
       "<div>\n",
       "<style scoped>\n",
       "    .dataframe tbody tr th:only-of-type {\n",
       "        vertical-align: middle;\n",
       "    }\n",
       "\n",
       "    .dataframe tbody tr th {\n",
       "        vertical-align: top;\n",
       "    }\n",
       "\n",
       "    .dataframe thead th {\n",
       "        text-align: right;\n",
       "    }\n",
       "</style>\n",
       "<table border=\"1\" class=\"dataframe\">\n",
       "  <thead>\n",
       "    <tr style=\"text-align: right;\">\n",
       "      <th></th>\n",
       "      <th>author</th>\n",
       "      <th>created</th>\n",
       "      <th>created_utc</th>\n",
       "      <th>domain</th>\n",
       "      <th>fetched time</th>\n",
       "      <th>gilded</th>\n",
       "      <th>id</th>\n",
       "      <th>name</th>\n",
       "      <th>num_comments</th>\n",
       "      <th>score</th>\n",
       "      <th>...</th>\n",
       "      <th>subreddit_id</th>\n",
       "      <th>subreddit_subscribers</th>\n",
       "      <th>subreddit_type</th>\n",
       "      <th>thumbnail_height</th>\n",
       "      <th>thumbnail_width</th>\n",
       "      <th>title</th>\n",
       "      <th>ups</th>\n",
       "      <th>url</th>\n",
       "      <th>visited</th>\n",
       "      <th>which_sub</th>\n",
       "    </tr>\n",
       "  </thead>\n",
       "  <tbody>\n",
       "    <tr>\n",
       "      <th>2</th>\n",
       "      <td>JMyers666</td>\n",
       "      <td>1527758232</td>\n",
       "      <td>1527729432</td>\n",
       "      <td>v.redd.it</td>\n",
       "      <td>2018-05-31 15:35:57.507532+00:00</td>\n",
       "      <td>0</td>\n",
       "      <td>8ndytk</td>\n",
       "      <td>t3_8ndytk</td>\n",
       "      <td>1288</td>\n",
       "      <td>36191</td>\n",
       "      <td>...</td>\n",
       "      <td>t5_3gdh7</td>\n",
       "      <td>1124981</td>\n",
       "      <td>public</td>\n",
       "      <td>78.0</td>\n",
       "      <td>140.0</td>\n",
       "      <td>A diver in Belize has made friends with an oc...</td>\n",
       "      <td>36191.0</td>\n",
       "      <td>https://v.redd.it/hpebu4tce3111</td>\n",
       "      <td>False</td>\n",
       "      <td>others</td>\n",
       "    </tr>\n",
       "    <tr>\n",
       "      <th>3</th>\n",
       "      <td>Endless_Vanity</td>\n",
       "      <td>1527712883</td>\n",
       "      <td>1527684083</td>\n",
       "      <td>i.imgur.com</td>\n",
       "      <td>2018-05-31 10:27:31.504151+00:00</td>\n",
       "      <td>0</td>\n",
       "      <td>8n88yu</td>\n",
       "      <td>t3_8n88yu</td>\n",
       "      <td>170</td>\n",
       "      <td>31998</td>\n",
       "      <td>...</td>\n",
       "      <td>t5_2qh0u</td>\n",
       "      <td>18688609</td>\n",
       "      <td>public</td>\n",
       "      <td>140.0</td>\n",
       "      <td>140.0</td>\n",
       "      <td>A plum tree in Japan.</td>\n",
       "      <td>31998.0</td>\n",
       "      <td>https://i.imgur.com/AqKOm52.jpg</td>\n",
       "      <td>False</td>\n",
       "      <td>cat</td>\n",
       "    </tr>\n",
       "    <tr>\n",
       "      <th>4</th>\n",
       "      <td>WitnessMeIRL</td>\n",
       "      <td>1527904422</td>\n",
       "      <td>1527875622</td>\n",
       "      <td>v.redd.it</td>\n",
       "      <td>2018-06-01 20:49:52.948499+00:00</td>\n",
       "      <td>0</td>\n",
       "      <td>8ntyvl</td>\n",
       "      <td>t3_8ntyvl</td>\n",
       "      <td>69</td>\n",
       "      <td>1691</td>\n",
       "      <td>...</td>\n",
       "      <td>t5_3gdh7</td>\n",
       "      <td>1130590</td>\n",
       "      <td>public</td>\n",
       "      <td>74.0</td>\n",
       "      <td>140.0</td>\n",
       "      <td>A relaxing stroll along the river</td>\n",
       "      <td>1691.0</td>\n",
       "      <td>https://v.redd.it/g2w0ug0ygf111</td>\n",
       "      <td>False</td>\n",
       "      <td>others</td>\n",
       "    </tr>\n",
       "    <tr>\n",
       "      <th>58</th>\n",
       "      <td>I_am_Brooks_Orpik</td>\n",
       "      <td>1527711682</td>\n",
       "      <td>1527682882</td>\n",
       "      <td>self.caps</td>\n",
       "      <td>2018-06-01 00:14:03.297542+00:00</td>\n",
       "      <td>0</td>\n",
       "      <td>8n84d6</td>\n",
       "      <td>t3_8n84d6</td>\n",
       "      <td>47</td>\n",
       "      <td>504</td>\n",
       "      <td>...</td>\n",
       "      <td>t5_2rouz</td>\n",
       "      <td>16825</td>\n",
       "      <td>public</td>\n",
       "      <td>133.0</td>\n",
       "      <td>140.0</td>\n",
       "      <td>GRIT SCF G2 EDITION</td>\n",
       "      <td>504.0</td>\n",
       "      <td>https://www.reddit.com/r/caps/comments/8n84d6/...</td>\n",
       "      <td>False</td>\n",
       "      <td>others</td>\n",
       "    </tr>\n",
       "    <tr>\n",
       "      <th>3048</th>\n",
       "      <td>Fleece_It_Out_</td>\n",
       "      <td>1527782695</td>\n",
       "      <td>1527753895</td>\n",
       "      <td>imgur.com</td>\n",
       "      <td>2018-05-31 10:57:07.800747+00:00</td>\n",
       "      <td>0</td>\n",
       "      <td>8ngnlr</td>\n",
       "      <td>t3_8ngnlr</td>\n",
       "      <td>71</td>\n",
       "      <td>49</td>\n",
       "      <td>...</td>\n",
       "      <td>t5_2re84</td>\n",
       "      <td>92530</td>\n",
       "      <td>public</td>\n",
       "      <td>140.0</td>\n",
       "      <td>140.0</td>\n",
       "      <td>Just a little curious since no one's interest...</td>\n",
       "      <td>49.0</td>\n",
       "      <td>http://imgur.com/a/2CgPOUJ</td>\n",
       "      <td>False</td>\n",
       "      <td>others</td>\n",
       "    </tr>\n",
       "  </tbody>\n",
       "</table>\n",
       "<p>5 rows × 23 columns</p>\n",
       "</div>"
      ],
      "text/plain": [
       "                 author     created  created_utc       domain  \\\n",
       "2             JMyers666  1527758232   1527729432    v.redd.it   \n",
       "3        Endless_Vanity  1527712883   1527684083  i.imgur.com   \n",
       "4          WitnessMeIRL  1527904422   1527875622    v.redd.it   \n",
       "58    I_am_Brooks_Orpik  1527711682   1527682882    self.caps   \n",
       "3048     Fleece_It_Out_  1527782695   1527753895    imgur.com   \n",
       "\n",
       "                          fetched time  gilded      id       name  \\\n",
       "2     2018-05-31 15:35:57.507532+00:00       0  8ndytk  t3_8ndytk   \n",
       "3     2018-05-31 10:27:31.504151+00:00       0  8n88yu  t3_8n88yu   \n",
       "4     2018-06-01 20:49:52.948499+00:00       0  8ntyvl  t3_8ntyvl   \n",
       "58    2018-06-01 00:14:03.297542+00:00       0  8n84d6  t3_8n84d6   \n",
       "3048  2018-05-31 10:57:07.800747+00:00       0  8ngnlr  t3_8ngnlr   \n",
       "\n",
       "      num_comments  score    ...      subreddit_id  subreddit_subscribers  \\\n",
       "2             1288  36191    ...          t5_3gdh7                1124981   \n",
       "3              170  31998    ...          t5_2qh0u               18688609   \n",
       "4               69   1691    ...          t5_3gdh7                1130590   \n",
       "58              47    504    ...          t5_2rouz                  16825   \n",
       "3048            71     49    ...          t5_2re84                  92530   \n",
       "\n",
       "     subreddit_type thumbnail_height  thumbnail_width  \\\n",
       "2            public             78.0            140.0   \n",
       "3            public            140.0            140.0   \n",
       "4            public             74.0            140.0   \n",
       "58           public            133.0            140.0   \n",
       "3048         public            140.0            140.0   \n",
       "\n",
       "                                                  title      ups  \\\n",
       "2      A diver in Belize has made friends with an oc...  36191.0   \n",
       "3                                 A plum tree in Japan.  31998.0   \n",
       "4                     A relaxing stroll along the river   1691.0   \n",
       "58                                  GRIT SCF G2 EDITION    504.0   \n",
       "3048   Just a little curious since no one's interest...     49.0   \n",
       "\n",
       "                                                    url visited  which_sub  \n",
       "2                       https://v.redd.it/hpebu4tce3111   False     others  \n",
       "3                       https://i.imgur.com/AqKOm52.jpg   False        cat  \n",
       "4                       https://v.redd.it/g2w0ug0ygf111   False     others  \n",
       "58    https://www.reddit.com/r/caps/comments/8n84d6/...   False     others  \n",
       "3048                         http://imgur.com/a/2CgPOUJ   False     others  \n",
       "\n",
       "[5 rows x 23 columns]"
      ]
     },
     "execution_count": 12,
     "metadata": {},
     "output_type": "execute_result"
    }
   ],
   "source": [
    "# The Duplicates have diffrent time fetched the file\n",
    "df.sort_values(by=['title','num_comments'],inplace =True)\n",
    "df.head()"
   ]
  },
  {
   "cell_type": "code",
   "execution_count": 13,
   "metadata": {},
   "outputs": [
    {
     "name": "stdout",
     "output_type": "stream",
     "text": [
      "38.0\n",
      "141.78424242424242\n"
     ]
    },
    {
     "data": {
      "text/plain": [
       "count    3300.000000\n",
       "mean      141.784242\n",
       "std       420.468088\n",
       "min         0.000000\n",
       "25%        13.000000\n",
       "50%        38.000000\n",
       "75%       115.000000\n",
       "max      9444.000000\n",
       "Name: num_comments, dtype: float64"
      ]
     },
     "execution_count": 13,
     "metadata": {},
     "output_type": "execute_result"
    }
   ],
   "source": [
    "print(df['num_comments'].median())      # median of number of comments\n",
    "print(df['num_comments'].mean())        # mean of number of comments\n",
    "df['num_comments'].describe()       # statistical description num-comments"
   ]
  },
  {
   "cell_type": "code",
   "execution_count": 14,
   "metadata": {},
   "outputs": [
    {
     "data": {
      "text/plain": [
       "0.33333333333333337"
      ]
     },
     "execution_count": 14,
     "metadata": {},
     "output_type": "execute_result"
    }
   ],
   "source": [
    "#  Now lets see the percentage of number of comments\n",
    "# that have more than 3,000 comments by the subreddit users?\n",
    "((df[df['num_comments']>3000]['num_comments'].count())/len(df))*100"
   ]
  },
  {
   "cell_type": "code",
   "execution_count": 15,
   "metadata": {},
   "outputs": [
    {
     "name": "stderr",
     "output_type": "stream",
     "text": [
      "C:\\Users\\kiraz\\AppData\\Local\\conda\\conda\\envs\\dsi\\lib\\site-packages\\matplotlib\\axes\\_axes.py:6462: UserWarning: The 'normed' kwarg is deprecated, and has been replaced by the 'density' kwarg.\n",
      "  warnings.warn(\"The 'normed' kwarg is deprecated, and has been \"\n"
     ]
    },
    {
     "data": {
      "image/png": "[encoded data removed]",
      "text/plain": [
       "<Figure size 576x360 with 1 Axes>"
      ]
     },
     "metadata": {
      "image/png": {
       "height": 331,
       "width": 506
      }
     },
     "output_type": "display_data"
    }
   ],
   "source": [
    "# Now lets see distribution of the posts with\n",
    "# less than 2000  number of comments?\n",
    "fig = plt.figure(figsize=(8,5))\n",
    "ax=sns.distplot(df[df['num_comments']<2000]['num_comments']);\n",
    "plt.axvline(x=df['num_comments'].median(), color='red');\n",
    "ax.set(ylabel='Distribution', xlabel='num_Comments per Post', title='Median num_Comments = 38')\n",
    "plt.show;"
   ]
  },
  {
   "cell_type": "code",
   "execution_count": 16,
   "metadata": {},
   "outputs": [
    {
     "data": {
      "text/html": [
       "<div>\n",
       "<style scoped>\n",
       "    .dataframe tbody tr th:only-of-type {\n",
       "        vertical-align: middle;\n",
       "    }\n",
       "\n",
       "    .dataframe tbody tr th {\n",
       "        vertical-align: top;\n",
       "    }\n",
       "\n",
       "    .dataframe thead th {\n",
       "        text-align: right;\n",
       "    }\n",
       "</style>\n",
       "<table border=\"1\" class=\"dataframe\">\n",
       "  <thead>\n",
       "    <tr style=\"text-align: right;\">\n",
       "      <th></th>\n",
       "      <th>author</th>\n",
       "      <th>created</th>\n",
       "      <th>created_utc</th>\n",
       "      <th>domain</th>\n",
       "      <th>fetched time</th>\n",
       "      <th>gilded</th>\n",
       "      <th>id</th>\n",
       "      <th>name</th>\n",
       "      <th>num_comments</th>\n",
       "      <th>score</th>\n",
       "      <th>...</th>\n",
       "      <th>subreddit_id</th>\n",
       "      <th>subreddit_subscribers</th>\n",
       "      <th>subreddit_type</th>\n",
       "      <th>thumbnail_height</th>\n",
       "      <th>thumbnail_width</th>\n",
       "      <th>title</th>\n",
       "      <th>ups</th>\n",
       "      <th>url</th>\n",
       "      <th>visited</th>\n",
       "      <th>which_sub</th>\n",
       "    </tr>\n",
       "  </thead>\n",
       "  <tbody>\n",
       "    <tr>\n",
       "      <th>2852</th>\n",
       "      <td>BreslinLotShots</td>\n",
       "      <td>1527807025</td>\n",
       "      <td>1527778225</td>\n",
       "      <td>self.AskReddit</td>\n",
       "      <td>2018-06-01 00:13:32.080560+00:00</td>\n",
       "      <td>0</td>\n",
       "      <td>8nj0ha</td>\n",
       "      <td>t3_8nj0ha</td>\n",
       "      <td>9444</td>\n",
       "      <td>7371</td>\n",
       "      <td>...</td>\n",
       "      <td>t5_2qh1i</td>\n",
       "      <td>19299199</td>\n",
       "      <td>public</td>\n",
       "      <td>NaN</td>\n",
       "      <td>NaN</td>\n",
       "      <td>What band/artist is the king of \"all of our so...</td>\n",
       "      <td>7371.0</td>\n",
       "      <td>https://www.reddit.com/r/AskReddit/comments/8n...</td>\n",
       "      <td>False</td>\n",
       "      <td>AskReddit</td>\n",
       "    </tr>\n",
       "    <tr>\n",
       "      <th>2867</th>\n",
       "      <td>magnificentmicrobes</td>\n",
       "      <td>1527726101</td>\n",
       "      <td>1527697301</td>\n",
       "      <td>self.AskReddit</td>\n",
       "      <td>2018-05-31 10:28:30.882837+00:00</td>\n",
       "      <td>0</td>\n",
       "      <td>8n9x0i</td>\n",
       "      <td>t3_8n9x0i</td>\n",
       "      <td>7934</td>\n",
       "      <td>10438</td>\n",
       "      <td>...</td>\n",
       "      <td>t5_2qh1i</td>\n",
       "      <td>19292243</td>\n",
       "      <td>public</td>\n",
       "      <td>NaN</td>\n",
       "      <td>NaN</td>\n",
       "      <td>What the sluttiest thing you 've ever done?</td>\n",
       "      <td>10438.0</td>\n",
       "      <td>https://www.reddit.com/r/AskReddit/comments/8n...</td>\n",
       "      <td>False</td>\n",
       "      <td>AskReddit</td>\n",
       "    </tr>\n",
       "    <tr>\n",
       "      <th>2876</th>\n",
       "      <td>magnificentmicrobes</td>\n",
       "      <td>1527726101</td>\n",
       "      <td>1527697301</td>\n",
       "      <td>self.AskReddit</td>\n",
       "      <td>2018-06-01 20:49:51.465440+00:00</td>\n",
       "      <td>0</td>\n",
       "      <td>8n9x0i</td>\n",
       "      <td>t3_8n9x0i</td>\n",
       "      <td>7934</td>\n",
       "      <td>10438</td>\n",
       "      <td>...</td>\n",
       "      <td>t5_2qh1i</td>\n",
       "      <td>19292243</td>\n",
       "      <td>public</td>\n",
       "      <td>NaN</td>\n",
       "      <td>NaN</td>\n",
       "      <td>Whats the sluttiest thing youve ever done?</td>\n",
       "      <td>10438.0</td>\n",
       "      <td>https://www.reddit.com/r/AskReddit/comments/8n...</td>\n",
       "      <td>False</td>\n",
       "      <td>AskReddit</td>\n",
       "    </tr>\n",
       "    <tr>\n",
       "      <th>2945</th>\n",
       "      <td>Anthonym82</td>\n",
       "      <td>1527814601</td>\n",
       "      <td>1527785801</td>\n",
       "      <td>self.AskReddit</td>\n",
       "      <td>2018-05-31 23:55:12.672038+00:00</td>\n",
       "      <td>0</td>\n",
       "      <td>8nk1ec</td>\n",
       "      <td>t3_8nk1ec</td>\n",
       "      <td>5777</td>\n",
       "      <td>18334</td>\n",
       "      <td>...</td>\n",
       "      <td>t5_2qh1i</td>\n",
       "      <td>19299174</td>\n",
       "      <td>public</td>\n",
       "      <td>NaN</td>\n",
       "      <td>NaN</td>\n",
       "      <td>Which creepy urban legend turned out to be true?</td>\n",
       "      <td>18334.0</td>\n",
       "      <td>https://www.reddit.com/r/AskReddit/comments/8n...</td>\n",
       "      <td>False</td>\n",
       "      <td>AskReddit</td>\n",
       "    </tr>\n",
       "    <tr>\n",
       "      <th>2705</th>\n",
       "      <td>pipsdontsqueak</td>\n",
       "      <td>1527803290</td>\n",
       "      <td>1527774490</td>\n",
       "      <td>cnbc.com</td>\n",
       "      <td>2018-05-31 17:47:11.882815+00:00</td>\n",
       "      <td>0</td>\n",
       "      <td>8nijjr</td>\n",
       "      <td>t3_8nijjr</td>\n",
       "      <td>5435</td>\n",
       "      <td>29017</td>\n",
       "      <td>...</td>\n",
       "      <td>t5_2qh13</td>\n",
       "      <td>18781051</td>\n",
       "      <td>public</td>\n",
       "      <td>73.0</td>\n",
       "      <td>140.0</td>\n",
       "      <td>Trump administration will put steel and alumin...</td>\n",
       "      <td>29017.0</td>\n",
       "      <td>http://cnbc.com/id/105241999</td>\n",
       "      <td>False</td>\n",
       "      <td>cat</td>\n",
       "    </tr>\n",
       "  </tbody>\n",
       "</table>\n",
       "<p>5 rows × 23 columns</p>\n",
       "</div>"
      ],
      "text/plain": [
       "                   author     created  created_utc          domain  \\\n",
       "2852      BreslinLotShots  1527807025   1527778225  self.AskReddit   \n",
       "2867  magnificentmicrobes  1527726101   1527697301  self.AskReddit   \n",
       "2876  magnificentmicrobes  1527726101   1527697301  self.AskReddit   \n",
       "2945           Anthonym82  1527814601   1527785801  self.AskReddit   \n",
       "2705       pipsdontsqueak  1527803290   1527774490        cnbc.com   \n",
       "\n",
       "                          fetched time  gilded      id       name  \\\n",
       "2852  2018-06-01 00:13:32.080560+00:00       0  8nj0ha  t3_8nj0ha   \n",
       "2867  2018-05-31 10:28:30.882837+00:00       0  8n9x0i  t3_8n9x0i   \n",
       "2876  2018-06-01 20:49:51.465440+00:00       0  8n9x0i  t3_8n9x0i   \n",
       "2945  2018-05-31 23:55:12.672038+00:00       0  8nk1ec  t3_8nk1ec   \n",
       "2705  2018-05-31 17:47:11.882815+00:00       0  8nijjr  t3_8nijjr   \n",
       "\n",
       "      num_comments  score    ...      subreddit_id  subreddit_subscribers  \\\n",
       "2852          9444   7371    ...          t5_2qh1i               19299199   \n",
       "2867          7934  10438    ...          t5_2qh1i               19292243   \n",
       "2876          7934  10438    ...          t5_2qh1i               19292243   \n",
       "2945          5777  18334    ...          t5_2qh1i               19299174   \n",
       "2705          5435  29017    ...          t5_2qh13               18781051   \n",
       "\n",
       "     subreddit_type thumbnail_height  thumbnail_width  \\\n",
       "2852         public              NaN              NaN   \n",
       "2867         public              NaN              NaN   \n",
       "2876         public              NaN              NaN   \n",
       "2945         public              NaN              NaN   \n",
       "2705         public             73.0            140.0   \n",
       "\n",
       "                                                  title      ups  \\\n",
       "2852  What band/artist is the king of \"all of our so...   7371.0   \n",
       "2867        What the sluttiest thing you 've ever done?  10438.0   \n",
       "2876         Whats the sluttiest thing youve ever done?  10438.0   \n",
       "2945   Which creepy urban legend turned out to be true?  18334.0   \n",
       "2705  Trump administration will put steel and alumin...  29017.0   \n",
       "\n",
       "                                                    url visited  which_sub  \n",
       "2852  https://www.reddit.com/r/AskReddit/comments/8n...   False  AskReddit  \n",
       "2867  https://www.reddit.com/r/AskReddit/comments/8n...   False  AskReddit  \n",
       "2876  https://www.reddit.com/r/AskReddit/comments/8n...   False  AskReddit  \n",
       "2945  https://www.reddit.com/r/AskReddit/comments/8n...   False  AskReddit  \n",
       "2705                       http://cnbc.com/id/105241999   False        cat  \n",
       "\n",
       "[5 rows x 23 columns]"
      ]
     },
     "execution_count": 16,
     "metadata": {},
     "output_type": "execute_result"
    }
   ],
   "source": [
    "#  I am very curious to see the content of the top five posts \n",
    "# that have significant number of comments by subreddit users\n",
    "df[df['num_comments']>=2000].sort_values(by='num_comments', ascending=False).head(5)"
   ]
  },
  {
   "cell_type": "code",
   "execution_count": 17,
   "metadata": {},
   "outputs": [
    {
     "name": "stderr",
     "output_type": "stream",
     "text": [
      "C:\\Users\\kiraz\\AppData\\Local\\conda\\conda\\envs\\dsi\\lib\\site-packages\\matplotlib\\axes\\_axes.py:6462: UserWarning: The 'normed' kwarg is deprecated, and has been replaced by the 'density' kwarg.\n",
      "  warnings.warn(\"The 'normed' kwarg is deprecated, and has been \"\n"
     ]
    },
    {
     "data": {
      "image/png": "[encoded data removed]",
      "text/plain": [
       "<Figure size 432x288 with 1 Axes>"
      ]
     },
     "metadata": {
      "image/png": {
       "height": 262,
       "width": 403
      }
     },
     "output_type": "display_data"
    }
   ],
   "source": [
    "# Distribution of the posts with more than 4000 comments?\n",
    "sns.distplot(df[df['num_comments']>=4000]['num_comments']);"
   ]
  },
  {
   "cell_type": "code",
   "execution_count": 18,
   "metadata": {},
   "outputs": [
    {
     "data": {
      "text/html": [
       "<div>\n",
       "<style scoped>\n",
       "    .dataframe tbody tr th:only-of-type {\n",
       "        vertical-align: middle;\n",
       "    }\n",
       "\n",
       "    .dataframe tbody tr th {\n",
       "        vertical-align: top;\n",
       "    }\n",
       "\n",
       "    .dataframe thead th {\n",
       "        text-align: right;\n",
       "    }\n",
       "</style>\n",
       "<table border=\"1\" class=\"dataframe\">\n",
       "  <thead>\n",
       "    <tr style=\"text-align: right;\">\n",
       "      <th></th>\n",
       "      <th>author</th>\n",
       "      <th>created</th>\n",
       "      <th>created_utc</th>\n",
       "      <th>domain</th>\n",
       "      <th>fetched time</th>\n",
       "      <th>gilded</th>\n",
       "      <th>id</th>\n",
       "      <th>name</th>\n",
       "      <th>num_comments</th>\n",
       "      <th>score</th>\n",
       "      <th>...</th>\n",
       "      <th>subreddit_id</th>\n",
       "      <th>subreddit_subscribers</th>\n",
       "      <th>subreddit_type</th>\n",
       "      <th>thumbnail_height</th>\n",
       "      <th>thumbnail_width</th>\n",
       "      <th>title</th>\n",
       "      <th>ups</th>\n",
       "      <th>url</th>\n",
       "      <th>visited</th>\n",
       "      <th>which_sub</th>\n",
       "    </tr>\n",
       "  </thead>\n",
       "  <tbody>\n",
       "    <tr>\n",
       "      <th>2852</th>\n",
       "      <td>BreslinLotShots</td>\n",
       "      <td>1527807025</td>\n",
       "      <td>1527778225</td>\n",
       "      <td>self.AskReddit</td>\n",
       "      <td>2018-06-01 00:13:32.080560+00:00</td>\n",
       "      <td>0</td>\n",
       "      <td>8nj0ha</td>\n",
       "      <td>t3_8nj0ha</td>\n",
       "      <td>9444</td>\n",
       "      <td>7371</td>\n",
       "      <td>...</td>\n",
       "      <td>t5_2qh1i</td>\n",
       "      <td>19299199</td>\n",
       "      <td>public</td>\n",
       "      <td>NaN</td>\n",
       "      <td>NaN</td>\n",
       "      <td>What band/artist is the king of \"all of our so...</td>\n",
       "      <td>7371.0</td>\n",
       "      <td>https://www.reddit.com/r/AskReddit/comments/8n...</td>\n",
       "      <td>False</td>\n",
       "      <td>AskReddit</td>\n",
       "    </tr>\n",
       "    <tr>\n",
       "      <th>2867</th>\n",
       "      <td>magnificentmicrobes</td>\n",
       "      <td>1527726101</td>\n",
       "      <td>1527697301</td>\n",
       "      <td>self.AskReddit</td>\n",
       "      <td>2018-05-31 10:28:30.882837+00:00</td>\n",
       "      <td>0</td>\n",
       "      <td>8n9x0i</td>\n",
       "      <td>t3_8n9x0i</td>\n",
       "      <td>7934</td>\n",
       "      <td>10438</td>\n",
       "      <td>...</td>\n",
       "      <td>t5_2qh1i</td>\n",
       "      <td>19292243</td>\n",
       "      <td>public</td>\n",
       "      <td>NaN</td>\n",
       "      <td>NaN</td>\n",
       "      <td>What the sluttiest thing you 've ever done?</td>\n",
       "      <td>10438.0</td>\n",
       "      <td>https://www.reddit.com/r/AskReddit/comments/8n...</td>\n",
       "      <td>False</td>\n",
       "      <td>AskReddit</td>\n",
       "    </tr>\n",
       "    <tr>\n",
       "      <th>2876</th>\n",
       "      <td>magnificentmicrobes</td>\n",
       "      <td>1527726101</td>\n",
       "      <td>1527697301</td>\n",
       "      <td>self.AskReddit</td>\n",
       "      <td>2018-06-01 20:49:51.465440+00:00</td>\n",
       "      <td>0</td>\n",
       "      <td>8n9x0i</td>\n",
       "      <td>t3_8n9x0i</td>\n",
       "      <td>7934</td>\n",
       "      <td>10438</td>\n",
       "      <td>...</td>\n",
       "      <td>t5_2qh1i</td>\n",
       "      <td>19292243</td>\n",
       "      <td>public</td>\n",
       "      <td>NaN</td>\n",
       "      <td>NaN</td>\n",
       "      <td>Whats the sluttiest thing youve ever done?</td>\n",
       "      <td>10438.0</td>\n",
       "      <td>https://www.reddit.com/r/AskReddit/comments/8n...</td>\n",
       "      <td>False</td>\n",
       "      <td>AskReddit</td>\n",
       "    </tr>\n",
       "    <tr>\n",
       "      <th>2945</th>\n",
       "      <td>Anthonym82</td>\n",
       "      <td>1527814601</td>\n",
       "      <td>1527785801</td>\n",
       "      <td>self.AskReddit</td>\n",
       "      <td>2018-05-31 23:55:12.672038+00:00</td>\n",
       "      <td>0</td>\n",
       "      <td>8nk1ec</td>\n",
       "      <td>t3_8nk1ec</td>\n",
       "      <td>5777</td>\n",
       "      <td>18334</td>\n",
       "      <td>...</td>\n",
       "      <td>t5_2qh1i</td>\n",
       "      <td>19299174</td>\n",
       "      <td>public</td>\n",
       "      <td>NaN</td>\n",
       "      <td>NaN</td>\n",
       "      <td>Which creepy urban legend turned out to be true?</td>\n",
       "      <td>18334.0</td>\n",
       "      <td>https://www.reddit.com/r/AskReddit/comments/8n...</td>\n",
       "      <td>False</td>\n",
       "      <td>AskReddit</td>\n",
       "    </tr>\n",
       "    <tr>\n",
       "      <th>2705</th>\n",
       "      <td>pipsdontsqueak</td>\n",
       "      <td>1527803290</td>\n",
       "      <td>1527774490</td>\n",
       "      <td>cnbc.com</td>\n",
       "      <td>2018-05-31 17:47:11.882815+00:00</td>\n",
       "      <td>0</td>\n",
       "      <td>8nijjr</td>\n",
       "      <td>t3_8nijjr</td>\n",
       "      <td>5435</td>\n",
       "      <td>29017</td>\n",
       "      <td>...</td>\n",
       "      <td>t5_2qh13</td>\n",
       "      <td>18781051</td>\n",
       "      <td>public</td>\n",
       "      <td>73.0</td>\n",
       "      <td>140.0</td>\n",
       "      <td>Trump administration will put steel and alumin...</td>\n",
       "      <td>29017.0</td>\n",
       "      <td>http://cnbc.com/id/105241999</td>\n",
       "      <td>False</td>\n",
       "      <td>cat</td>\n",
       "    </tr>\n",
       "  </tbody>\n",
       "</table>\n",
       "<p>5 rows × 23 columns</p>\n",
       "</div>"
      ],
      "text/plain": [
       "                   author     created  created_utc          domain  \\\n",
       "2852      BreslinLotShots  1527807025   1527778225  self.AskReddit   \n",
       "2867  magnificentmicrobes  1527726101   1527697301  self.AskReddit   \n",
       "2876  magnificentmicrobes  1527726101   1527697301  self.AskReddit   \n",
       "2945           Anthonym82  1527814601   1527785801  self.AskReddit   \n",
       "2705       pipsdontsqueak  1527803290   1527774490        cnbc.com   \n",
       "\n",
       "                          fetched time  gilded      id       name  \\\n",
       "2852  2018-06-01 00:13:32.080560+00:00       0  8nj0ha  t3_8nj0ha   \n",
       "2867  2018-05-31 10:28:30.882837+00:00       0  8n9x0i  t3_8n9x0i   \n",
       "2876  2018-06-01 20:49:51.465440+00:00       0  8n9x0i  t3_8n9x0i   \n",
       "2945  2018-05-31 23:55:12.672038+00:00       0  8nk1ec  t3_8nk1ec   \n",
       "2705  2018-05-31 17:47:11.882815+00:00       0  8nijjr  t3_8nijjr   \n",
       "\n",
       "      num_comments  score    ...      subreddit_id  subreddit_subscribers  \\\n",
       "2852          9444   7371    ...          t5_2qh1i               19299199   \n",
       "2867          7934  10438    ...          t5_2qh1i               19292243   \n",
       "2876          7934  10438    ...          t5_2qh1i               19292243   \n",
       "2945          5777  18334    ...          t5_2qh1i               19299174   \n",
       "2705          5435  29017    ...          t5_2qh13               18781051   \n",
       "\n",
       "     subreddit_type thumbnail_height  thumbnail_width  \\\n",
       "2852         public              NaN              NaN   \n",
       "2867         public              NaN              NaN   \n",
       "2876         public              NaN              NaN   \n",
       "2945         public              NaN              NaN   \n",
       "2705         public             73.0            140.0   \n",
       "\n",
       "                                                  title      ups  \\\n",
       "2852  What band/artist is the king of \"all of our so...   7371.0   \n",
       "2867        What the sluttiest thing you 've ever done?  10438.0   \n",
       "2876         Whats the sluttiest thing youve ever done?  10438.0   \n",
       "2945   Which creepy urban legend turned out to be true?  18334.0   \n",
       "2705  Trump administration will put steel and alumin...  29017.0   \n",
       "\n",
       "                                                    url visited  which_sub  \n",
       "2852  https://www.reddit.com/r/AskReddit/comments/8n...   False  AskReddit  \n",
       "2867  https://www.reddit.com/r/AskReddit/comments/8n...   False  AskReddit  \n",
       "2876  https://www.reddit.com/r/AskReddit/comments/8n...   False  AskReddit  \n",
       "2945  https://www.reddit.com/r/AskReddit/comments/8n...   False  AskReddit  \n",
       "2705                       http://cnbc.com/id/105241999   False        cat  \n",
       "\n",
       "[5 rows x 23 columns]"
      ]
     },
     "execution_count": 18,
     "metadata": {},
     "output_type": "execute_result"
    }
   ],
   "source": [
    "#  I am very curious to see the content of the top five posts \n",
    "# that have significant number of comments by subreddit users\n",
    "df[df['num_comments']>=5000].sort_values(by='num_comments', ascending=False).head(5)"
   ]
  },
  {
   "cell_type": "code",
   "execution_count": 19,
   "metadata": {},
   "outputs": [
    {
     "data": {
      "text/plain": [
       "['Trump administration will put steel and aluminum tariffs on Canada, Mexico and the EU',\n",
       " 'What band/artist is the king of \"all of our songs sound the same\"?',\n",
       " 'What is something that you dont appreciate you have until its gone?',\n",
       " \"What the sluttiest thing you 've ever done?\",\n",
       " \"What's a good movie everyone should watch but almost no one has?\",\n",
       " 'Whats the sluttiest thing youve ever done?',\n",
       " 'Which creepy urban legend turned out to be true?']"
      ]
     },
     "execution_count": 19,
     "metadata": {},
     "output_type": "execute_result"
    }
   ],
   "source": [
    "#   still i am interested to see the post with more than \n",
    "# 4000 and above  subreddit  num of comments \n",
    "list(df.loc[df['num_comments']>=4000, 'title'])"
   ]
  },
  {
   "cell_type": "markdown",
   "metadata": {},
   "source": [
    "###### 2.4.3. Exploring By Subreddit"
   ]
  },
  {
   "cell_type": "code",
   "execution_count": 20,
   "metadata": {},
   "outputs": [
    {
     "name": "stdout",
     "output_type": "stream",
     "text": [
      "unique subreddit: 1566\n",
      " Percentage of subreddit unique to my scrapped Data ? 47.45454545454545\n"
     ]
    }
   ],
   "source": [
    "#  looking on to the unique subreddit from the scraped data\n",
    "print('unique subreddit:', df['subreddit'].nunique())    #\n",
    "print(' Percentage of subreddit unique to my scrapped Data ?', 100*df['subreddit'].nunique()/len(df))"
   ]
  },
  {
   "cell_type": "code",
   "execution_count": 21,
   "metadata": {},
   "outputs": [
    {
     "data": {
      "text/plain": [
       "subreddit           subreddit         \n",
       "funny               funny                 27\n",
       "todayilearned       todayilearned         26\n",
       "pics                pics                  25\n",
       "aww                 aww                   23\n",
       "mildlyinteresting   mildlyinteresting     19\n",
       "gaming              gaming                18\n",
       "BlackPeopleTwitter  BlackPeopleTwitter    16\n",
       "gifs                gifs                  15\n",
       "Kanye               Kanye                 13\n",
       "PrequelMemes        PrequelMemes          13\n",
       "Name: subreddit, dtype: int64"
      ]
     },
     "execution_count": 21,
     "metadata": {},
     "output_type": "execute_result"
    }
   ],
   "source": [
    "#  Now lets dive in to see the most popular subreddits \n",
    "# so to get that lets group them by number of posts\n",
    "#print('unique subreddits:', df['subreddit'].value_counts())\n",
    "subs=df.groupby('subreddit')['subreddit'].value_counts().sort_values(ascending=False)\n",
    "subs.head(10)"
   ]
  },
  {
   "cell_type": "code",
   "execution_count": 22,
   "metadata": {
    "scrolled": true
   },
   "outputs": [
    {
     "name": "stdout",
     "output_type": "stream",
     "text": [
      "2.10727969348659\n"
     ]
    },
    {
     "name": "stderr",
     "output_type": "stream",
     "text": [
      "C:\\Users\\kiraz\\AppData\\Local\\conda\\conda\\envs\\dsi\\lib\\site-packages\\matplotlib\\axes\\_axes.py:6462: UserWarning: The 'normed' kwarg is deprecated, and has been replaced by the 'density' kwarg.\n",
      "  warnings.warn(\"The 'normed' kwarg is deprecated, and has been \"\n"
     ]
    },
    {
     "data": {
      "image/png": "[encoded data removed]",
      "text/plain": [
       "<Figure size 576x360 with 1 Axes>"
      ]
     },
     "metadata": {
      "image/png": {
       "height": 331,
       "width": 495
      }
     },
     "output_type": "display_data"
    }
   ],
   "source": [
    "# Distribution of Subreddit posts and most have about twice posted\n",
    "print(subs.mean())\n",
    "fig = plt.figure(figsize=(8,5))\n",
    "ax=sns.distplot(subs)\n",
    "plt.axvline(x=subs.mean(), color='black');\n",
    "ax.set(ylabel='Distribution', xlabel='posts in a subreddit', title='Most subreddits  almost twice posts');"
   ]
  },
  {
   "cell_type": "code",
   "execution_count": 23,
   "metadata": {},
   "outputs": [
    {
     "data": {
      "text/plain": [
       "array(['NatureIsFuckingLit', 'pics', 'caps', ..., 'unexpectedfactorial',\n",
       "       'wowthissubexists', 'xkcd'], dtype=object)"
      ]
     },
     "execution_count": 23,
     "metadata": {},
     "output_type": "execute_result"
    }
   ],
   "source": [
    "df['subreddit'].unique()  # unique subreddits"
   ]
  },
  {
   "cell_type": "code",
   "execution_count": 24,
   "metadata": {},
   "outputs": [
    {
     "data": {
      "image/png": "[encoded data removed]",
      "text/plain": [
       "<Figure size 576x360 with 1 Axes>"
      ]
     },
     "metadata": {
      "image/png": {
       "height": 331,
       "width": 504
      }
     },
     "output_type": "display_data"
    }
   ],
   "source": [
    "# checking the top five subreddits, by max number of comments\n",
    "bars=pd.DataFrame(df.groupby('subreddit')['num_comments'].max().sort_values(ascending=False).head(5))\n",
    "bars.reset_index(inplace=True)\n",
    "fig = plt.figure(figsize=(8,5))\n",
    "ax=sns.barplot(x=bars['subreddit'], y=bars['num_comments'])\n",
    "ax.set(ylabel='Max num_Comments', xlabel='subreddit', title='75% of scrapped posts have 115 comments (red line)')\n",
    "plt.axhline(y= 115, color='r');\n",
    "plt.show;"
   ]
  },
  {
   "cell_type": "code",
   "execution_count": 25,
   "metadata": {},
   "outputs": [
    {
     "name": "stdout",
     "output_type": "stream",
     "text": [
      "The median of num_comments by subreddit count     1566.000000\n",
      "mean       298.779055\n",
      "std       1563.340209\n",
      "min          0.000000\n",
      "25%         11.000000\n",
      "50%         33.000000\n",
      "75%        130.000000\n",
      "max      47360.000000\n",
      "Name: num_comments, dtype: float64\n"
     ]
    },
    {
     "data": {
      "text/plain": [
       "subreddit\n",
       "AskReddit             47360\n",
       "todayilearned         20371\n",
       "pics                  12400\n",
       "worldnews             11289\n",
       "videos                10803\n",
       "funny                  9540\n",
       "news                   9410\n",
       "BlackPeopleTwitter     7379\n",
       "gaming                 7376\n",
       "gifs                   7115\n",
       "Name: num_comments, dtype: int64"
      ]
     },
     "execution_count": 25,
     "metadata": {},
     "output_type": "execute_result"
    }
   ],
   "source": [
    "#  Most popular subreddits \n",
    "print('The median of num_comments by subreddit', df.groupby('subreddit')['num_comments'].sum().describe())\n",
    "df.groupby('subreddit')['num_comments'].sum().sort_values(ascending=False).head(10)"
   ]
  },
  {
   "cell_type": "code",
   "execution_count": 26,
   "metadata": {},
   "outputs": [
    {
     "name": "stdout",
     "output_type": "stream",
     "text": [
      "467888 432149 0.923616335533\n"
     ]
    }
   ],
   "source": [
    "#  The third quartile of the top num_ comments \n",
    "subs=df.groupby('subreddit')['num_comments'].sum()\n",
    "x=subs.sum()\n",
    "y=subs[subs>=130].sum()\n",
    "print (x, y, y/x)"
   ]
  },
  {
   "cell_type": "markdown",
   "metadata": {},
   "source": [
    "#### Categorical Variable of most Subreddit popular post"
   ]
  },
  {
   "cell_type": "code",
   "execution_count": 27,
   "metadata": {},
   "outputs": [
    {
     "data": {
      "image/png": "[encoded data removed]",
      "text/plain": [
       "<Figure size 720x576 with 1 Axes>"
      ]
     },
     "metadata": {
      "image/png": {
       "height": 494,
       "width": 621
      }
     },
     "output_type": "display_data"
    }
   ],
   "source": [
    "# Visual view of  top five subreddits\n",
    "bars=pd.DataFrame(df.groupby('subreddit')['num_comments'].sum().sort_values(ascending=False).head(5))\n",
    "bars.reset_index(inplace=True)\n",
    "fig = plt.figure(figsize=(10,8))\n",
    "ax=sns.barplot(x=bars['subreddit'], y=bars['num_comments'])\n",
    "ax.set(ylabel=' Sum of num_Comments', xlabel=' Top Five subreddits', title=' third quartile of subreddits have >130 num_comments (red)')\n",
    "plt.axhline(y=130, color='r');"
   ]
  },
  {
   "cell_type": "code",
   "execution_count": 28,
   "metadata": {},
   "outputs": [
    {
     "data": {
      "text/plain": [
       "38.0"
      ]
     },
     "execution_count": 28,
     "metadata": {},
     "output_type": "execute_result"
    }
   ],
   "source": [
    "med_comments = df['num_comments'].median() \n",
    "med_comments"
   ]
  },
  {
   "cell_type": "code",
   "execution_count": 29,
   "metadata": {},
   "outputs": [
    {
     "data": {
      "text/plain": [
       "27.575757575757574"
      ]
     },
     "execution_count": 29,
     "metadata": {},
     "output_type": "execute_result"
    }
   ],
   "source": [
    "# checking the percentage of posts with more than 100 num_comments\n",
    "(df[df['num_comments']> 100]['num_comments'].count())/len(df)*100"
   ]
  },
  {
   "cell_type": "code",
   "execution_count": 30,
   "metadata": {},
   "outputs": [
    {
     "data": {
      "text/plain": [
       "count    3300.000000\n",
       "mean       56.940303\n",
       "std        57.372707\n",
       "min         2.000000\n",
       "25%        24.000000\n",
       "50%        40.000000\n",
       "75%        70.000000\n",
       "max      1416.000000\n",
       "Name: length, dtype: float64"
      ]
     },
     "execution_count": 30,
     "metadata": {},
     "output_type": "execute_result"
    }
   ],
   "source": [
    "# creating feature for length of title (characters)\n",
    "df['title'] = df['title'].astype(str)\n",
    "df['length'] = df['title'].apply(lambda x: len(x))\n",
    "df['length'].describe()"
   ]
  },
  {
   "cell_type": "code",
   "execution_count": 31,
   "metadata": {},
   "outputs": [
    {
     "data": {
      "text/plain": [
       "array([[ 1.        ,  0.08033472],\n",
       "       [ 0.08033472,  1.        ]])"
      ]
     },
     "execution_count": 31,
     "metadata": {},
     "output_type": "execute_result"
    }
   ],
   "source": [
    "np.corrcoef(df['num_comments'],df['length'])  # correlation of num of comments with title"
   ]
  },
  {
   "cell_type": "code",
   "execution_count": 32,
   "metadata": {},
   "outputs": [
    {
     "data": {
      "image/png": "[encoded data removed]",
      "text/plain": [
       "<Figure size 360x360 with 1 Axes>"
      ]
     },
     "metadata": {
      "image/png": {
       "height": 317,
       "width": 325
      }
     },
     "output_type": "display_data"
    }
   ],
   "source": [
    "sns.set()\n",
    "\n",
    "fig = plt.figure(figsize=(5,5))\n",
    "ax = fig.add_subplot()\n",
    "_ = plt.hist(x=df['length'],bins=100)\n",
    "_ = plt.title('Distribution of post with 40 characters or less title length')"
   ]
  },
  {
   "cell_type": "code",
   "execution_count": 33,
   "metadata": {},
   "outputs": [
    {
     "name": "stderr",
     "output_type": "stream",
     "text": [
      "C:\\Users\\kiraz\\AppData\\Local\\conda\\conda\\envs\\dsi\\lib\\site-packages\\matplotlib\\axes\\_axes.py:6462: UserWarning: The 'normed' kwarg is deprecated, and has been replaced by the 'density' kwarg.\n",
      "  warnings.warn(\"The 'normed' kwarg is deprecated, and has been \"\n"
     ]
    },
    {
     "data": {
      "image/png": "[encoded data removed]",
      "text/plain": [
       "<Figure size 720x360 with 1 Axes>"
      ]
     },
     "metadata": {
      "image/png": {
       "height": 331,
       "width": 618
      }
     },
     "output_type": "display_data"
    }
   ],
   "source": [
    "fig = plt.figure(figsize=(10,5))\n",
    "ax=sns.distplot(df['length'])\n",
    "plt.axvline(x=df['length'].mean(), color='g')\n",
    "ax.set(ylabel='Distribution', xlabel='Length of Title', title='Distribution of post with 40 characters or less title length');"
   ]
  },
  {
   "cell_type": "code",
   "execution_count": 34,
   "metadata": {},
   "outputs": [
    {
     "data": {
      "text/plain": [
       "count    3300.000000\n",
       "mean       56.940303\n",
       "std        57.372707\n",
       "min         2.000000\n",
       "25%        24.000000\n",
       "50%        40.000000\n",
       "75%        70.000000\n",
       "max      1416.000000\n",
       "Name: length, dtype: float64"
      ]
     },
     "execution_count": 34,
     "metadata": {},
     "output_type": "execute_result"
    }
   ],
   "source": [
    "# creating feature for length of title (text feature)\n",
    "df['title'] = df['title'].astype(str)\n",
    "df['length'] = df['title'].apply(lambda x: len(x))\n",
    "df['length'].describe()"
   ]
  },
  {
   "cell_type": "markdown",
   "metadata": {},
   "source": [
    "#####  2.5  Predicting  the Target Variable"
   ]
  },
  {
   "cell_type": "markdown",
   "metadata": {},
   "source": [
    "###### 2.5.1.Creating a Target Variable"
   ]
  },
  {
   "cell_type": "code",
   "execution_count": 35,
   "metadata": {
    "focus": false,
    "id": "ddbc6159-6854-4ca7-857f-bfecdaf6d9c2"
   },
   "outputs": [],
   "source": [
    "## YOUR CODE HERE"
   ]
  },
  {
   "cell_type": "code",
   "execution_count": 36,
   "metadata": {},
   "outputs": [
    {
     "name": "stdout",
     "output_type": "stream",
     "text": [
      "(3300, 25)\n"
     ]
    },
    {
     "data": {
      "text/html": [
       "<div>\n",
       "<style scoped>\n",
       "    .dataframe tbody tr th:only-of-type {\n",
       "        vertical-align: middle;\n",
       "    }\n",
       "\n",
       "    .dataframe tbody tr th {\n",
       "        vertical-align: top;\n",
       "    }\n",
       "\n",
       "    .dataframe thead th {\n",
       "        text-align: right;\n",
       "    }\n",
       "</style>\n",
       "<table border=\"1\" class=\"dataframe\">\n",
       "  <thead>\n",
       "    <tr style=\"text-align: right;\">\n",
       "      <th></th>\n",
       "      <th>author</th>\n",
       "      <th>created</th>\n",
       "      <th>created_utc</th>\n",
       "      <th>domain</th>\n",
       "      <th>fetched time</th>\n",
       "      <th>gilded</th>\n",
       "      <th>id</th>\n",
       "      <th>name</th>\n",
       "      <th>num_comments</th>\n",
       "      <th>score</th>\n",
       "      <th>...</th>\n",
       "      <th>subreddit_type</th>\n",
       "      <th>thumbnail_height</th>\n",
       "      <th>thumbnail_width</th>\n",
       "      <th>title</th>\n",
       "      <th>ups</th>\n",
       "      <th>url</th>\n",
       "      <th>visited</th>\n",
       "      <th>which_sub</th>\n",
       "      <th>length</th>\n",
       "      <th>HIGH_LOW</th>\n",
       "    </tr>\n",
       "  </thead>\n",
       "  <tbody>\n",
       "    <tr>\n",
       "      <th>2</th>\n",
       "      <td>JMyers666</td>\n",
       "      <td>1527758232</td>\n",
       "      <td>1527729432</td>\n",
       "      <td>v.redd.it</td>\n",
       "      <td>2018-05-31 15:35:57.507532+00:00</td>\n",
       "      <td>0</td>\n",
       "      <td>8ndytk</td>\n",
       "      <td>t3_8ndytk</td>\n",
       "      <td>1288</td>\n",
       "      <td>36191</td>\n",
       "      <td>...</td>\n",
       "      <td>public</td>\n",
       "      <td>78.0</td>\n",
       "      <td>140.0</td>\n",
       "      <td>A diver in Belize has made friends with an oc...</td>\n",
       "      <td>36191.0</td>\n",
       "      <td>https://v.redd.it/hpebu4tce3111</td>\n",
       "      <td>False</td>\n",
       "      <td>others</td>\n",
       "      <td>110</td>\n",
       "      <td>1</td>\n",
       "    </tr>\n",
       "    <tr>\n",
       "      <th>3</th>\n",
       "      <td>Endless_Vanity</td>\n",
       "      <td>1527712883</td>\n",
       "      <td>1527684083</td>\n",
       "      <td>i.imgur.com</td>\n",
       "      <td>2018-05-31 10:27:31.504151+00:00</td>\n",
       "      <td>0</td>\n",
       "      <td>8n88yu</td>\n",
       "      <td>t3_8n88yu</td>\n",
       "      <td>170</td>\n",
       "      <td>31998</td>\n",
       "      <td>...</td>\n",
       "      <td>public</td>\n",
       "      <td>140.0</td>\n",
       "      <td>140.0</td>\n",
       "      <td>A plum tree in Japan.</td>\n",
       "      <td>31998.0</td>\n",
       "      <td>https://i.imgur.com/AqKOm52.jpg</td>\n",
       "      <td>False</td>\n",
       "      <td>cat</td>\n",
       "      <td>22</td>\n",
       "      <td>1</td>\n",
       "    </tr>\n",
       "    <tr>\n",
       "      <th>4</th>\n",
       "      <td>WitnessMeIRL</td>\n",
       "      <td>1527904422</td>\n",
       "      <td>1527875622</td>\n",
       "      <td>v.redd.it</td>\n",
       "      <td>2018-06-01 20:49:52.948499+00:00</td>\n",
       "      <td>0</td>\n",
       "      <td>8ntyvl</td>\n",
       "      <td>t3_8ntyvl</td>\n",
       "      <td>69</td>\n",
       "      <td>1691</td>\n",
       "      <td>...</td>\n",
       "      <td>public</td>\n",
       "      <td>74.0</td>\n",
       "      <td>140.0</td>\n",
       "      <td>A relaxing stroll along the river</td>\n",
       "      <td>1691.0</td>\n",
       "      <td>https://v.redd.it/g2w0ug0ygf111</td>\n",
       "      <td>False</td>\n",
       "      <td>others</td>\n",
       "      <td>34</td>\n",
       "      <td>1</td>\n",
       "    </tr>\n",
       "    <tr>\n",
       "      <th>58</th>\n",
       "      <td>I_am_Brooks_Orpik</td>\n",
       "      <td>1527711682</td>\n",
       "      <td>1527682882</td>\n",
       "      <td>self.caps</td>\n",
       "      <td>2018-06-01 00:14:03.297542+00:00</td>\n",
       "      <td>0</td>\n",
       "      <td>8n84d6</td>\n",
       "      <td>t3_8n84d6</td>\n",
       "      <td>47</td>\n",
       "      <td>504</td>\n",
       "      <td>...</td>\n",
       "      <td>public</td>\n",
       "      <td>133.0</td>\n",
       "      <td>140.0</td>\n",
       "      <td>GRIT SCF G2 EDITION</td>\n",
       "      <td>504.0</td>\n",
       "      <td>https://www.reddit.com/r/caps/comments/8n84d6/...</td>\n",
       "      <td>False</td>\n",
       "      <td>others</td>\n",
       "      <td>20</td>\n",
       "      <td>1</td>\n",
       "    </tr>\n",
       "    <tr>\n",
       "      <th>3048</th>\n",
       "      <td>Fleece_It_Out_</td>\n",
       "      <td>1527782695</td>\n",
       "      <td>1527753895</td>\n",
       "      <td>imgur.com</td>\n",
       "      <td>2018-05-31 10:57:07.800747+00:00</td>\n",
       "      <td>0</td>\n",
       "      <td>8ngnlr</td>\n",
       "      <td>t3_8ngnlr</td>\n",
       "      <td>71</td>\n",
       "      <td>49</td>\n",
       "      <td>...</td>\n",
       "      <td>public</td>\n",
       "      <td>140.0</td>\n",
       "      <td>140.0</td>\n",
       "      <td>Just a little curious since no one's interest...</td>\n",
       "      <td>49.0</td>\n",
       "      <td>http://imgur.com/a/2CgPOUJ</td>\n",
       "      <td>False</td>\n",
       "      <td>others</td>\n",
       "      <td>53</td>\n",
       "      <td>1</td>\n",
       "    </tr>\n",
       "  </tbody>\n",
       "</table>\n",
       "<p>5 rows × 25 columns</p>\n",
       "</div>"
      ],
      "text/plain": [
       "                 author     created  created_utc       domain  \\\n",
       "2             JMyers666  1527758232   1527729432    v.redd.it   \n",
       "3        Endless_Vanity  1527712883   1527684083  i.imgur.com   \n",
       "4          WitnessMeIRL  1527904422   1527875622    v.redd.it   \n",
       "58    I_am_Brooks_Orpik  1527711682   1527682882    self.caps   \n",
       "3048     Fleece_It_Out_  1527782695   1527753895    imgur.com   \n",
       "\n",
       "                          fetched time  gilded      id       name  \\\n",
       "2     2018-05-31 15:35:57.507532+00:00       0  8ndytk  t3_8ndytk   \n",
       "3     2018-05-31 10:27:31.504151+00:00       0  8n88yu  t3_8n88yu   \n",
       "4     2018-06-01 20:49:52.948499+00:00       0  8ntyvl  t3_8ntyvl   \n",
       "58    2018-06-01 00:14:03.297542+00:00       0  8n84d6  t3_8n84d6   \n",
       "3048  2018-05-31 10:57:07.800747+00:00       0  8ngnlr  t3_8ngnlr   \n",
       "\n",
       "      num_comments  score    ...     subreddit_type  thumbnail_height  \\\n",
       "2             1288  36191    ...             public              78.0   \n",
       "3              170  31998    ...             public             140.0   \n",
       "4               69   1691    ...             public              74.0   \n",
       "58              47    504    ...             public             133.0   \n",
       "3048            71     49    ...             public             140.0   \n",
       "\n",
       "     thumbnail_width                                              title  \\\n",
       "2              140.0   A diver in Belize has made friends with an oc...   \n",
       "3              140.0                              A plum tree in Japan.   \n",
       "4              140.0                  A relaxing stroll along the river   \n",
       "58             140.0                                GRIT SCF G2 EDITION   \n",
       "3048           140.0   Just a little curious since no one's interest...   \n",
       "\n",
       "          ups                                                url  visited  \\\n",
       "2     36191.0                    https://v.redd.it/hpebu4tce3111    False   \n",
       "3     31998.0                    https://i.imgur.com/AqKOm52.jpg    False   \n",
       "4      1691.0                    https://v.redd.it/g2w0ug0ygf111    False   \n",
       "58      504.0  https://www.reddit.com/r/caps/comments/8n84d6/...    False   \n",
       "3048     49.0                         http://imgur.com/a/2CgPOUJ    False   \n",
       "\n",
       "      which_sub length  HIGH_LOW  \n",
       "2        others    110         1  \n",
       "3           cat     22         1  \n",
       "4        others     34         1  \n",
       "58       others     20         1  \n",
       "3048     others     53         1  \n",
       "\n",
       "[5 rows x 25 columns]"
      ]
     },
     "execution_count": 36,
     "metadata": {},
     "output_type": "execute_result"
    }
   ],
   "source": [
    "# Creating the target variable \n",
    "df['HIGH_LOW']=(df['num_comments']>df['num_comments'].median()).astype(int)\n",
    "print(df.shape)\n",
    "df.head()"
   ]
  },
  {
   "cell_type": "code",
   "execution_count": 37,
   "metadata": {},
   "outputs": [
    {
     "name": "stdout",
     "output_type": "stream",
     "text": [
      "Median: 38.0\n",
      "75th: 264.1199999999999\n",
      "\n",
      "\n",
      "count    3300.000000\n",
      "mean        0.120000\n",
      "std         0.325011\n",
      "min         0.000000\n",
      "25%         0.000000\n",
      "50%         0.000000\n",
      "75%         0.000000\n",
      "max         1.000000\n",
      "Name: HIGH_LOW, dtype: float64\n"
     ]
    },
    {
     "data": {
      "text/html": [
       "<div>\n",
       "<style scoped>\n",
       "    .dataframe tbody tr th:only-of-type {\n",
       "        vertical-align: middle;\n",
       "    }\n",
       "\n",
       "    .dataframe tbody tr th {\n",
       "        vertical-align: top;\n",
       "    }\n",
       "\n",
       "    .dataframe thead th {\n",
       "        text-align: right;\n",
       "    }\n",
       "</style>\n",
       "<table border=\"1\" class=\"dataframe\">\n",
       "  <thead>\n",
       "    <tr style=\"text-align: right;\">\n",
       "      <th></th>\n",
       "      <th>HIGH_LOW</th>\n",
       "      <th>num_comments</th>\n",
       "    </tr>\n",
       "  </thead>\n",
       "  <tbody>\n",
       "    <tr>\n",
       "      <th>2</th>\n",
       "      <td>1</td>\n",
       "      <td>1288</td>\n",
       "    </tr>\n",
       "    <tr>\n",
       "      <th>3</th>\n",
       "      <td>0</td>\n",
       "      <td>170</td>\n",
       "    </tr>\n",
       "    <tr>\n",
       "      <th>4</th>\n",
       "      <td>0</td>\n",
       "      <td>69</td>\n",
       "    </tr>\n",
       "    <tr>\n",
       "      <th>58</th>\n",
       "      <td>0</td>\n",
       "      <td>47</td>\n",
       "    </tr>\n",
       "    <tr>\n",
       "      <th>3048</th>\n",
       "      <td>0</td>\n",
       "      <td>71</td>\n",
       "    </tr>\n",
       "    <tr>\n",
       "      <th>5</th>\n",
       "      <td>0</td>\n",
       "      <td>167</td>\n",
       "    </tr>\n",
       "    <tr>\n",
       "      <th>6</th>\n",
       "      <td>0</td>\n",
       "      <td>12</td>\n",
       "    </tr>\n",
       "    <tr>\n",
       "      <th>7</th>\n",
       "      <td>0</td>\n",
       "      <td>12</td>\n",
       "    </tr>\n",
       "    <tr>\n",
       "      <th>57</th>\n",
       "      <td>0</td>\n",
       "      <td>88</td>\n",
       "    </tr>\n",
       "    <tr>\n",
       "      <th>8</th>\n",
       "      <td>0</td>\n",
       "      <td>73</td>\n",
       "    </tr>\n",
       "    <tr>\n",
       "      <th>9</th>\n",
       "      <td>0</td>\n",
       "      <td>73</td>\n",
       "    </tr>\n",
       "    <tr>\n",
       "      <th>68</th>\n",
       "      <td>0</td>\n",
       "      <td>188</td>\n",
       "    </tr>\n",
       "    <tr>\n",
       "      <th>3288</th>\n",
       "      <td>0</td>\n",
       "      <td>19</td>\n",
       "    </tr>\n",
       "    <tr>\n",
       "      <th>10</th>\n",
       "      <td>0</td>\n",
       "      <td>19</td>\n",
       "    </tr>\n",
       "    <tr>\n",
       "      <th>11</th>\n",
       "      <td>1</td>\n",
       "      <td>793</td>\n",
       "    </tr>\n",
       "    <tr>\n",
       "      <th>12</th>\n",
       "      <td>0</td>\n",
       "      <td>15</td>\n",
       "    </tr>\n",
       "    <tr>\n",
       "      <th>13</th>\n",
       "      <td>1</td>\n",
       "      <td>705</td>\n",
       "    </tr>\n",
       "    <tr>\n",
       "      <th>14</th>\n",
       "      <td>0</td>\n",
       "      <td>34</td>\n",
       "    </tr>\n",
       "    <tr>\n",
       "      <th>15</th>\n",
       "      <td>0</td>\n",
       "      <td>9</td>\n",
       "    </tr>\n",
       "    <tr>\n",
       "      <th>16</th>\n",
       "      <td>0</td>\n",
       "      <td>66</td>\n",
       "    </tr>\n",
       "    <tr>\n",
       "      <th>17</th>\n",
       "      <td>1</td>\n",
       "      <td>362</td>\n",
       "    </tr>\n",
       "    <tr>\n",
       "      <th>18</th>\n",
       "      <td>0</td>\n",
       "      <td>44</td>\n",
       "    </tr>\n",
       "    <tr>\n",
       "      <th>19</th>\n",
       "      <td>0</td>\n",
       "      <td>122</td>\n",
       "    </tr>\n",
       "    <tr>\n",
       "      <th>20</th>\n",
       "      <td>0</td>\n",
       "      <td>137</td>\n",
       "    </tr>\n",
       "    <tr>\n",
       "      <th>21</th>\n",
       "      <td>0</td>\n",
       "      <td>22</td>\n",
       "    </tr>\n",
       "  </tbody>\n",
       "</table>\n",
       "</div>"
      ],
      "text/plain": [
       "      HIGH_LOW  num_comments\n",
       "2            1          1288\n",
       "3            0           170\n",
       "4            0            69\n",
       "58           0            47\n",
       "3048         0            71\n",
       "5            0           167\n",
       "6            0            12\n",
       "7            0            12\n",
       "57           0            88\n",
       "8            0            73\n",
       "9            0            73\n",
       "68           0           188\n",
       "3288         0            19\n",
       "10           0            19\n",
       "11           1           793\n",
       "12           0            15\n",
       "13           1           705\n",
       "14           0            34\n",
       "15           0             9\n",
       "16           0            66\n",
       "17           1           362\n",
       "18           0            44\n",
       "19           0           122\n",
       "20           0           137\n",
       "21           0            22"
      ]
     },
     "execution_count": 37,
     "metadata": {},
     "output_type": "execute_result"
    }
   ],
   "source": [
    "# create binary variable for +/- median number of comments\n",
    "print('Median: {}'.format(np.median(df['num_comments'])))\n",
    "print('75th: {}'.format(np.percentile(df['num_comments'],88)))\n",
    "print('\\n')\n",
    "\n",
    "df['HIGH_LOW'] = df['num_comments'].apply(lambda x: 1 if x > np.percentile(df['num_comments'],88) else 0)\n",
    "\n",
    "#verify\n",
    "print(df['HIGH_LOW'].describe())\n",
    "df[['HIGH_LOW','num_comments']].head(25)"
   ]
  },
  {
   "cell_type": "code",
   "execution_count": 38,
   "metadata": {},
   "outputs": [
    {
     "data": {
      "text/plain": [
       "array([[ 1.        ,  0.49201156],\n",
       "       [ 0.49201156,  1.        ]])"
      ]
     },
     "execution_count": 38,
     "metadata": {},
     "output_type": "execute_result"
    }
   ],
   "source": [
    "np.corrcoef(df['num_comments'],df['score'])  # i tried to see if there is \n",
    "# association between number of comments and score and it was linear and \n",
    "# i droped it from applying for further analysis or as feature.\n"
   ]
  },
  {
   "cell_type": "code",
   "execution_count": 39,
   "metadata": {},
   "outputs": [],
   "source": [
    "#df.to_csv('Pro3ExpFinal0602.csv')"
   ]
  },
  {
   "cell_type": "code",
   "execution_count": null,
   "metadata": {},
   "outputs": [],
   "source": []
  }
 ],
 "metadata": {
  "anaconda-cloud": {},
  "kernelspec": {
   "display_name": "Python [conda env:dsi]",
   "language": "python",
   "name": "conda-env-dsi-py"
  },
  "language_info": {
   "codemirror_mode": {
    "name": "ipython",
    "version": 3
   },
   "file_extension": ".py",
   "mimetype": "text/x-python",
   "name": "python",
   "nbconvert_exporter": "python",
   "pygments_lexer": "ipython3",
   "version": "3.6.5"
  },
  "varInspector": {
   "cols": {
    "lenName": 16,
    "lenType": 16,
    "lenVar": 40
   },
   "kernels_config": {
    "python": {
     "delete_cmd_postfix": "",
     "delete_cmd_prefix": "del ",
     "library": "var_list.py",
     "varRefreshCmd": "print(var_dic_list())"
    },
    "r": {
     "delete_cmd_postfix": ") ",
     "delete_cmd_prefix": "rm(",
     "library": "var_list.r",
     "varRefreshCmd": "cat(var_dic_list()) "
    }
   },
   "types_to_exclude": [
    "module",
    "function",
    "builtin_function_or_method",
    "instance",
    "_Feature"
   ],
   "window_display": false
  }
 },
 "nbformat": 4,
 "nbformat_minor": 1
}
